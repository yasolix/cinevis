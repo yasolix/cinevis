{
 "cells": [
  {
   "cell_type": "markdown",
   "metadata": {
    "collapsed": true,
    "deletable": true,
    "editable": true
   },
   "source": [
    "## Fear Prediction with Audio Visual features"
   ]
  },
  {
   "cell_type": "code",
   "execution_count": null,
   "metadata": {
    "collapsed": true,
    "deletable": true,
    "editable": true
   },
   "outputs": [],
   "source": []
  },
  {
   "cell_type": "code",
   "execution_count": 1,
   "metadata": {
    "collapsed": true,
    "deletable": true,
    "editable": true
   },
   "outputs": [],
   "source": [
    "import numpy as np\n",
    "import pylab as pl\n",
    "import re, fileinput\n",
    "import os.path\n",
    "import glob\n",
    "\n",
    "import pandas as pd\n",
    "from pandas import DataFrame, Series\n",
    "\n",
    "import matplotlib.pyplot as plt\n",
    "import matplotlib.colors as colors\n",
    "\n",
    "\n",
    "import matplotlib\n",
    "matplotlib.style.use('ggplot')\n",
    "\n",
    "%matplotlib inline"
   ]
  },
  {
   "cell_type": "code",
   "execution_count": 2,
   "metadata": {
    "collapsed": true,
    "deletable": true,
    "editable": true
   },
   "outputs": [],
   "source": [
    "from sklearn.metrics import accuracy_score\n",
    "from sklearn import preprocessing\n",
    "from sklearn import metrics\n",
    "from sklearn.svm import LinearSVC\n",
    "from sklearn.svm import SVC\n",
    "from sklearn import svm\n",
    "from sklearn.svm import SVR\n",
    "from sklearn.metrics import mean_squared_error\n",
    "from sklearn.model_selection import train_test_split, cross_val_score\n",
    "import scipy\n",
    "from scipy.stats import pearsonr"
   ]
  },
  {
   "cell_type": "code",
   "execution_count": 3,
   "metadata": {
    "collapsed": true,
    "deletable": true,
    "editable": true
   },
   "outputs": [],
   "source": [
    "\n",
    "med2017home = '/home/deepuser/yasemin/'\n",
    "# Input data\n",
    "movieNames = ['After_The_Rain','Attitude_Matters','Barely_legal_stories','Between_Viewings','Big_Buck_Bunny','Chatter','Cloudland','Damaged_Kung_Fu','Decay','Elephant_s_Dream','First_Bite','Full_Service','Islands','Lesson_Learned','Norm','Nuclear_Family','On_time','Origami','Parafundit','Payload','Riding_The_Rails','Sintel','Spaceman','Superhero','Tears_of_Steel','The_room_of_franz_kafka','The_secret_number','To_Claire_From_Sonny','Wanted','You_Again']\n",
    "\n",
    "pathcontinuous = med2017home\n",
    "continuousAnnotationsFolder = pathcontinuous +'continuous-annotations/'\n",
    "devdatacontinous =  pathcontinuous + \"continuous-movies/\"\n",
    "#pathcontfeatures = \"/home/yt/Desktop/cvpr2014/repro/mediaeval/data/dataset/Continuous/features-out-1/\"\n",
    "\n",
    "med2017visualFeaturesfolder= med2017home + 'MEDIAEVAL17-DevSet-Visual_features/features/'\n",
    "med2017audiofolder= med2017home + 'MEDIAEVAL17-DevSet-Audio_features/features/'\n",
    "med2017annotationsFolder = med2017home + 'MEDIAEVAL17-DevSet-Valence_Arousal-annotations/annotations/'\n",
    "med2017fearFolder = med2017home + 'MEDIAEVAL17-DevSet-Fear-annotations/annotations/'\n"
   ]
  },
  {
   "cell_type": "code",
   "execution_count": 4,
   "metadata": {
    "collapsed": true,
    "deletable": true,
    "editable": true
   },
   "outputs": [],
   "source": [
    "med2017visualFeaturesfolderTest= med2017home + 'MEDIAEVAL17-TestSet-Visual_features/visual_features/'\n",
    "med2017audiofolderTest = med2017home + 'MEDIAEVAL17-TestSet-Audio_features/audio_features/'\n",
    "med2017datafolderTest = med2017home + 'MEDIAEVAL17-TestSet-Data/data/'\n"
   ]
  },
  {
   "cell_type": "code",
   "execution_count": 5,
   "metadata": {
    "collapsed": true,
    "deletable": true,
    "editable": true
   },
   "outputs": [],
   "source": [
    "files = glob.glob(med2017datafolderTest+'*')\n",
    "testmovienames =[ f.split('/')[-1].replace('.mp4','') for f in sorted(files) ]"
   ]
  },
  {
   "cell_type": "code",
   "execution_count": 6,
   "metadata": {
    "collapsed": true,
    "deletable": true,
    "editable": true
   },
   "outputs": [],
   "source": [
    "files = glob.glob(devdatacontinous+'*')\n",
    "devmovienames =[ f.split('/')[-1].replace('.mp4','') for f in sorted(files) ]"
   ]
  },
  {
   "cell_type": "code",
   "execution_count": 7,
   "metadata": {
    "collapsed": false,
    "deletable": true,
    "editable": true
   },
   "outputs": [
    {
     "data": {
      "text/plain": [
       "'/home/deepuser/yasemin/MEDIAEVAL17-TestSet-Data/data/'"
      ]
     },
     "execution_count": 7,
     "metadata": {},
     "output_type": "execute_result"
    }
   ],
   "source": [
    "med2017datafolderTest"
   ]
  },
  {
   "cell_type": "code",
   "execution_count": 8,
   "metadata": {
    "collapsed": false,
    "deletable": true,
    "editable": true
   },
   "outputs": [
    {
     "data": {
      "text/plain": [
       "0"
      ]
     },
     "execution_count": 8,
     "metadata": {},
     "output_type": "execute_result"
    }
   ],
   "source": [
    "len(testmovienames)"
   ]
  },
  {
   "cell_type": "code",
   "execution_count": 9,
   "metadata": {
    "collapsed": false,
    "deletable": true,
    "editable": true
   },
   "outputs": [
    {
     "data": {
      "text/plain": [
       "0"
      ]
     },
     "execution_count": 9,
     "metadata": {},
     "output_type": "execute_result"
    }
   ],
   "source": [
    "len(devmovienames)"
   ]
  },
  {
   "cell_type": "code",
   "execution_count": 10,
   "metadata": {
    "collapsed": true,
    "deletable": true,
    "editable": true
   },
   "outputs": [],
   "source": [
    "groups = {\n",
    "    0:['You_Again','Damaged_Kung_Fu','The_secret_number','Spaceman'],\n",
    "    1:['Cloudland','Origami','Riding_The_Rails','Tears_of_Steel','Sintel'],\n",
    "    2:['On_time','Elephant_s_Dream','Norm','Big_Buck_Bunny','Chatter','Full_Service'],\n",
    "    3:['Islands','To_Claire_From_Sonny','Nuclear_Family','After_The_Rain','Parafundit'],\n",
    "    4:['Decay'],\n",
    "    5:['The_room_of_franz_kafka','Attitude_Matters','Lesson_Learned','Superhero'],\n",
    "    6:['First_Bite','Wanted','Between_Viewings','Barely_legal_stories','Payload']\n",
    "}"
   ]
  },
  {
   "cell_type": "code",
   "execution_count": 11,
   "metadata": {
    "collapsed": true,
    "deletable": true,
    "editable": true
   },
   "outputs": [],
   "source": [
    "def gettraintestmovielist(groupno):\n",
    "    testlist = groups[groupno]\n",
    "    trainlist =[]\n",
    "    for idx, group in enumerate(groups):\n",
    "        if idx != groupno:\n",
    "            for g in groups[idx]:\n",
    "                trainlist.append(g)\n",
    "    return trainlist, testlist\n",
    "\n"
   ]
  },
  {
   "cell_type": "code",
   "execution_count": 12,
   "metadata": {
    "collapsed": true,
    "deletable": true,
    "editable": true
   },
   "outputs": [],
   "source": [
    "trainlist, testlist=gettraintestmovielist(1)  # index 1 olanları test , diğerlerini train yapan fonksiyon"
   ]
  },
  {
   "cell_type": "markdown",
   "metadata": {
    "deletable": true,
    "editable": true
   },
   "source": [
    "## Fear Annotations"
   ]
  },
  {
   "cell_type": "code",
   "execution_count": 13,
   "metadata": {
    "collapsed": true,
    "deletable": true,
    "editable": true
   },
   "outputs": [],
   "source": [
    "def getFearDf(movname):\n",
    "    filename = os.path.join(med2017fearFolder, movname + '-MEDIAEVAL2017-fear.txt')\n",
    "    annotation = np.genfromtxt(filename, names=True, delimiter='\\t', dtype=None)\n",
    "    df = pd.DataFrame(annotation)\n",
    "    return df\n"
   ]
  },
  {
   "cell_type": "markdown",
   "metadata": {
    "deletable": true,
    "editable": true
   },
   "source": [
    "## Audio Features"
   ]
  },
  {
   "cell_type": "code",
   "execution_count": 14,
   "metadata": {
    "collapsed": true,
    "deletable": true,
    "editable": true
   },
   "outputs": [],
   "source": [
    "def getAudioDf(moviename,folder=med2017audiofolder):\n",
    "    if 'TestSet' in folder:\n",
    "        files = glob.glob(folder+moviename+'/audio_features/*.csv')\n",
    "    else:\n",
    "        files = glob.glob(folder+moviename+'/*.csv')\n",
    "    files = sorted(files)\n",
    "    files\n",
    "    alist = []\n",
    "    for fname in files:\n",
    "        f=open(fname,'r')\n",
    "        h = []\n",
    "        for l in f :\n",
    "            if '@attribute' in l:\n",
    "                h.append(l.split()[1])\n",
    "            elif l == '\\n':\n",
    "                l\n",
    "            elif l[0] =='@':\n",
    "                l\n",
    "            else:\n",
    "                alist.append(map(float,l.split(',')[1:])) #first attribute is string ,skipped\n",
    "        f.close()\n",
    "    \n",
    "    return pd.DataFrame(alist,columns=h[1:])"
   ]
  },
  {
   "cell_type": "code",
   "execution_count": 15,
   "metadata": {
    "collapsed": true,
    "deletable": true,
    "editable": true
   },
   "outputs": [],
   "source": [
    "def getMovieListAudioFearDf(movieNames,folder=med2017audiofolder):\n",
    "    Xa = getAudioDf(movieNames[0],folder)\n",
    "    y = getFearDf(movieNames[0]).Fear\n",
    "    \n",
    "    mlen = min(len(Xa),len(y))\n",
    "    Xa = Xa[:mlen]\n",
    "    y = y[:mlen]\n",
    "    \n",
    "    for mov in movieNames[1:]:\n",
    "        tXa = getAudioDf(mov)\n",
    "        ty = getFearDf(mov).Fear\n",
    "        \n",
    "        mlen = min(len(tXa),len(ty))\n",
    "        tXa = tXa[:mlen]\n",
    "        ty = ty[:mlen]\n",
    "    \n",
    "        Xa  = Xa.append(tXa)\n",
    "        y  = y.append(ty)\n",
    "        \n",
    "    return Xa,y"
   ]
  },
  {
   "cell_type": "code",
   "execution_count": 16,
   "metadata": {
    "collapsed": true,
    "deletable": true,
    "editable": true
   },
   "outputs": [],
   "source": [
    "#movielisttrain, movielisttest=gettraintestmovielist(1)\n",
    "#Xtrain, ytrain = getMovieListAudioFearDf(movielisttrain)\n",
    "#Xtest, ytest = getMovieListAudioFearDf(movielisttest)\n",
    "#Xtrain.shape, Xtest.shape, ytrain.shape,ytest.shape"
   ]
  },
  {
   "cell_type": "code",
   "execution_count": null,
   "metadata": {
    "collapsed": true,
    "deletable": true,
    "editable": true
   },
   "outputs": [],
   "source": []
  },
  {
   "cell_type": "code",
   "execution_count": null,
   "metadata": {
    "collapsed": false,
    "deletable": true,
    "editable": true
   },
   "outputs": [],
   "source": [
    "getAudioDf('MEDIAEVAL17_00',folder=med2017audiofolderTest).tail()"
   ]
  },
  {
   "cell_type": "code",
   "execution_count": null,
   "metadata": {
    "collapsed": false,
    "deletable": true,
    "editable": true
   },
   "outputs": [],
   "source": [
    "getAudioDf(movieNames[0]).tail()"
   ]
  },
  {
   "cell_type": "code",
   "execution_count": 20,
   "metadata": {
    "collapsed": false,
    "deletable": true,
    "editable": true
   },
   "outputs": [
    {
     "data": {
      "text/html": [
       "<div>\n",
       "<style>\n",
       "    .dataframe thead tr:only-child th {\n",
       "        text-align: right;\n",
       "    }\n",
       "\n",
       "    .dataframe thead th {\n",
       "        text-align: left;\n",
       "    }\n",
       "\n",
       "    .dataframe tbody tr th {\n",
       "        vertical-align: top;\n",
       "    }\n",
       "</style>\n",
       "<table border=\"1\" class=\"dataframe\">\n",
       "  <thead>\n",
       "    <tr style=\"text-align: right;\">\n",
       "      <th></th>\n",
       "      <th>Id</th>\n",
       "      <th>Time</th>\n",
       "      <th>Fear</th>\n",
       "    </tr>\n",
       "  </thead>\n",
       "  <tbody>\n",
       "    <tr>\n",
       "      <th>112</th>\n",
       "      <td>112</td>\n",
       "      <td>560</td>\n",
       "      <td>0</td>\n",
       "    </tr>\n",
       "    <tr>\n",
       "      <th>113</th>\n",
       "      <td>113</td>\n",
       "      <td>565</td>\n",
       "      <td>0</td>\n",
       "    </tr>\n",
       "    <tr>\n",
       "      <th>114</th>\n",
       "      <td>114</td>\n",
       "      <td>570</td>\n",
       "      <td>0</td>\n",
       "    </tr>\n",
       "    <tr>\n",
       "      <th>115</th>\n",
       "      <td>115</td>\n",
       "      <td>575</td>\n",
       "      <td>0</td>\n",
       "    </tr>\n",
       "    <tr>\n",
       "      <th>116</th>\n",
       "      <td>116</td>\n",
       "      <td>580</td>\n",
       "      <td>0</td>\n",
       "    </tr>\n",
       "  </tbody>\n",
       "</table>\n",
       "</div>"
      ],
      "text/plain": [
       "      Id  Time  Fear\n",
       "112  112   560     0\n",
       "113  113   565     0\n",
       "114  114   570     0\n",
       "115  115   575     0\n",
       "116  116   580     0"
      ]
     },
     "execution_count": 20,
     "metadata": {},
     "output_type": "execute_result"
    }
   ],
   "source": [
    "getFearDf(movieNames[0]).tail()"
   ]
  },
  {
   "cell_type": "markdown",
   "metadata": {
    "deletable": true,
    "editable": true
   },
   "source": [
    "## Visual Features"
   ]
  },
  {
   "cell_type": "code",
   "execution_count": 19,
   "metadata": {
    "collapsed": true,
    "deletable": true,
    "editable": true
   },
   "outputs": [],
   "source": [
    "visual_feat = ['acc', 'cedd', 'cl', 'eh', 'fc6', 'fcth', \n",
    "               'gabor', 'jcd', 'lbp', 'sc', 'tamura'   ]"
   ]
  },
  {
   "cell_type": "code",
   "execution_count": 20,
   "metadata": {
    "collapsed": true,
    "deletable": true,
    "editable": true
   },
   "outputs": [],
   "source": [
    "def getVisFeatureDf(moviename,typename):\n",
    "    files = glob.glob(med2017visualFeaturesfolder+moviename+'/'+typename+'/*.txt')\n",
    "    files = sorted(files)\n",
    "    alist = []\n",
    "    for fname in files:\n",
    "        f=open(fname,'r')\n",
    "        for l in f:\n",
    "            alist.append(map(float,l.split(',')))\n",
    "        f.close()\n",
    "    return pd.DataFrame(alist)\n",
    "\n",
    "def getAvgVisFeatureDf(moviename,typename):\n",
    "    df = getVisFeatureDf(moviename,typename)\n",
    "    dfwindow = df.rolling(10).mean()[10::5]\n",
    "    dfwindow.reset_index(inplace=True)\n",
    "    dfwindow.drop('index',axis=1,inplace=True)\n",
    "    return dfwindow\n",
    "\n",
    "def getAvgVisFeatListDf(moviename,featlist):\n",
    "    df = getVisFeatureDf(moviename,featlist[0])\n",
    "    for feat in featlist[1:]:\n",
    "        tdf = getVisFeatureDf(moviename,feat)\n",
    "        df = pd.concat([df,tdf],axis=1)\n",
    "    \n",
    "    dfwindow = df.rolling(10).mean()[10::5]\n",
    "    dfwindow.reset_index(inplace=True)\n",
    "    dfwindow.drop('index',axis=1,inplace=True)\n",
    "    dfwindow.columns=list(range(len(dfwindow.columns)))\n",
    "    return dfwindow"
   ]
  },
  {
   "cell_type": "code",
   "execution_count": 21,
   "metadata": {
    "collapsed": true,
    "deletable": true,
    "editable": true
   },
   "outputs": [],
   "source": [
    "def getMovListVisFearDf(movieNames,featname):\n",
    "    X = getAvgVisFeatureDf(movieNames[0],featname)\n",
    "    y = getFearDf(movieNames[0]).Fear[:len(X)]\n",
    "\n",
    "    for mov in movieNames[1:]:\n",
    "        tX = getAvgVisFeatureDf(mov,featname)\n",
    "        ty = getFearDf(mov).Fear[:len(tX)]\n",
    "        X  = X.append(tX)\n",
    "        y  = y.append(ty)\n",
    "        \n",
    "    return X,y"
   ]
  },
  {
   "cell_type": "code",
   "execution_count": 22,
   "metadata": {
    "collapsed": false,
    "deletable": true,
    "editable": true
   },
   "outputs": [
    {
     "data": {
      "text/html": [
       "<div>\n",
       "<style>\n",
       "    .dataframe thead tr:only-child th {\n",
       "        text-align: right;\n",
       "    }\n",
       "\n",
       "    .dataframe thead th {\n",
       "        text-align: left;\n",
       "    }\n",
       "\n",
       "    .dataframe tbody tr th {\n",
       "        vertical-align: top;\n",
       "    }\n",
       "</style>\n",
       "<table border=\"1\" class=\"dataframe\">\n",
       "  <thead>\n",
       "    <tr style=\"text-align: right;\">\n",
       "      <th></th>\n",
       "      <th>0</th>\n",
       "      <th>1</th>\n",
       "      <th>2</th>\n",
       "      <th>3</th>\n",
       "      <th>4</th>\n",
       "      <th>5</th>\n",
       "      <th>6</th>\n",
       "      <th>7</th>\n",
       "      <th>8</th>\n",
       "      <th>9</th>\n",
       "      <th>...</th>\n",
       "      <th>23</th>\n",
       "      <th>24</th>\n",
       "      <th>25</th>\n",
       "      <th>26</th>\n",
       "      <th>27</th>\n",
       "      <th>28</th>\n",
       "      <th>29</th>\n",
       "      <th>30</th>\n",
       "      <th>31</th>\n",
       "      <th>32</th>\n",
       "    </tr>\n",
       "  </thead>\n",
       "  <tbody>\n",
       "    <tr>\n",
       "      <th>1364</th>\n",
       "      <td>2.0</td>\n",
       "      <td>16.0</td>\n",
       "      <td>16.0</td>\n",
       "      <td>16.0</td>\n",
       "      <td>16.0</td>\n",
       "      <td>16.0</td>\n",
       "      <td>16.0</td>\n",
       "      <td>16.0</td>\n",
       "      <td>16.0</td>\n",
       "      <td>16.0</td>\n",
       "      <td>...</td>\n",
       "      <td>16.0</td>\n",
       "      <td>16.0</td>\n",
       "      <td>16.0</td>\n",
       "      <td>16.0</td>\n",
       "      <td>32.0</td>\n",
       "      <td>16.0</td>\n",
       "      <td>16.0</td>\n",
       "      <td>16.0</td>\n",
       "      <td>16.0</td>\n",
       "      <td>16.0</td>\n",
       "    </tr>\n",
       "    <tr>\n",
       "      <th>1365</th>\n",
       "      <td>2.0</td>\n",
       "      <td>16.0</td>\n",
       "      <td>16.0</td>\n",
       "      <td>16.0</td>\n",
       "      <td>16.0</td>\n",
       "      <td>16.0</td>\n",
       "      <td>16.0</td>\n",
       "      <td>16.0</td>\n",
       "      <td>16.0</td>\n",
       "      <td>16.0</td>\n",
       "      <td>...</td>\n",
       "      <td>16.0</td>\n",
       "      <td>16.0</td>\n",
       "      <td>16.0</td>\n",
       "      <td>16.0</td>\n",
       "      <td>32.0</td>\n",
       "      <td>16.0</td>\n",
       "      <td>16.0</td>\n",
       "      <td>16.0</td>\n",
       "      <td>16.0</td>\n",
       "      <td>16.0</td>\n",
       "    </tr>\n",
       "    <tr>\n",
       "      <th>1366</th>\n",
       "      <td>2.0</td>\n",
       "      <td>16.0</td>\n",
       "      <td>16.0</td>\n",
       "      <td>16.0</td>\n",
       "      <td>16.0</td>\n",
       "      <td>16.0</td>\n",
       "      <td>16.0</td>\n",
       "      <td>16.0</td>\n",
       "      <td>16.0</td>\n",
       "      <td>16.0</td>\n",
       "      <td>...</td>\n",
       "      <td>16.0</td>\n",
       "      <td>16.0</td>\n",
       "      <td>16.0</td>\n",
       "      <td>16.0</td>\n",
       "      <td>32.0</td>\n",
       "      <td>16.0</td>\n",
       "      <td>16.0</td>\n",
       "      <td>16.0</td>\n",
       "      <td>16.0</td>\n",
       "      <td>16.0</td>\n",
       "    </tr>\n",
       "    <tr>\n",
       "      <th>1367</th>\n",
       "      <td>2.0</td>\n",
       "      <td>16.0</td>\n",
       "      <td>16.0</td>\n",
       "      <td>16.0</td>\n",
       "      <td>16.0</td>\n",
       "      <td>16.0</td>\n",
       "      <td>16.0</td>\n",
       "      <td>16.0</td>\n",
       "      <td>16.0</td>\n",
       "      <td>16.0</td>\n",
       "      <td>...</td>\n",
       "      <td>16.0</td>\n",
       "      <td>16.0</td>\n",
       "      <td>16.0</td>\n",
       "      <td>16.0</td>\n",
       "      <td>32.0</td>\n",
       "      <td>16.0</td>\n",
       "      <td>16.0</td>\n",
       "      <td>16.0</td>\n",
       "      <td>16.0</td>\n",
       "      <td>16.0</td>\n",
       "    </tr>\n",
       "    <tr>\n",
       "      <th>1368</th>\n",
       "      <td>2.0</td>\n",
       "      <td>16.0</td>\n",
       "      <td>16.0</td>\n",
       "      <td>16.0</td>\n",
       "      <td>16.0</td>\n",
       "      <td>16.0</td>\n",
       "      <td>16.0</td>\n",
       "      <td>16.0</td>\n",
       "      <td>16.0</td>\n",
       "      <td>16.0</td>\n",
       "      <td>...</td>\n",
       "      <td>16.0</td>\n",
       "      <td>16.0</td>\n",
       "      <td>16.0</td>\n",
       "      <td>16.0</td>\n",
       "      <td>32.0</td>\n",
       "      <td>16.0</td>\n",
       "      <td>16.0</td>\n",
       "      <td>16.0</td>\n",
       "      <td>16.0</td>\n",
       "      <td>16.0</td>\n",
       "    </tr>\n",
       "    <tr>\n",
       "      <th>1369</th>\n",
       "      <td>2.0</td>\n",
       "      <td>16.0</td>\n",
       "      <td>16.0</td>\n",
       "      <td>16.0</td>\n",
       "      <td>16.0</td>\n",
       "      <td>16.0</td>\n",
       "      <td>16.0</td>\n",
       "      <td>16.0</td>\n",
       "      <td>16.0</td>\n",
       "      <td>16.0</td>\n",
       "      <td>...</td>\n",
       "      <td>16.0</td>\n",
       "      <td>16.0</td>\n",
       "      <td>16.0</td>\n",
       "      <td>16.0</td>\n",
       "      <td>32.0</td>\n",
       "      <td>16.0</td>\n",
       "      <td>16.0</td>\n",
       "      <td>16.0</td>\n",
       "      <td>16.0</td>\n",
       "      <td>16.0</td>\n",
       "    </tr>\n",
       "    <tr>\n",
       "      <th>1370</th>\n",
       "      <td>2.0</td>\n",
       "      <td>16.0</td>\n",
       "      <td>16.0</td>\n",
       "      <td>16.0</td>\n",
       "      <td>16.0</td>\n",
       "      <td>16.0</td>\n",
       "      <td>16.0</td>\n",
       "      <td>16.0</td>\n",
       "      <td>16.0</td>\n",
       "      <td>16.0</td>\n",
       "      <td>...</td>\n",
       "      <td>16.0</td>\n",
       "      <td>16.0</td>\n",
       "      <td>16.0</td>\n",
       "      <td>16.0</td>\n",
       "      <td>32.0</td>\n",
       "      <td>16.0</td>\n",
       "      <td>16.0</td>\n",
       "      <td>16.0</td>\n",
       "      <td>16.0</td>\n",
       "      <td>16.0</td>\n",
       "    </tr>\n",
       "    <tr>\n",
       "      <th>1371</th>\n",
       "      <td>2.0</td>\n",
       "      <td>16.0</td>\n",
       "      <td>16.0</td>\n",
       "      <td>16.0</td>\n",
       "      <td>16.0</td>\n",
       "      <td>16.0</td>\n",
       "      <td>16.0</td>\n",
       "      <td>16.0</td>\n",
       "      <td>16.0</td>\n",
       "      <td>16.0</td>\n",
       "      <td>...</td>\n",
       "      <td>16.0</td>\n",
       "      <td>16.0</td>\n",
       "      <td>16.0</td>\n",
       "      <td>16.0</td>\n",
       "      <td>32.0</td>\n",
       "      <td>16.0</td>\n",
       "      <td>16.0</td>\n",
       "      <td>16.0</td>\n",
       "      <td>16.0</td>\n",
       "      <td>16.0</td>\n",
       "    </tr>\n",
       "    <tr>\n",
       "      <th>1372</th>\n",
       "      <td>2.0</td>\n",
       "      <td>16.0</td>\n",
       "      <td>16.0</td>\n",
       "      <td>16.0</td>\n",
       "      <td>16.0</td>\n",
       "      <td>16.0</td>\n",
       "      <td>16.0</td>\n",
       "      <td>16.0</td>\n",
       "      <td>16.0</td>\n",
       "      <td>16.0</td>\n",
       "      <td>...</td>\n",
       "      <td>16.0</td>\n",
       "      <td>16.0</td>\n",
       "      <td>16.0</td>\n",
       "      <td>16.0</td>\n",
       "      <td>32.0</td>\n",
       "      <td>16.0</td>\n",
       "      <td>16.0</td>\n",
       "      <td>16.0</td>\n",
       "      <td>16.0</td>\n",
       "      <td>16.0</td>\n",
       "    </tr>\n",
       "    <tr>\n",
       "      <th>1373</th>\n",
       "      <td>2.0</td>\n",
       "      <td>16.0</td>\n",
       "      <td>16.0</td>\n",
       "      <td>16.0</td>\n",
       "      <td>16.0</td>\n",
       "      <td>16.0</td>\n",
       "      <td>16.0</td>\n",
       "      <td>16.0</td>\n",
       "      <td>16.0</td>\n",
       "      <td>16.0</td>\n",
       "      <td>...</td>\n",
       "      <td>16.0</td>\n",
       "      <td>16.0</td>\n",
       "      <td>16.0</td>\n",
       "      <td>16.0</td>\n",
       "      <td>32.0</td>\n",
       "      <td>16.0</td>\n",
       "      <td>16.0</td>\n",
       "      <td>16.0</td>\n",
       "      <td>16.0</td>\n",
       "      <td>16.0</td>\n",
       "    </tr>\n",
       "  </tbody>\n",
       "</table>\n",
       "<p>10 rows × 33 columns</p>\n",
       "</div>"
      ],
      "text/plain": [
       "       0     1     2     3     4     5     6     7     8     9   ...     23  \\\n",
       "1364  2.0  16.0  16.0  16.0  16.0  16.0  16.0  16.0  16.0  16.0  ...   16.0   \n",
       "1365  2.0  16.0  16.0  16.0  16.0  16.0  16.0  16.0  16.0  16.0  ...   16.0   \n",
       "1366  2.0  16.0  16.0  16.0  16.0  16.0  16.0  16.0  16.0  16.0  ...   16.0   \n",
       "1367  2.0  16.0  16.0  16.0  16.0  16.0  16.0  16.0  16.0  16.0  ...   16.0   \n",
       "1368  2.0  16.0  16.0  16.0  16.0  16.0  16.0  16.0  16.0  16.0  ...   16.0   \n",
       "1369  2.0  16.0  16.0  16.0  16.0  16.0  16.0  16.0  16.0  16.0  ...   16.0   \n",
       "1370  2.0  16.0  16.0  16.0  16.0  16.0  16.0  16.0  16.0  16.0  ...   16.0   \n",
       "1371  2.0  16.0  16.0  16.0  16.0  16.0  16.0  16.0  16.0  16.0  ...   16.0   \n",
       "1372  2.0  16.0  16.0  16.0  16.0  16.0  16.0  16.0  16.0  16.0  ...   16.0   \n",
       "1373  2.0  16.0  16.0  16.0  16.0  16.0  16.0  16.0  16.0  16.0  ...   16.0   \n",
       "\n",
       "        24    25    26    27    28    29    30    31    32  \n",
       "1364  16.0  16.0  16.0  32.0  16.0  16.0  16.0  16.0  16.0  \n",
       "1365  16.0  16.0  16.0  32.0  16.0  16.0  16.0  16.0  16.0  \n",
       "1366  16.0  16.0  16.0  32.0  16.0  16.0  16.0  16.0  16.0  \n",
       "1367  16.0  16.0  16.0  32.0  16.0  16.0  16.0  16.0  16.0  \n",
       "1368  16.0  16.0  16.0  32.0  16.0  16.0  16.0  16.0  16.0  \n",
       "1369  16.0  16.0  16.0  32.0  16.0  16.0  16.0  16.0  16.0  \n",
       "1370  16.0  16.0  16.0  32.0  16.0  16.0  16.0  16.0  16.0  \n",
       "1371  16.0  16.0  16.0  32.0  16.0  16.0  16.0  16.0  16.0  \n",
       "1372  16.0  16.0  16.0  32.0  16.0  16.0  16.0  16.0  16.0  \n",
       "1373  16.0  16.0  16.0  32.0  16.0  16.0  16.0  16.0  16.0  \n",
       "\n",
       "[10 rows x 33 columns]"
      ]
     },
     "execution_count": 22,
     "metadata": {},
     "output_type": "execute_result"
    }
   ],
   "source": [
    "getVisFeatureDf(movieNames[1],'cl').tail(10)"
   ]
  },
  {
   "cell_type": "code",
   "execution_count": 25,
   "metadata": {
    "collapsed": true,
    "deletable": true,
    "editable": true
   },
   "outputs": [],
   "source": [
    "#getAvgVisFeatureDf(movieNames[0],'cl').tail()"
   ]
  },
  {
   "cell_type": "code",
   "execution_count": 26,
   "metadata": {
    "collapsed": true,
    "deletable": true,
    "editable": true
   },
   "outputs": [],
   "source": [
    "#getAvgVisFeatListDf(movieNames[0],['cl']).tail()"
   ]
  },
  {
   "cell_type": "code",
   "execution_count": null,
   "metadata": {
    "collapsed": true,
    "deletable": true,
    "editable": true
   },
   "outputs": [],
   "source": []
  },
  {
   "cell_type": "code",
   "execution_count": 27,
   "metadata": {
    "collapsed": true,
    "deletable": true,
    "editable": true
   },
   "outputs": [],
   "source": [
    "#getMovListVisFearDf(movieNames[:2],'cl')"
   ]
  },
  {
   "cell_type": "code",
   "execution_count": 23,
   "metadata": {
    "collapsed": true,
    "deletable": true,
    "editable": true
   },
   "outputs": [],
   "source": [
    "def getMovListVisFusionFearDf(movieNames,featlist):\n",
    "    X,y = getMovListVisFearDf(movieNames,featlist[0])\n",
    "    # y is the target value and it is equal for all feature type \n",
    "    for feattype in featlist[1:] :\n",
    "        tX, y = getMovListVisFearDf(movieNames,feattype)\n",
    "        X = pd.concat( [X,tX], axis=1 )\n",
    "    return X,y"
   ]
  },
  {
   "cell_type": "code",
   "execution_count": 24,
   "metadata": {
    "collapsed": true,
    "deletable": true,
    "editable": true
   },
   "outputs": [],
   "source": [
    "#xX,ty = getMovListVisFusionFearDf(movieNames[:2],['cl','gabor'])\n",
    "#xX.shape,ty.shape"
   ]
  },
  {
   "cell_type": "code",
   "execution_count": 25,
   "metadata": {
    "collapsed": true,
    "deletable": true,
    "editable": true
   },
   "outputs": [],
   "source": [
    "def getMovListAudioVisFearFeatListDf(movieNames,featlist):\n",
    "    Xv = getAvgVisFeatureDf(movieNames[0],featlist[0])\n",
    "    Xa = getAudioDf(movieNames[0])\n",
    "    y = getFearDf(movieNames[0]).Fear\n",
    "    \n",
    "    mlen = min(len(Xv),len(Xa),len(y))\n",
    "    \n",
    "    Xv = Xv[:mlen]\n",
    "    Xa = Xa[:mlen]\n",
    "    y = y[:mlen]\n",
    "    \n",
    "    for feattype in featlist[1:]:\n",
    "        fXv = getAvgVisFeatureDf(movieNames[0],feattype)[:mlen]\n",
    "        Xv = pd.concat( [Xv,fXv], axis=1 )\n",
    "\n",
    "    for mov in movieNames[1:]:\n",
    "        tXv = getAvgVisFeatureDf(mov,featlist[0])\n",
    "        tXa = getAudioDf(mov)\n",
    "        ty = getFearDf(mov).Fear\n",
    "        \n",
    "        mlen = min(len(tXv),len(tXa),len(ty))\n",
    "        tXv = tXv[:mlen]\n",
    "        tXa = tXa[:mlen]\n",
    "        ty = ty[:mlen]\n",
    "        \n",
    "        for feattype in featlist[1:]:\n",
    "            fXv = getAvgVisFeatureDf(mov,feattype)[:mlen]\n",
    "            tXv = pd.concat( [tXv,fXv], axis=1 )\n",
    "\n",
    "        Xv  = Xv.append(tXv)\n",
    "        Xa  = Xa.append(tXa)\n",
    "        y  = y.append(ty)\n",
    "        \n",
    "    return Xv,Xa,y"
   ]
  },
  {
   "cell_type": "code",
   "execution_count": 26,
   "metadata": {
    "collapsed": true,
    "deletable": true,
    "editable": true
   },
   "outputs": [],
   "source": [
    "#tXv,tXa,ty = getMovListAudioVisFearFeatListDf(movieNames[:2],['cl','gabor'])\n",
    "#tXv.shape,tXa.shape,ty.shape"
   ]
  },
  {
   "cell_type": "code",
   "execution_count": 27,
   "metadata": {
    "collapsed": false,
    "deletable": true,
    "editable": true
   },
   "outputs": [
    {
     "name": "stdout",
     "output_type": "stream",
     "text": [
      "(4521, 566) (4521, 1583) (4521,)\n",
      "(743, 566) (743, 1583) (743,)\n",
      "CPU times: user 35.4 s, sys: 1.2 s, total: 36.6 s\n",
      "Wall time: 36.6 s\n"
     ]
    }
   ],
   "source": [
    "%%time\n",
    "featlist = ['gabor', 'jcd', 'lbp', 'sc', 'tamura' ]\n",
    "\n",
    "movielisttrain, movielisttest=gettraintestmovielist(0)\n",
    "\n",
    "Xtrainv,Xtraina, ytrain = getMovListAudioVisFearFeatListDf(movielisttrain,featlist)\n",
    "Xtestv,Xtesta, ytest = getMovListAudioVisFearFeatListDf(movielisttest,featlist)\n",
    "\n",
    "print(Xtrainv.shape,Xtraina.shape , ytrain.shape)\n",
    "print(Xtestv.shape,Xtesta.shape, ytest.shape)"
   ]
  },
  {
   "cell_type": "markdown",
   "metadata": {
    "deletable": true,
    "editable": true
   },
   "source": [
    "## Low level cinematographic Features"
   ]
  },
  {
   "cell_type": "code",
   "execution_count": 28,
   "metadata": {
    "collapsed": true,
    "deletable": true,
    "editable": true
   },
   "outputs": [],
   "source": [
    "def getLowFeatureDf(movname):\n",
    "    fname = movname +'.mp4continous_features.txt'\n",
    "    print(fname)\n",
    "    df = pd.DataFrame(np.genfromtxt( os.path.join(pathcontfeatures,fname)))\n",
    "    df.columns = ['time','framemean','huemean','satmean','valmean', 'redmean','greenmean','bluemean', 'lummean','motion']\n",
    "    return df\n",
    "\n",
    "\n",
    "def getLowFeatureSecDf(movname):\n",
    "    pdf = getLowFeatureDf(movname)\n",
    "    dfwindow = pdf[ pdf.time % 23 == 1]\n",
    "    #dfwindow = pdf.rolling(3).mean()[3::1]\n",
    "    dfwindow.reset_index(inplace=True)\n",
    "    #dfwindow.columns = ['time','framemean','huemean','satmean','valmean', 'redmean','greenmean','bluemean', 'lummean','motion']\n",
    "    #return dfwindow[['framemean','huemean','satmean','valmean', 'redmean','greenmean','bluemean', 'lummean','motion']]\n",
    "    return dfwindow\n",
    "\n",
    "def getLowFeature10SecDf(movname):\n",
    "    pdf = getLowFeatureDf(movname)\n",
    "    dfwindow = pdf[ pdf.time % 23 == 1]\n",
    "    dfwindow.reset_index(inplace=True)\n",
    "    #dfwindow.drop('index',axis=1,inplace=True)\n",
    "    #dfwindow = dfwindow.rolling(10).mean()[10::5]\n",
    "    dfwindow.reset_index(inplace=True)\n",
    "    \n",
    "    #dfwindow[['framemean','huemean','satmean','valmean', 'redmean','greenmean','bluemean', 'lummean','motion']]\n",
    "    return dfwindow"
   ]
  },
  {
   "cell_type": "code",
   "execution_count": 29,
   "metadata": {
    "collapsed": true,
    "deletable": true,
    "editable": true
   },
   "outputs": [],
   "source": [
    "def getMovieListLowFeatFearDf(movieNames):\n",
    "    X = getLowFeature10SecDf(movieNames[0])\n",
    "    y = getFearDf(movieNames[0]).Fear[:len(X)]\n",
    "\n",
    "    for mov in movieNames[1:]:\n",
    "        tX=getLowFeatureDf(mov)\n",
    "        ty=getFearDf(mov).Fear[:len(tX)]\n",
    "        X = X.append(tX)\n",
    "        y = y.append(ty)\n",
    "        if (X.shape != y.shape):\n",
    "            print(mov, X.shape, y.shape)\n",
    "    return X,y"
   ]
  },
  {
   "cell_type": "code",
   "execution_count": 30,
   "metadata": {
    "collapsed": true,
    "deletable": true,
    "editable": true
   },
   "outputs": [],
   "source": [
    "#getLowFeatureDf(movieNames[1]).tail()"
   ]
  },
  {
   "cell_type": "code",
   "execution_count": null,
   "metadata": {
    "collapsed": false,
    "deletable": true,
    "editable": true,
    "scrolled": true
   },
   "outputs": [],
   "source": [
    "getLowFeatureSecDf(movieNames[1]).tail()"
   ]
  },
  {
   "cell_type": "code",
   "execution_count": null,
   "metadata": {
    "collapsed": true,
    "deletable": true,
    "editable": true
   },
   "outputs": [],
   "source": [
    "getLowFeature10SecDf(movieNames[1]).tail(15)"
   ]
  },
  {
   "cell_type": "code",
   "execution_count": null,
   "metadata": {
    "collapsed": true,
    "deletable": true,
    "editable": true
   },
   "outputs": [],
   "source": [
    "tX,ty = getMovieListLowFeatFearDf(movieNames)"
   ]
  },
  {
   "cell_type": "markdown",
   "metadata": {
    "deletable": true,
    "editable": true
   },
   "source": [
    "## Grid-Search cross validation Logistic Regression\n",
    "\n",
    "logictic regression classifier has lower accuracy and precision especially for visual features."
   ]
  },
  {
   "cell_type": "code",
   "execution_count": 66,
   "metadata": {
    "collapsed": false,
    "deletable": true,
    "editable": true
   },
   "outputs": [
    {
     "name": "stdout",
     "output_type": "stream",
     "text": [
      "CPU times: user 15.7 s, sys: 852 ms, total: 16.6 s\n",
      "Wall time: 1min 1s\n"
     ]
    }
   ],
   "source": [
    "%%time\n",
    "from sklearn.linear_model import LogisticRegression\n",
    "from sklearn.model_selection import GridSearchCV\n",
    "from sklearn.pipeline import make_pipeline\n",
    "\n",
    "\n",
    "\n",
    "pipe = make_pipeline(LogisticRegression())\n",
    "param_grid = {'logisticregression__C': [0.001, 0.01, 0.1, 1, 10]}\n",
    "\n",
    "grid_visual = GridSearchCV(pipe, param_grid, cv=5,n_jobs=-1)\n",
    "grid_visual.fit(Xtrainv, ytrain)\n",
    "\n",
    "grid_audio = GridSearchCV(pipe, param_grid, cv=5,n_jobs=-1)\n",
    "grid_audio.fit(Xtraina, ytrain)\n"
   ]
  },
  {
   "cell_type": "code",
   "execution_count": 67,
   "metadata": {
    "collapsed": false,
    "deletable": true,
    "editable": true
   },
   "outputs": [
    {
     "name": "stdout",
     "output_type": "stream",
     "text": [
      "Best cross-validation score: 0.96\n",
      "Best parameters:  {'logisticregression__C': 0.001}\n",
      "Best cross-validation score: 0.95\n",
      "Best parameters:  {'logisticregression__C': 0.001}\n"
     ]
    }
   ],
   "source": [
    "print(\"Best cross-validation score: {:.2f}\".format(grid_visual.best_score_))\n",
    "print(\"Best parameters: \", grid_visual.best_params_)\n",
    "\n",
    "print(\"Best cross-validation score: {:.2f}\".format(grid_audio.best_score_))\n",
    "print(\"Best parameters: \", grid_audio.best_params_)\n"
   ]
  },
  {
   "cell_type": "code",
   "execution_count": 68,
   "metadata": {
    "collapsed": false,
    "deletable": true,
    "editable": true
   },
   "outputs": [
    {
     "name": "stdout",
     "output_type": "stream",
     "text": [
      "Logistic Regression:\n",
      "              precision    recall  f1-score   support\n",
      "\n",
      "          0       1.00      0.87      0.93       912\n",
      "          1       0.00      0.00      0.00         0\n",
      "\n",
      "avg / total       1.00      0.87      0.93       912\n",
      "\n",
      "\n",
      "Logistic Regression:\n",
      "              precision    recall  f1-score   support\n",
      "\n",
      "          0       1.00      0.87      0.93       909\n",
      "          1       0.01      0.33      0.02         3\n",
      "\n",
      "avg / total       0.99      0.87      0.93       912\n",
      "\n",
      "\n"
     ]
    },
    {
     "name": "stderr",
     "output_type": "stream",
     "text": [
      "/home/deepuser/anaconda3/lib/python3.6/site-packages/sklearn/metrics/classification.py:1115: UndefinedMetricWarning: Recall and F-score are ill-defined and being set to 0.0 in labels with no true samples.\n",
      "  'recall', 'true', average, warn_for)\n"
     ]
    }
   ],
   "source": [
    "predictionsv = LogisticRegression(C=0.001).fit(Xtrainv, ytrain).predict(Xtestv)\n",
    "predictionsa = LogisticRegression(C=0.001).fit(Xtraina, ytrain).predict(Xtesta)\n",
    "\n",
    "print('Logistic Regression:\\n {}\\n'.format(metrics.classification_report(predictionsv,ytest)))\n",
    "print('Logistic Regression:\\n {}\\n'.format(metrics.classification_report(predictionsa,ytest))) "
   ]
  },
  {
   "cell_type": "code",
   "execution_count": 69,
   "metadata": {
    "collapsed": false,
    "deletable": true,
    "editable": true
   },
   "outputs": [
    {
     "name": "stdout",
     "output_type": "stream",
     "text": [
      "Visual Logistic Regression:\n",
      "              precision    recall  f1-score   support\n",
      "\n",
      "          0       0.87      1.00      0.93       793\n",
      "          1       0.00      0.00      0.00       119\n",
      "\n",
      "avg / total       0.76      0.87      0.81       912\n",
      "\n",
      "\n",
      "Visual Logistic Regression AVP: 0.57\n",
      "Visual Logistic Accuracy:       0.87\n",
      "Audio Logistic Regression:\n",
      "              precision    recall  f1-score   support\n",
      "\n",
      "          0       0.87      1.00      0.93       793\n",
      "          1       0.33      0.01      0.02       119\n",
      "\n",
      "avg / total       0.80      0.87      0.81       912\n",
      "\n",
      "\n",
      "Audio Logistic Regression AVP: 0.24\n",
      "Audio Logistic Accuracy:       0.87\n",
      "Fusion Logistic Regression:\n",
      "              precision    recall  f1-score   support\n",
      "\n",
      "          0       1.00      0.87      0.93       912\n",
      "          1       0.00      0.00      0.00         0\n",
      "\n",
      "avg / total       1.00      0.87      0.93       912\n",
      "\n",
      "\n",
      "CPU times: user 12.6 s, sys: 36 ms, total: 12.6 s\n",
      "Wall time: 8.84 s\n"
     ]
    },
    {
     "name": "stderr",
     "output_type": "stream",
     "text": [
      "/home/deepuser/anaconda3/lib/python3.6/site-packages/sklearn/metrics/classification.py:1113: UndefinedMetricWarning: Precision and F-score are ill-defined and being set to 0.0 in labels with no predicted samples.\n",
      "  'precision', 'predicted', average, warn_for)\n",
      "/home/deepuser/anaconda3/lib/python3.6/site-packages/sklearn/metrics/classification.py:1115: UndefinedMetricWarning: Recall and F-score are ill-defined and being set to 0.0 in labels with no true samples.\n",
      "  'recall', 'true', average, warn_for)\n"
     ]
    }
   ],
   "source": [
    "%%time\n",
    "lgcv = LogisticRegression(C=0.001)\n",
    "lgcv.fit(Xtrainv, ytrain)\n",
    "\n",
    "lgca = LogisticRegression(C=0.001)\n",
    "lgca.fit(Xtraina, ytrain)\n",
    "\n",
    "print('Visual Logistic Regression:\\n {}\\n'.format(metrics.classification_report(ytest,lgcv.predict(Xtestv))))\n",
    "print('Visual Logistic Regression AVP: {:.2f}'.format(metrics.average_precision_score(ytest,lgcv.predict(Xtestv) , average='macro')))\n",
    "print('Visual Logistic Accuracy:       {:.2f}'.format(metrics.accuracy_score(ytest,lgcv.predict(Xtestv))))\n",
    "\n",
    "print('Audio Logistic Regression:\\n {}\\n'.format(metrics.classification_report(ytest,lgca.predict(Xtesta)))) \n",
    "print('Audio Logistic Regression AVP: {:.2f}'.format(metrics.average_precision_score(ytest,lgca.predict(Xtesta) , average='macro')))\n",
    "print('Audio Logistic Accuracy:       {:.2f}'.format(metrics.accuracy_score(ytest,lgca.predict(Xtesta))))\n",
    "\n",
    "latefusionXtrain = np.transpose([lgcv.predict(Xtrainv),lgca.predict(Xtraina)])\n",
    "\n",
    "fuslgc = LogisticRegression(C=0.001)\n",
    "fuslgc.fit(latefusionXtrain,ytrain)\n",
    "\n",
    "#Test\n",
    "latefusionXtest = np.transpose([lgcv.predict(Xtestv),lgca.predict(Xtesta)])\n",
    "pred_ytest = fuslgc.predict(latefusionXtest)\n",
    "\n",
    "print('Fusion Logistic Regression:\\n {}\\n'.format(metrics.classification_report(pred_ytest,ytest)))\n",
    "\n"
   ]
  },
  {
   "cell_type": "markdown",
   "metadata": {
    "deletable": true,
    "editable": true
   },
   "source": [
    "## SVC Classifier\n",
    "Parameters are found with grid search:\n",
    "\n",
    "\n",
    "{'classifier': SVC(C=0.001, cache_size=200, class_weight=None, coef0=0.0,\n",
    "   decision_function_shape=None, degree=3, gamma=0.001, kernel='rbf',\n",
    "   max_iter=-1, probability=False, random_state=None, shrinking=True,\n",
    "   tol=0.001, verbose=False),\n",
    " 'classifier__C': 0.001,\n",
    " 'classifier__gamma': 0.001,\n",
    " 'preprocessing': StandardScaler(copy=True, with_mean=True, with_std=True)}\n",
    "\n"
   ]
  },
  {
   "cell_type": "code",
   "execution_count": 71,
   "metadata": {
    "collapsed": false,
    "deletable": true,
    "editable": true,
    "scrolled": true
   },
   "outputs": [
    {
     "name": "stderr",
     "output_type": "stream",
     "text": [
      "/home/deepuser/anaconda3/lib/python3.6/site-packages/sklearn/metrics/classification.py:1113: UndefinedMetricWarning: Precision and F-score are ill-defined and being set to 0.0 in labels with no predicted samples.\n",
      "  'precision', 'predicted', average, warn_for)\n"
     ]
    },
    {
     "name": "stdout",
     "output_type": "stream",
     "text": [
      "Visual SVC :\n",
      "              precision    recall  f1-score   support\n",
      "\n",
      "          0       0.87      1.00      0.93       793\n",
      "          1       0.00      0.00      0.00       119\n",
      "\n",
      "avg / total       0.76      0.87      0.81       912\n",
      "\n",
      "\n",
      "Visual SVC AVP: 0.57\n",
      "Visual SVC Accuracy:       0.87\n",
      "Audio SVC:\n",
      "              precision    recall  f1-score   support\n",
      "\n",
      "          0       0.87      1.00      0.93       793\n",
      "          1       0.00      0.00      0.00       119\n",
      "\n",
      "avg / total       0.76      0.87      0.81       912\n",
      "\n",
      "\n",
      "Audio SVC AVP: 0.57\n",
      "Audio SVC Accuracy:       0.87\n",
      "Fusion Logistic Regression:\n",
      "              precision    recall  f1-score   support\n",
      "\n",
      "          0       1.00      0.87      0.93       912\n",
      "          1       0.00      0.00      0.00         0\n",
      "\n",
      "avg / total       1.00      0.87      0.93       912\n",
      "\n",
      "\n",
      "CPU times: user 17.9 s, sys: 0 ns, total: 17.9 s\n",
      "Wall time: 17.9 s\n"
     ]
    },
    {
     "name": "stderr",
     "output_type": "stream",
     "text": [
      "/home/deepuser/anaconda3/lib/python3.6/site-packages/sklearn/metrics/classification.py:1115: UndefinedMetricWarning: Recall and F-score are ill-defined and being set to 0.0 in labels with no true samples.\n",
      "  'recall', 'true', average, warn_for)\n"
     ]
    }
   ],
   "source": [
    "%%time\n",
    "lgcv = SVC(C=0.001, cache_size=200, class_weight=None, coef0=0.0,\n",
    "   decision_function_shape=None, degree=3, gamma=0.001, kernel='rbf',\n",
    "   max_iter=-1, probability=False, random_state=None, shrinking=True,\n",
    "   tol=0.001, verbose=False)\n",
    "lgcv.fit(Xtrainv, ytrain)\n",
    "\n",
    "lgca = SVC(C=0.001, cache_size=200, class_weight=None, coef0=0.0,\n",
    "   decision_function_shape=None, degree=3, gamma=0.001, kernel='rbf',\n",
    "   max_iter=-1, probability=False, random_state=None, shrinking=True,\n",
    "   tol=0.001, verbose=False)\n",
    "lgca.fit(Xtraina, ytrain)\n",
    "\n",
    "print('Visual SVC :\\n {}\\n'.format(metrics.classification_report(ytest,lgcv.predict(Xtestv))))\n",
    "print('Visual SVC AVP: {:.2f}'.format(metrics.average_precision_score(ytest,lgcv.predict(Xtestv) , average='macro')))\n",
    "print('Visual SVC Accuracy:       {:.2f}'.format(metrics.accuracy_score(ytest,lgcv.predict(Xtestv))))\n",
    "\n",
    "print('Audio SVC:\\n {}\\n'.format(metrics.classification_report(ytest,lgca.predict(Xtesta)))) \n",
    "print('Audio SVC AVP: {:.2f}'.format(metrics.average_precision_score(ytest,lgca.predict(Xtesta) , average='macro')))\n",
    "print('Audio SVC Accuracy:       {:.2f}'.format(metrics.accuracy_score(ytest,lgca.predict(Xtesta))))\n",
    "\n",
    "latefusionXtrain = np.transpose([lgcv.predict(Xtrainv),lgca.predict(Xtraina)])\n",
    "\n",
    "fuslgc = LogisticRegression(C=0.01)\n",
    "fuslgc.fit(latefusionXtrain,ytrain)\n",
    "\n",
    "#Test\n",
    "latefusionXtest = np.transpose([lgcv.predict(Xtestv),lgca.predict(Xtesta)])\n",
    "pred_ytest = fuslgc.predict(latefusionXtest)\n",
    "\n",
    "print('Fusion Logistic Regression:\\n {}\\n'.format(metrics.classification_report(pred_ytest,ytest)))\n",
    "\n"
   ]
  },
  {
   "cell_type": "code",
   "execution_count": 72,
   "metadata": {
    "collapsed": false,
    "deletable": true,
    "editable": true
   },
   "outputs": [
    {
     "data": {
      "text/plain": [
       "['models/fear-fusion-logisticreg.pkl']"
      ]
     },
     "execution_count": 72,
     "metadata": {},
     "output_type": "execute_result"
    }
   ],
   "source": [
    "## Models are stored\n",
    "from sklearn.externals import joblib\n",
    "joblib.dump(lgcv, 'models/fear-visual-svm.pkl')\n",
    "joblib.dump(lgca, 'models/fear-audio-svm.pkl')\n",
    "joblib.dump(fuslgc, 'models/fear-fusion-logisticreg.pkl')\n"
   ]
  },
  {
   "cell_type": "code",
   "execution_count": 73,
   "metadata": {
    "collapsed": true,
    "deletable": true,
    "editable": true
   },
   "outputs": [],
   "source": [
    "# Load Models\n",
    "visusvm = joblib.load('models/fear-visual-svm.pkl')\n",
    "audisvm = joblib.load('models/fear-audio-svm.pkl')\n",
    "fusesvm = joblib.load('models/fear-fusion-logisticreg.pkl')\n"
   ]
  },
  {
   "cell_type": "code",
   "execution_count": null,
   "metadata": {
    "collapsed": true,
    "deletable": true,
    "editable": true
   },
   "outputs": [],
   "source": [
    "#RUN-1\n"
   ]
  },
  {
   "cell_type": "markdown",
   "metadata": {
    "deletable": true,
    "editable": true
   },
   "source": [
    "## Gradient Boosting Classifier\n",
    "\n",
    "Boosting is a sequential technique which works on the principle of ensemble. It combines a set of weak learners and delivers improved prediction accuracy. At any instant t, the model outcomes are weighed based on the outcomes of previous instant t-1. The outcomes predicted correctly are given a lower weight and the ones miss-classified are weighted higher. "
   ]
  },
  {
   "cell_type": "code",
   "execution_count": 74,
   "metadata": {
    "collapsed": false,
    "deletable": true,
    "editable": true
   },
   "outputs": [
    {
     "name": "stderr",
     "output_type": "stream",
     "text": [
      "/home/deepuser/anaconda3/lib/python3.6/site-packages/sklearn/cross_validation.py:44: DeprecationWarning: This module was deprecated in version 0.18 in favor of the model_selection module into which all the refactored classes and functions are moved. Also note that the interface of the new CV iterators are different from that of this module. This module will be removed in 0.20.\n",
      "  \"This module will be removed in 0.20.\", DeprecationWarning)\n",
      "/home/deepuser/anaconda3/lib/python3.6/site-packages/sklearn/grid_search.py:43: DeprecationWarning: This module was deprecated in version 0.18 in favor of the model_selection module into which all the refactored classes and functions are moved. This module will be removed in 0.20.\n",
      "  DeprecationWarning)\n"
     ]
    }
   ],
   "source": [
    "from sklearn.ensemble import GradientBoostingClassifier  #GBM algorithm\n",
    "from sklearn import cross_validation\n",
    "from sklearn import metrics   #Additional scklearn functions\n",
    "from sklearn.grid_search import GridSearchCV   #Perforing grid search\n",
    "\n",
    "import matplotlib.pylab as plt\n",
    "%matplotlib inline\n",
    "from matplotlib.pylab import rcParams"
   ]
  },
  {
   "cell_type": "code",
   "execution_count": 79,
   "metadata": {
    "collapsed": true,
    "deletable": true,
    "editable": true
   },
   "outputs": [],
   "source": [
    "def modelfit(alg, X, y, performCV=True, printFeatureImportance=True, cv_folds=5):\n",
    "    #Fit the algorithm on the data\n",
    "    alg.fit(X, y)\n",
    "        \n",
    "    #Predict training set:\n",
    "    dtrain_predictions = alg.predict(X)\n",
    "    dtrain_predprob = alg.predict_proba(X)[:,1]\n",
    "    \n",
    "    #Perform cross-validation:\n",
    "    if performCV:\n",
    "        cv_score = cross_validation.cross_val_score(alg, X, y, cv=cv_folds, scoring='roc_auc',n_jobs=-1)\n",
    "    \n",
    "    #Print model report:\n",
    "    print(\"\\nModel Report\")\n",
    "    print(\"Accuracy : %.4g\" % metrics.accuracy_score(y.values, dtrain_predictions))\n",
    "    print(\"AUC Score (Train): %f\" % metrics.roc_auc_score(y, dtrain_predprob))\n",
    "    \n",
    "    if performCV:\n",
    "        print(\"CV Score : Mean - %.7g | Std - %.7g | Min - %.7g | Max - %.7g\" % (np.mean(cv_score),np.std(cv_score),np.min(cv_score),np.max(cv_score)))\n",
    "        \n",
    "        \n",
    "    #Print Feature Importance:\n",
    "    if printFeatureImportance:\n",
    "        feat_imp = pd.Series(alg.feature_importances_, X.columns).sort_values(ascending=False)\n",
    "        feat_imp.plot(kind='bar', title='Feature Importances')\n",
    "        plt.ylabel('Feature Importance Score')"
   ]
  },
  {
   "cell_type": "code",
   "execution_count": 80,
   "metadata": {
    "collapsed": false,
    "deletable": true,
    "editable": true
   },
   "outputs": [
    {
     "name": "stdout",
     "output_type": "stream",
     "text": [
      "\n",
      "Model Report\n",
      "Accuracy : 0.9818\n",
      "AUC Score (Train): 0.994834\n",
      "CV Score : Mean - 0.519357 | Std - 0.1122577 | Min - 0.3433766 | Max - 0.6797389\n"
     ]
    },
    {
     "data": {
      "image/png": "[encoded data removed]",
      "text/plain": [
       "<matplotlib.figure.Figure at 0x3ffd5207ed30>"
      ]
     },
     "metadata": {},
     "output_type": "display_data"
    }
   ],
   "source": [
    "gbm0 = GradientBoostingClassifier(random_state=10)\n",
    "modelfit(gbm0, Xtrainv, ytrain)"
   ]
  },
  {
   "cell_type": "code",
   "execution_count": 81,
   "metadata": {
    "collapsed": false,
    "deletable": true,
    "editable": true
   },
   "outputs": [
    {
     "name": "stdout",
     "output_type": "stream",
     "text": [
      "\n",
      "Model Report\n",
      "Accuracy : 0.9881\n",
      "AUC Score (Train): 0.999502\n",
      "CV Score : Mean - 0.6656424 | Std - 0.04866573 | Min - 0.6116904 | Max - 0.7511752\n"
     ]
    },
    {
     "data": {
      "image/png": "[encoded data removed]",
      "text/plain": [
       "<matplotlib.figure.Figure at 0x3ffd53d72f98>"
      ]
     },
     "metadata": {},
     "output_type": "display_data"
    }
   ],
   "source": [
    "gbm0 = GradientBoostingClassifier(random_state=10)\n",
    "modelfit(gbm0, Xtraina, ytrain)"
   ]
  },
  {
   "cell_type": "code",
   "execution_count": 82,
   "metadata": {
    "collapsed": true,
    "deletable": true,
    "editable": true
   },
   "outputs": [],
   "source": [
    "def heatmap(values, xlabel, ylabel, xticklabels, yticklabels, cmap=None,\n",
    "            vmin=None, vmax=None, ax=None, fmt=\"%0.2f\"):\n",
    "    if ax is None:\n",
    "        ax = plt.gca()\n",
    "    # plot the mean cross-validation scores\n",
    "    img = ax.pcolor(values, cmap=cmap, vmin=vmin, vmax=vmax)\n",
    "    img.update_scalarmappable()\n",
    "    ax.set_xlabel(xlabel)\n",
    "    ax.set_ylabel(ylabel)\n",
    "    ax.set_xticks(np.arange(len(xticklabels)) + .5)\n",
    "    ax.set_yticks(np.arange(len(yticklabels)) + .5)\n",
    "    ax.set_xticklabels(xticklabels)\n",
    "    ax.set_yticklabels(yticklabels)\n",
    "    ax.set_aspect(1)\n",
    "\n",
    "    for p, color, value in zip(img.get_paths(), img.get_facecolors(),\n",
    "                               img.get_array()):\n",
    "        x, y = p.vertices[:-2, :].mean(0)\n",
    "        if np.mean(color[:3]) > 0.5:\n",
    "            c = 'k'\n",
    "        else:\n",
    "            c = 'w'\n",
    "        ax.text(x, y, fmt % value, color=c, ha=\"center\", va=\"center\")\n",
    "    return img\n"
   ]
  },
  {
   "cell_type": "code",
   "execution_count": 84,
   "metadata": {
    "collapsed": false,
    "deletable": true,
    "editable": true
   },
   "outputs": [
    {
     "data": {
      "text/plain": [
       "([mean: 0.49391, std: 0.06798, params: {'n_estimators': 20},\n",
       "  mean: 0.51926, std: 0.08800, params: {'n_estimators': 30},\n",
       "  mean: 0.53238, std: 0.08495, params: {'n_estimators': 40},\n",
       "  mean: 0.53660, std: 0.08631, params: {'n_estimators': 50},\n",
       "  mean: 0.53048, std: 0.09453, params: {'n_estimators': 60},\n",
       "  mean: 0.53148, std: 0.09802, params: {'n_estimators': 70},\n",
       "  mean: 0.54262, std: 0.09259, params: {'n_estimators': 80}],\n",
       " {'n_estimators': 80},\n",
       " 0.5426181559653471)"
      ]
     },
     "execution_count": 84,
     "metadata": {},
     "output_type": "execute_result"
    }
   ],
   "source": [
    "param_test1 = {'n_estimators':list(range(20,81,10))}\n",
    "gsearch1 = GridSearchCV(\n",
    "    estimator = GradientBoostingClassifier(\n",
    "        learning_rate=0.05,  \n",
    "        min_samples_split=500,\n",
    "        min_samples_leaf=50,\n",
    "        max_depth=8,\n",
    "        max_features='sqrt',subsample=0.8,random_state=10), \n",
    "    param_grid = param_test1, scoring='roc_auc',n_jobs=-1,iid=False, cv=5)\n",
    "gsearch1.fit(Xtrainv,ytrain)\n",
    "gsearch1.grid_scores_, gsearch1.best_params_, gsearch1.best_score_\n"
   ]
  },
  {
   "cell_type": "code",
   "execution_count": 85,
   "metadata": {
    "collapsed": false,
    "deletable": true,
    "editable": true
   },
   "outputs": [
    {
     "data": {
      "text/plain": [
       "([mean: 0.67733, std: 0.08642, params: {'n_estimators': 20},\n",
       "  mean: 0.68530, std: 0.09128, params: {'n_estimators': 30},\n",
       "  mean: 0.67554, std: 0.08983, params: {'n_estimators': 40},\n",
       "  mean: 0.67628, std: 0.08732, params: {'n_estimators': 50},\n",
       "  mean: 0.67153, std: 0.08374, params: {'n_estimators': 60},\n",
       "  mean: 0.66925, std: 0.08073, params: {'n_estimators': 70},\n",
       "  mean: 0.67658, std: 0.08340, params: {'n_estimators': 80}],\n",
       " {'n_estimators': 30},\n",
       " 0.6853008630111692)"
      ]
     },
     "execution_count": 85,
     "metadata": {},
     "output_type": "execute_result"
    }
   ],
   "source": [
    "\n",
    "gsearch1.fit(Xtraina,ytrain)\n",
    "gsearch1.grid_scores_, gsearch1.best_params_, gsearch1.best_score_"
   ]
  },
  {
   "cell_type": "code",
   "execution_count": 88,
   "metadata": {
    "collapsed": false,
    "deletable": true,
    "editable": true
   },
   "outputs": [
    {
     "data": {
      "text/plain": [
       "([mean: 0.65856, std: 0.07867, params: {'max_depth': 5, 'min_samples_split': 200},\n",
       "  mean: 0.67126, std: 0.09543, params: {'max_depth': 5, 'min_samples_split': 400},\n",
       "  mean: 0.67575, std: 0.08657, params: {'max_depth': 5, 'min_samples_split': 600},\n",
       "  mean: 0.68706, std: 0.10208, params: {'max_depth': 5, 'min_samples_split': 800},\n",
       "  mean: 0.68417, std: 0.09009, params: {'max_depth': 5, 'min_samples_split': 1000},\n",
       "  mean: 0.66692, std: 0.08614, params: {'max_depth': 7, 'min_samples_split': 200},\n",
       "  mean: 0.66522, std: 0.07414, params: {'max_depth': 7, 'min_samples_split': 400},\n",
       "  mean: 0.67908, std: 0.07967, params: {'max_depth': 7, 'min_samples_split': 600},\n",
       "  mean: 0.68920, std: 0.08261, params: {'max_depth': 7, 'min_samples_split': 800},\n",
       "  mean: 0.68779, std: 0.06802, params: {'max_depth': 7, 'min_samples_split': 1000},\n",
       "  mean: 0.67400, std: 0.07357, params: {'max_depth': 9, 'min_samples_split': 200},\n",
       "  mean: 0.69058, std: 0.08931, params: {'max_depth': 9, 'min_samples_split': 400},\n",
       "  mean: 0.70462, std: 0.07794, params: {'max_depth': 9, 'min_samples_split': 600},\n",
       "  mean: 0.67247, std: 0.07615, params: {'max_depth': 9, 'min_samples_split': 800},\n",
       "  mean: 0.68473, std: 0.06743, params: {'max_depth': 9, 'min_samples_split': 1000},\n",
       "  mean: 0.68343, std: 0.07515, params: {'max_depth': 11, 'min_samples_split': 200},\n",
       "  mean: 0.67921, std: 0.06358, params: {'max_depth': 11, 'min_samples_split': 400},\n",
       "  mean: 0.67451, std: 0.06566, params: {'max_depth': 11, 'min_samples_split': 600},\n",
       "  mean: 0.67425, std: 0.07787, params: {'max_depth': 11, 'min_samples_split': 800},\n",
       "  mean: 0.68899, std: 0.09086, params: {'max_depth': 11, 'min_samples_split': 1000},\n",
       "  mean: 0.66549, std: 0.08990, params: {'max_depth': 13, 'min_samples_split': 200},\n",
       "  mean: 0.67671, std: 0.08769, params: {'max_depth': 13, 'min_samples_split': 400},\n",
       "  mean: 0.68378, std: 0.05338, params: {'max_depth': 13, 'min_samples_split': 600},\n",
       "  mean: 0.67723, std: 0.05125, params: {'max_depth': 13, 'min_samples_split': 800},\n",
       "  mean: 0.67608, std: 0.07304, params: {'max_depth': 13, 'min_samples_split': 1000},\n",
       "  mean: 0.66601, std: 0.07982, params: {'max_depth': 15, 'min_samples_split': 200},\n",
       "  mean: 0.67007, std: 0.07338, params: {'max_depth': 15, 'min_samples_split': 400},\n",
       "  mean: 0.68021, std: 0.06591, params: {'max_depth': 15, 'min_samples_split': 600},\n",
       "  mean: 0.68198, std: 0.07270, params: {'max_depth': 15, 'min_samples_split': 800},\n",
       "  mean: 0.67707, std: 0.08113, params: {'max_depth': 15, 'min_samples_split': 1000}],\n",
       " {'max_depth': 9, 'min_samples_split': 600},\n",
       " 0.7046209932966676)"
      ]
     },
     "execution_count": 88,
     "metadata": {},
     "output_type": "execute_result"
    }
   ],
   "source": [
    "param_test2 = {'max_depth':list(range(5,16,2)), 'min_samples_split':list(range(200,1001,200))}\n",
    "gsearch2 = GridSearchCV(estimator = GradientBoostingClassifier(learning_rate=0.1, n_estimators=60, max_features='sqrt', subsample=0.8, random_state=10), \n",
    "param_grid = param_test2, scoring='roc_auc',n_jobs=-1,iid=False, cv=5)\n",
    "gsearch2.fit(Xtraina,ytrain)\n",
    "gsearch2.grid_scores_, gsearch2.best_params_, gsearch2.best_score_"
   ]
  },
  {
   "cell_type": "code",
   "execution_count": 89,
   "metadata": {
    "collapsed": false,
    "deletable": true,
    "editable": true,
    "scrolled": true
   },
   "outputs": [
    {
     "data": {
      "text/plain": [
       "([mean: 0.69246, std: 0.07509, params: {'min_samples_leaf': 30, 'min_samples_split': 1000},\n",
       "  mean: 0.69361, std: 0.07556, params: {'min_samples_leaf': 30, 'min_samples_split': 1200},\n",
       "  mean: 0.69994, std: 0.07476, params: {'min_samples_leaf': 30, 'min_samples_split': 1400},\n",
       "  mean: 0.71255, std: 0.07542, params: {'min_samples_leaf': 30, 'min_samples_split': 1600},\n",
       "  mean: 0.71428, std: 0.07999, params: {'min_samples_leaf': 30, 'min_samples_split': 1800},\n",
       "  mean: 0.71123, std: 0.08337, params: {'min_samples_leaf': 30, 'min_samples_split': 2000},\n",
       "  mean: 0.68671, std: 0.07592, params: {'min_samples_leaf': 40, 'min_samples_split': 1000},\n",
       "  mean: 0.68655, std: 0.07073, params: {'min_samples_leaf': 40, 'min_samples_split': 1200},\n",
       "  mean: 0.69469, std: 0.07493, params: {'min_samples_leaf': 40, 'min_samples_split': 1400},\n",
       "  mean: 0.70010, std: 0.07755, params: {'min_samples_leaf': 40, 'min_samples_split': 1600},\n",
       "  mean: 0.70374, std: 0.08813, params: {'min_samples_leaf': 40, 'min_samples_split': 1800},\n",
       "  mean: 0.71003, std: 0.07790, params: {'min_samples_leaf': 40, 'min_samples_split': 2000},\n",
       "  mean: 0.68721, std: 0.07827, params: {'min_samples_leaf': 50, 'min_samples_split': 1000},\n",
       "  mean: 0.69015, std: 0.07483, params: {'min_samples_leaf': 50, 'min_samples_split': 1200},\n",
       "  mean: 0.69544, std: 0.07854, params: {'min_samples_leaf': 50, 'min_samples_split': 1400},\n",
       "  mean: 0.69412, std: 0.08560, params: {'min_samples_leaf': 50, 'min_samples_split': 1600},\n",
       "  mean: 0.69942, std: 0.08432, params: {'min_samples_leaf': 50, 'min_samples_split': 1800},\n",
       "  mean: 0.70299, std: 0.08411, params: {'min_samples_leaf': 50, 'min_samples_split': 2000},\n",
       "  mean: 0.67470, std: 0.08944, params: {'min_samples_leaf': 60, 'min_samples_split': 1000},\n",
       "  mean: 0.68349, std: 0.08855, params: {'min_samples_leaf': 60, 'min_samples_split': 1200},\n",
       "  mean: 0.68446, std: 0.08556, params: {'min_samples_leaf': 60, 'min_samples_split': 1400},\n",
       "  mean: 0.69861, std: 0.09210, params: {'min_samples_leaf': 60, 'min_samples_split': 1600},\n",
       "  mean: 0.69658, std: 0.08737, params: {'min_samples_leaf': 60, 'min_samples_split': 1800},\n",
       "  mean: 0.70116, std: 0.09391, params: {'min_samples_leaf': 60, 'min_samples_split': 2000},\n",
       "  mean: 0.67211, std: 0.09104, params: {'min_samples_leaf': 70, 'min_samples_split': 1000},\n",
       "  mean: 0.67606, std: 0.08069, params: {'min_samples_leaf': 70, 'min_samples_split': 1200},\n",
       "  mean: 0.68869, std: 0.07845, params: {'min_samples_leaf': 70, 'min_samples_split': 1400},\n",
       "  mean: 0.69452, std: 0.08677, params: {'min_samples_leaf': 70, 'min_samples_split': 1600},\n",
       "  mean: 0.68991, std: 0.08745, params: {'min_samples_leaf': 70, 'min_samples_split': 1800},\n",
       "  mean: 0.68493, std: 0.08237, params: {'min_samples_leaf': 70, 'min_samples_split': 2000}],\n",
       " {'min_samples_leaf': 30, 'min_samples_split': 1800},\n",
       " 0.7142836252534843)"
      ]
     },
     "execution_count": 89,
     "metadata": {},
     "output_type": "execute_result"
    }
   ],
   "source": [
    "param_test3 = {'min_samples_split':list(range(1000,2100,200)), 'min_samples_leaf':list(range(30,71,10))}\n",
    "gsearch3 = GridSearchCV(estimator = GradientBoostingClassifier(learning_rate=0.05, n_estimators=60,max_depth=9,max_features='sqrt', subsample=0.8, random_state=10), \n",
    "param_grid = param_test3, scoring='roc_auc',n_jobs=-1,iid=False, cv=5)\n",
    "gsearch3.fit(Xtraina,ytrain)\n",
    "gsearch3.grid_scores_, gsearch3.best_params_, gsearch3.best_score_"
   ]
  },
  {
   "cell_type": "code",
   "execution_count": 91,
   "metadata": {
    "collapsed": false,
    "deletable": true,
    "editable": true
   },
   "outputs": [
    {
     "ename": "AttributeError",
     "evalue": "'GridSearchCV' object has no attribute 'cv_results_'",
     "output_type": "error",
     "traceback": [
      "\u001b[0;31m---------------------------------------------------------------------------\u001b[0m",
      "\u001b[0;31mAttributeError\u001b[0m                            Traceback (most recent call last)",
      "\u001b[0;32m<ipython-input-91-e80b8b26483f>\u001b[0m in \u001b[0;36m<module>\u001b[0;34m()\u001b[0m\n\u001b[0;32m----> 1\u001b[0;31m \u001b[0mgsearch3\u001b[0m\u001b[0;34m.\u001b[0m\u001b[0mcv_results_\u001b[0m\u001b[0;34m[\u001b[0m\u001b[0;34m'mean_test_score'\u001b[0m\u001b[0;34m]\u001b[0m\u001b[0;34m\u001b[0m\u001b[0m\n\u001b[0m",
      "\u001b[0;31mAttributeError\u001b[0m: 'GridSearchCV' object has no attribute 'cv_results_'"
     ]
    }
   ],
   "source": [
    "gsearch3.cv_results_['mean_test_score']"
   ]
  },
  {
   "cell_type": "code",
   "execution_count": null,
   "metadata": {
    "collapsed": true,
    "deletable": true,
    "editable": true
   },
   "outputs": [],
   "source": [
    "gsearch3.cv_results_['mean_test_score'].reshape(6,-1)"
   ]
  },
  {
   "cell_type": "code",
   "execution_count": null,
   "metadata": {
    "collapsed": true,
    "deletable": true,
    "editable": true
   },
   "outputs": [],
   "source": []
  },
  {
   "cell_type": "code",
   "execution_count": null,
   "metadata": {
    "collapsed": true,
    "deletable": true,
    "editable": true
   },
   "outputs": [],
   "source": [
    "heatmap(gsearch3.cv_results_['mean_test_score'].reshape(6, -1),\n",
    "                      xlabel=\"min_samples_split\", ylabel=\"min_samples_leaf\",\n",
    "                      xticklabels=param_test3['min_samples_split'],\n",
    "                      yticklabels=param_test3['min_samples_leaf'])"
   ]
  },
  {
   "cell_type": "code",
   "execution_count": null,
   "metadata": {
    "collapsed": true,
    "deletable": true,
    "editable": true
   },
   "outputs": [],
   "source": [
    "param_grid = [\n",
    "    {'classifier': [SVC()], 'preprocessing': [StandardScaler(), None],\n",
    "     'classifier__gamma': [0.001, 0.01, 0.1, 1, 10, 100],\n",
    "     'classifier__C': [0.001, 0.01, 0.1, 1, 10, 100]},\n",
    "    {'classifier': [RandomForestClassifier(n_estimators=100)],\n"
   ]
  },
  {
   "cell_type": "code",
   "execution_count": null,
   "metadata": {
    "collapsed": true,
    "deletable": true,
    "editable": true
   },
   "outputs": [],
   "source": [
    "from sklearn.ensemble import RandomForestClassifier\n",
    "from sklearn.preprocessing import StandardScaler\n",
    "from sklearn.decomposition import PCA\n",
    "from sklearn.svm import SVC\n",
    "from sklearn.preprocessing import MinMaxScaler\n",
    "from sklearn.pipeline import Pipeline\n",
    "from sklearn.pipeline import make_pipeline\n",
    "\n",
    "pipe = Pipeline([('preprocessing', StandardScaler()), ('classifier', SVC())])\n",
    "\n",
    "param_grid = [\n",
    "    {'classifier': [SVC()], 'preprocessing': [StandardScaler()],\n",
    "     'classifier__gamma': [0.001, 1, 10],\n",
    "     'classifier__C': [0.001, 1, 10]},\n",
    "    {'classifier': [RandomForestClassifier(n_estimators=100)],\n",
    "     'preprocessing': [None], 'classifier__max_features': [3]}]\n",
    "\n",
    "grid = GridSearchCV(pipe, param_grid, cv=5)\n",
    "grid.fit(Xtraina,ytrain)\n",
    "\n",
    "print(\"Best params:\\n{}\\n\".format(grid.best_params_))\n",
    "print(\"Best cross-validation score: {:.2f}\".format(grid.best_score_))\n",
    "grid.grid_scores_, grid.best_params_, grid.best_score_"
   ]
  },
  {
   "cell_type": "code",
   "execution_count": null,
   "metadata": {
    "collapsed": true,
    "deletable": true,
    "editable": true
   },
   "outputs": [],
   "source": [
    "grid.cv_results_['mean_test_score']"
   ]
  },
  {
   "cell_type": "code",
   "execution_count": null,
   "metadata": {
    "collapsed": true,
    "deletable": true,
    "editable": true
   },
   "outputs": [],
   "source": [
    " grid.best_params_"
   ]
  },
  {
   "cell_type": "code",
   "execution_count": null,
   "metadata": {
    "collapsed": true,
    "deletable": true,
    "editable": true
   },
   "outputs": [],
   "source": []
  }
 ],
 "metadata": {
  "kernelspec": {
   "display_name": "Python 2",
   "language": "python",
   "name": "python2"
  },
  "language_info": {
   "codemirror_mode": {
    "name": "ipython",
    "version": 2
   },
   "file_extension": ".py",
   "mimetype": "text/x-python",
   "name": "python",
   "nbconvert_exporter": "python",
   "pygments_lexer": "ipython2",
   "version": "2.7.11"
  }
 },
 "nbformat": 4,
 "nbformat_minor": 1
}
