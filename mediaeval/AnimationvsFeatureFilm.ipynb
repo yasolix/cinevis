{
 "cells": [
  {
   "cell_type": "code",
   "execution_count": 1,
   "metadata": {
    "collapsed": true
   },
   "outputs": [],
   "source": [
    "import time\n",
    "import numpy as np\n",
    "from mpl_toolkits.mplot3d import Axes3D\n",
    "import matplotlib.pyplot as plt\n",
    "from matplotlib.ticker import MultipleLocator\n",
    "import pylab as plt2\n",
    "%matplotlib inline"
   ]
  },
  {
   "cell_type": "code",
   "execution_count": 2,
   "metadata": {
    "collapsed": true
   },
   "outputs": [],
   "source": [
    "import os\n",
    "import sys\n",
    "import itertools\n",
    "import numpy as np\n",
    "from sklearn.svm import SVC\n",
    "import matplotlib.pyplot as plt\n",
    "import matplotlib\n",
    "%matplotlib inline"
   ]
  },
  {
   "cell_type": "code",
   "execution_count": 3,
   "metadata": {
    "collapsed": true
   },
   "outputs": [],
   "source": [
    "import pandas as pd\n",
    "from pandas import DataFrame, Series"
   ]
  },
  {
   "cell_type": "code",
   "execution_count": 4,
   "metadata": {
    "collapsed": true
   },
   "outputs": [],
   "source": [
    "import xml.etree.ElementTree as ET\n",
    "from lxml import etree\n",
    "import pandas as pd\n",
    "\n",
    "xml_data = '/path/user_agents.xml'\n",
    "\n",
    "def xml2df(xml_data):\n",
    "    tree = ET.parse(xml_data)\n",
    "    root = tree.getroot()\n",
    "    all_records = []\n",
    "    headers = []\n",
    "    for i, child in enumerate(root):\n",
    "        record = []\n",
    "        for subchild in child:\n",
    "            record.append(subchild.text)\n",
    "            if subchild.tag not in headers:\n",
    "                headers.append(subchild.tag)\n",
    "        all_records.append(record)\n",
    "    return pd.DataFrame(all_records, columns=headers)"
   ]
  },
  {
   "cell_type": "code",
   "execution_count": null,
   "metadata": {
    "collapsed": true
   },
   "outputs": [],
   "source": []
  },
  {
   "cell_type": "code",
   "execution_count": 5,
   "metadata": {
    "collapsed": true
   },
   "outputs": [],
   "source": [
    "from xml.dom import minidom\n",
    "import numpy as np\n",
    "import pylab as pl\n",
    "import re, fileinput\n",
    "import os.path\n",
    "\n",
    "# Input data\n",
    "movieNames = ['After_The_Rain','Attitude_Matters','Barely_legal_stories','Between_Viewings','Big_Buck_Bunny','Chatter','Cloudland','Damaged_Kung_Fu','Decay','Elephant_s_Dream','First_Bite','Full_Service','Islands','Lesson_Learned','Norm','Nuclear_Family','On_time','Origami','Parafundit','Payload','Riding_The_Rails','Sintel','Spaceman','Superhero','Tears_of_Steel','The_room_of_franz_kafka','The_secret_number','To_Claire_From_Sonny','Wanted','You_Again']\n",
    "\n",
    "pathfeatures  = \"/home/yt/Desktop/cvpr2014/repro/mediaeval/data/dataset/Discrete/features/\"\n",
    "pathlabels = \"/home/yt/Desktop/cvpr2014/repro/mediaeval/data/dataset/MediaEval/annotations-org/\"\n",
    "pathrank = \"/home/yt/Desktop/cvpr2014/repro/mediaeval/data/dataset/Discrete/annotations/\"\n",
    "pathlist = \"/home/yt/Desktop/cvpr2014/repro/mediaeval/data/dataset/Continuous/\"\n",
    "\n",
    "pathcontinuous = \"/home/yt/Desktop/cvpr2014/repro/mediaeval/data/dataset/ContinuousLIRIS-ACCEDE/\"\n",
    "pathcontfeatures = \"/home/yt/Desktop/cvpr2014/repro/mediaeval/data/dataset/Continuous/features-out/\"\n",
    "\n",
    "#ranksFile = '..\\\\annotations\\\\ACCEDEranking.txt'\n",
    "databaseFilesXML = pathlist + 'ACCEDEdescription.xml'\n",
    "movieFilesXML = pathlist + 'ACCEDEmovies.xml'\n",
    "continuousAnnotationsFolder = pathcontinuous +'continuous-annotations/'\n",
    "\n",
    "databasefiles= xml2df(databaseFilesXML)\n",
    "moviefiles = xml2df(movieFilesXML)\n",
    "\n",
    "\n",
    "    # Read databaseFilesXML\n",
    "databaseXMLdoc = minidom.parse(databaseFilesXML)\n",
    "idsList = databaseXMLdoc.getElementsByTagName('id')\n",
    "movieFileList = databaseXMLdoc.getElementsByTagName('movie')\n",
    "startFrameList = databaseXMLdoc.getElementsByTagName('start')\n",
    "endFrameList = databaseXMLdoc.getElementsByTagName('end')\n",
    "        \n",
    "    # Read movieFilesXML\n",
    "movieXMLdoc = minidom.parse(movieFilesXML)\n",
    "moviesList = movieXMLdoc.getElementsByTagName('movie')\n",
    "genresList = movieXMLdoc.getElementsByTagName('genre')\n",
    "excerptsList = movieXMLdoc.getElementsByTagName('excerpts')\n",
    "titleList = movieXMLdoc.getElementsByTagName('title')\n",
    "\n",
    "animation = [ ['Big_Buck_Bunny',24],\n",
    "                ['Elephant_s_Dream',24],\n",
    "                ['Origami',24],\n",
    "                ['Sintel',24]]\n",
    "\n",
    "fpsMovie = [['After_The_Rain',23.976],\n",
    "            ['Attitude_Matters',29.97],\n",
    "            ['Barely_legal_stories',23.976],\n",
    "            ['Between_Viewings',25],\n",
    "            #['Big_Buck_Bunny',24],\n",
    "            ['Chatter',24],\n",
    "                ['Cloudland',25],\n",
    "                ['Damaged_Kung_Fu',25],\n",
    "                ['Decay',23.976],\n",
    "                #['Elephant_s_Dream',24],\n",
    "                ['First_Bite',25],\n",
    "                ['Full_Service',29.97],\n",
    "                ['Islands',23.976],\n",
    "                ['Lesson_Learned',29.97],\n",
    "                ['Norm',25],\n",
    "                ['Nuclear_Family',23.976],\n",
    "                ['On_time',30],\n",
    "                #['Origami',24],\n",
    "                ['Parafundit',24],\n",
    "                ['Payload',25],\n",
    "                ['Riding_The_Rails',23.976],\n",
    "                #['Sintel',24],\n",
    "                ['Spaceman',23.976],\n",
    "                ['Superhero',29.97],\n",
    "                ['Tears_of_Steel',24],\n",
    "                ['The_room_of_franz_kafka',29.786],\n",
    "                ['The_secret_number',23.976],\n",
    "                ['To_Claire_From_Sonny',23.976],\n",
    "                ['Wanted',25],\n",
    "                ['You_Again',29.97]]\n",
    "\n",
    "contmovies = pd.DataFrame(fpsMovie,columns=['name','fps'])\n",
    "animovies = pd.DataFrame(animation,columns=['name','fps'])\n",
    "contmovnamelist = list(contmovies.name.values) \n",
    "animovnamelist = list(animovies.name.values)\n",
    "allmovnamelist= contmovnamelist + animovnamelist\n",
    "dictAllFeatures={}"
   ]
  },
  {
   "cell_type": "code",
   "execution_count": 6,
   "metadata": {
    "collapsed": false
   },
   "outputs": [],
   "source": [
    "#moviefiles.head()\n",
    "#databasefiles.head()\n",
    "#fname = 'You_Again' +'.mp4continous_features.txt'\n",
    "#featuredf = np.genfromtxt( os.path.join(pathcontfeatures,fname))\n",
    "#pd.DataFrame(featuredf)[100:105]"
   ]
  },
  {
   "cell_type": "markdown",
   "metadata": {},
   "source": [
    "## Features file to DataFrame"
   ]
  },
  {
   "cell_type": "code",
   "execution_count": 6,
   "metadata": {
    "collapsed": true
   },
   "outputs": [],
   "source": [
    "def getFeature(movname):\n",
    "    fname = movname +'.mp4continous_features.txt'\n",
    "    return pd.DataFrame(np.genfromtxt( os.path.join(pathcontfeatures,fname)))\n",
    "\n",
    "#getFeature('Sintel')"
   ]
  },
  {
   "cell_type": "code",
   "execution_count": 7,
   "metadata": {
    "collapsed": false
   },
   "outputs": [],
   "source": [
    "def getFeatDf(movname,movielist):\n",
    "    featdict=getFeatDict(movielist)\n",
    "    pdf = pd.DataFrame(featdict[movname])\n",
    "    df = pdf[pdf[0] % 24 == 1]\n",
    "    df.index= range(len(df))\n",
    "    df.columns = ['time','framemean','huemean','satmean','valmean', 'redmean','greenmean','bluemean', 'lummean','motion']\n",
    "    return df[['framemean','huemean','satmean','valmean', 'redmean','greenmean','bluemean', 'lummean','motion']]\n",
    "\n",
    "#this function gets raw data\n",
    "def getFeatDict(mlist):\n",
    "    featdict={}\n",
    "    for mov in mlist.name.values:\n",
    "        fname = mov +'.mp4continous_features.txt'\n",
    "        contfeatures = np.genfromtxt( os.path.join(pathcontfeatures,fname))\n",
    "        featdict[mov]= contfeatures\n",
    "    \n",
    "    return featdict\n",
    "\n",
    "# [len(getFeatDict(contmovies)[i]) for i in contmovies.name]\n",
    "# [len(getFeatDict(animovies)[i]) for i in animovies.name]\n",
    "#\n",
    "# featdict = getFeatDict(contmovies)\n",
    "# attmat = pd.DataFrame(featdict['Attitude_Matters'])\n",
    "\n",
    "# featdict = getFeatDict(animovies)\n",
    "# bigbuck = pd.DataFrame(featdict['Big_Buck_Bunny'])"
   ]
  },
  {
   "cell_type": "code",
   "execution_count": 37,
   "metadata": {
    "collapsed": false
   },
   "outputs": [],
   "source": [
    "#time,\n",
    "def filterContFeatures(nparr):\n",
    "    pdf = pd.DataFrame(nparr) # convert to dataframe\n",
    "    df = pdf[pdf[0] % 24 == 1] #filter the time column\n",
    "    df.index= range(len(df)) # rename the index\n",
    "    df.columns = ['time','framemean','huemean','satmean','valmean', 'redmean','greenmean','bluemean', 'lummean','motion']\n",
    "    return df[['framemean','huemean','satmean','valmean', 'redmean','greenmean','bluemean', 'lummean','motion']]\n",
    "    #return df[[1,2,3,4,5,6,7,8,9]]\n",
    "\n",
    "def filterFMean(featuredf):\n",
    "    return featuredf[['framemean']] \n",
    "\n",
    "def filterHSV(featuredf):\n",
    "    return featuredf[['huemean','satmean','valmean']] \n",
    "\n",
    "def filterRGB(featuredf):\n",
    "    return featuredf[['redmean','greenmean','bluemean']] \n",
    "\n",
    "def filterLum(featuredf):\n",
    "    return featuredf[['lummean']] \n",
    "\n",
    "def filterMotion(featuredf):\n",
    "    return featuredf[['motion']] \n",
    "    \n",
    "## the global dictionary to hold all the feauture values\n",
    "def getDictionaryAllFeatures():\n",
    "    for mov in allmovnamelist:\n",
    "        fname = mov +'.mp4continous_features.txt'\n",
    "        contfeatures = np.genfromtxt( os.path.join(pathcontfeatures,fname))\n",
    "        dictAllFeatures[mov]= pd.DataFrame(filterContFeatures(contfeatures))\n",
    "    return dictAllFeatures\n",
    "\n",
    "dictAllFeatures = getDictionaryAllFeatures()\n",
    "\n",
    "def getMovieFeature(moviename):\n",
    "    return dictAllFeatures[moviename]\n",
    "    "
   ]
  },
  {
   "cell_type": "code",
   "execution_count": 39,
   "metadata": {
    "collapsed": false
   },
   "outputs": [],
   "source": [
    "#getMovieFeature('Sintel').head()"
   ]
  },
  {
   "cell_type": "code",
   "execution_count": 25,
   "metadata": {
    "collapsed": false
   },
   "outputs": [],
   "source": [
    "#filterHSV(dictAllFeatures['Sintel']).head()\n",
    "#filterRGB(dictAllFeatures['Sintel']).head()\n",
    "#filterLum(dictAllFeatures['Sintel']).head()\n",
    "#filterMotion(dictAllFeatures['Sintel']).head()\n",
    "#filterFMean(dictAllFeatures['Sintel'])"
   ]
  },
  {
   "cell_type": "markdown",
   "metadata": {},
   "source": [
    "## Annotations file to DataFrame"
   ]
  },
  {
   "cell_type": "code",
   "execution_count": 27,
   "metadata": {
    "collapsed": true
   },
   "outputs": [],
   "source": [
    "def getDf(movname):\n",
    "    arousalfilename = os.path.join(continuousAnnotationsFolder, movname + '_Arousal.txt')\n",
    "    valencefilename = os.path.join(continuousAnnotationsFolder, movname + '_Valence.txt')\n",
    "    \n",
    "    movArousal = np.genfromtxt(arousalfilename, names=True, delimiter='\\t', dtype=None)\n",
    "    movValence = np.genfromtxt(valencefilename, names=True, delimiter='\\t', dtype=None)\n",
    "    \n",
    "    ardf = pd.DataFrame(movArousal)\n",
    "    valdf = pd.DataFrame(movValence) \n",
    "\n",
    "    return ardf, valdf"
   ]
  },
  {
   "cell_type": "markdown",
   "metadata": {},
   "source": [
    "# SVR on features"
   ]
  },
  {
   "cell_type": "code",
   "execution_count": 28,
   "metadata": {
    "collapsed": true
   },
   "outputs": [],
   "source": [
    "from sklearn.metrics import accuracy_score\n",
    "from sklearn import preprocessing\n",
    "from sklearn import metrics\n",
    "from sklearn.svm import LinearSVC\n",
    "from sklearn.svm import SVC\n",
    "from sklearn import svm\n",
    "from sklearn.svm import SVR\n",
    "from sklearn.metrics import mean_squared_error\n",
    "from sklearn.model_selection import train_test_split, cross_val_score\n",
    "import scipy\n",
    "from scipy.stats import pearsonr\n"
   ]
  },
  {
   "cell_type": "code",
   "execution_count": 29,
   "metadata": {
    "collapsed": true
   },
   "outputs": [],
   "source": [
    "# get stardardize mean=0, std=1 scaled\n",
    "# return type numpy.ndarray\n",
    "def getStd(df):\n",
    "    std_scaler = preprocessing.StandardScaler()\n",
    "    return std_scaler.fit_transform(df)\n",
    "\n",
    "#get the values scaled btw (0,1)\n",
    "# return type numpy.ndarray\n",
    "def getNormalized(df):\n",
    "    min_max_scaler = preprocessing.MinMaxScaler()\n",
    "    return min_max_scaler.fit_transform(df)\n",
    "\n",
    "# get stardardize mean=0, std=1 scaled\n",
    "# return type dataframe\n",
    "def getStd2(df):\n",
    "    return ((df - df.mean()) / df.std())\n",
    "\n",
    "#get the values scaled btw (0,1)\n",
    "# return type dataframe\n",
    "def getNormalized2(df):\n",
    "    return ((df-df.min()) / (df.max()-df.min()))\n",
    "    "
   ]
  },
  {
   "cell_type": "code",
   "execution_count": 30,
   "metadata": {
    "collapsed": false
   },
   "outputs": [
    {
     "data": {
      "text/plain": [
       "(6692, 6692, 6692)"
      ]
     },
     "execution_count": 30,
     "metadata": {},
     "output_type": "execute_result"
    }
   ],
   "source": [
    "def getFeatureArousalValence(movname):\n",
    "    df=dictAllFeatures[movname]\n",
    "    ba, bv = getDf(movname)\n",
    "    minind = min([len(i) for i in [bv,ba,df]])\n",
    "\n",
    "    X  = df[0:minind]\n",
    "    Y1 = bv.Mean[0:minind]\n",
    "    Y2 = ba.Mean[0:minind]\n",
    "    return X,Y1,Y2\n",
    "\n",
    "def getNormFeatureArousalValence(movname):\n",
    "    df=dictAllFeatures[movname]\n",
    "    normfdf = getNormalized2(df)\n",
    "    ba, bv = getDf(movname)\n",
    "    minind = min([len(i) for i in [bv,ba,df]])\n",
    "\n",
    "    X = normfdf[0:minind]\n",
    "    Y1 = bv.Mean[0:minind]\n",
    "    Y2 = ba.Mean[0:minind]\n",
    "    return X,Y1,Y2\n",
    "\n",
    "def getAllNormFAV():\n",
    "    X,Y1,Y2 =  getNormFeatureArousalValence(allmovnamelist[0])\n",
    "    for mov in allmovnamelist[1:]:\n",
    "        x,v,a = getNormFeatureArousalValence(mov)\n",
    "        X = X.append(x)\n",
    "        Y1 = Y1.append(v)\n",
    "        Y2 = Y2.append(a)        \n",
    "    return X,Y1,Y2\n",
    "    \n",
    "featAll, arousalAll, valenceAll = getAllNormFAV()         \n",
    "len(featAll),len(arousalAll),len(valenceAll)"
   ]
  },
  {
   "cell_type": "markdown",
   "metadata": {
    "collapsed": true
   },
   "source": [
    "def getDataNormXYY2(movname,mlist):\n",
    "    fdf = getFeatDf(movname,mlist)\n",
    "    ba, bv = getDf(movname)\n",
    "    \n",
    "    minind = min([len(i) for i in [bv,ba,fdf]])\n",
    "    #normfdf = (fdf - fdf.mean()) / fdf.std()\n",
    "    normfdf = getNormalized2(fdf)\n",
    "    \n",
    "    X = normfdf[0:minind]\n",
    "    Y = bv.Mean[0:minind]\n",
    "    Y2 = ba.Mean[0:minind]\n",
    "    return X,Y,Y2\n",
    "\n",
    "def getDataXYY2(movname,mlist):\n",
    "    fdf = getFeatDf(movname,mlist)\n",
    "    ba, bv = getDf(movname)\n",
    "    \n",
    "    minind = min([len(i) for i in [bv,ba,fdf]])\n",
    "    #normfdf = (fdf - fdf.mean()) / fdf.std()\n",
    "    normfdf = getNormalized2(fdf)\n",
    "    \n",
    "    X = fdf[0:minind]\n",
    "    Y = bv.Mean[0:minind]\n",
    "    Y2 = ba.Mean[0:minind]\n",
    "    return X,Y,Y2\n",
    "\n",
    "def getAllFeatureLabelData(movies,mlist):\n",
    "    X,Y,Y2 =  getDataXYY2(movies[0],mlist)\n",
    "    for mov in movies[1:]:\n",
    "        x,v,a = getDataXYY2(mov,mlist)\n",
    "        X = X.append(x)\n",
    "        Y = Y.append(v)\n",
    "        Y2 = Y2.append(a)        \n",
    "    return X,Y,Y2\n",
    "\n",
    "def getAllValArData(movies):\n",
    "    ba, bv = getDf(movies[0])\n",
    "    minind = min([len(i) for i in [bv,ba]])\n",
    "    V = bv.Mean[0:minind]\n",
    "    A = ba.Mean[0:minind]\n",
    "    \n",
    "    for mov in movies[1:]:\n",
    "        ba, bv = getDf(mov)\n",
    "        minind = min([len(i) for i in [bv,ba]])\n",
    "        V = V.append(bv.Mean[0:minind])\n",
    "        A = A.append(ba.Mean[0:minind])\n",
    "               \n",
    "    return V,A"
   ]
  },
  {
   "cell_type": "markdown",
   "metadata": {
    "collapsed": true
   },
   "source": [
    "mlist = list(contmovies.name.values)\n",
    "X,Y,Y2 = getAllFeatureLabelData(mlist,contmovies)\n",
    "V,A = getAllValArData(mlist)"
   ]
  },
  {
   "cell_type": "code",
   "execution_count": 41,
   "metadata": {
    "collapsed": true
   },
   "outputs": [],
   "source": [
    "cols = ['MSE','RMSE','r']\n",
    "data = np.array([np.arange(4)]*3).T\n",
    "\n",
    "arousalResult=pd.DataFrame(data,columns=cols)\n",
    "valenceResult=pd.DataFrame(data,columns=cols)"
   ]
  },
  {
   "cell_type": "code",
   "execution_count": 42,
   "metadata": {
    "collapsed": false
   },
   "outputs": [
    {
     "data": {
      "text/plain": [
       "array([[0, 1, 2, 3],\n",
       "       [0, 1, 2, 3],\n",
       "       [0, 1, 2, 3]])"
      ]
     },
     "execution_count": 42,
     "metadata": {},
     "output_type": "execute_result"
    }
   ],
   "source": [
    "data\n",
    "valenceResult\n",
    "np.array([np.arange(4)]*3)"
   ]
  },
  {
   "cell_type": "code",
   "execution_count": 43,
   "metadata": {
    "collapsed": false
   },
   "outputs": [
    {
     "name": "stdout",
     "output_type": "stream",
     "text": [
      "('valence MSE ', 0.048825985621128262)\n",
      "('valence RMSE ', 0.22096602820598524)\n",
      "('valence r and p ', 0.77827349597701756, ' ', 4.2132856945359733e-135)\n",
      "('arousal MSE ', 0.031533290149920193)\n",
      "('arousal RMSE ', 0.17757615310035352)\n",
      "('arousal r and p ', -0.27390708966839533, ' ', 8.0176456834137694e-13)\n"
     ]
    }
   ],
   "source": [
    "def buildTestModels(X,Y,Y2):\n",
    "    X_train, X_test, y_train, y_test = train_test_split(X, Y, random_state=1)\n",
    "    X2_train, X2_test, y2_train, y2_test = train_test_split(X, Y2, random_state=1)\n",
    "    \n",
    "    svr_rbf_va = SVR(kernel='rbf', C=1, gamma=0.001)\n",
    "    vamodel = svr_rbf_va.fit(X_train, y_train)\n",
    "    y_rbf_va = vamodel.predict(X_test)\n",
    "    # compute the MSE of our predictions\n",
    "    print(\"valence MSE \" , metrics.mean_squared_error(y_test, y_rbf_va))\n",
    "    # compute the RMSE of our predictions\n",
    "    print(\"valence RMSE \" , np.sqrt(metrics.mean_squared_error(y_test, y_rbf_va)))\n",
    "    # compute Pearson r\n",
    "    r_row, p_value = pearsonr(y_test, y_rbf_va)\n",
    "    print(\"valence r and p \" , r_row , \" \" , p_value)\n",
    "    \n",
    "    svr_rbf_ar = SVR(kernel='rbf', C=1, gamma=0.001)\n",
    "    armodel = svr_rbf_ar.fit(X2_train, y2_train)\n",
    "    y_rbf_ar = armodel.predict(X2_test)\n",
    "    # compute the MSE of our predictions\n",
    "    print(\"arousal MSE \" , metrics.mean_squared_error(y2_test, y_rbf_ar))\n",
    "    # compute the RMSE of our predictions\n",
    "    print(\"arousal RMSE \" , np.sqrt(metrics.mean_squared_error(y2_test, y_rbf_ar)))\n",
    "    # compute Pearson r\n",
    "    r_row, p_value = pearsonr(y_test, y_rbf_ar)\n",
    "    print(\"arousal r and p \" , r_row , \" \" , p_value)\n",
    "\n",
    "mlist = list(animovies.name.values)\n",
    "X,Y,Y2 = getAllFeatureLabelData(mlist,animovies)\n",
    "V,A = getAllValArData(mlist)\n",
    "buildTestModels(X,Y,Y2)"
   ]
  },
  {
   "cell_type": "code",
   "execution_count": 34,
   "metadata": {
    "collapsed": false
   },
   "outputs": [
    {
     "name": "stdout",
     "output_type": "stream",
     "text": [
      "Using All Data\n",
      "('valence MSE ', 0.048825985621128262)\n",
      "('valence RMSE ', 0.22096602820598524)\n",
      "('valence r and p ', 0.77827349597701756, ' ', 4.2132856945359733e-135)\n",
      "('arousal MSE ', 0.031533290149920193)\n",
      "('arousal RMSE ', 0.17757615310035352)\n",
      "('arousal r and p ', -0.27390708966839533, ' ', 8.0176456834137694e-13)\n"
     ]
    }
   ],
   "source": [
    "def alldatawork():\n",
    "    print(\"Using All Data\")\n",
    "    mlist = list(animovies.name.values)\n",
    "    X,Y,Y2 = getAllFeatureLabelData(mlist,animovies)    \n",
    "    buildTestModels(X,Y,Y2)\n",
    "\n",
    "alldatawork()"
   ]
  },
  {
   "cell_type": "code",
   "execution_count": 35,
   "metadata": {
    "collapsed": true
   },
   "outputs": [],
   "source": [
    "def buildOnetoRestVa(X_train, X_test, y_train, y_test):\n",
    "    #X_train, X_test, y_train, y_test = train_test_split(X, Y, random_state=1)\n",
    "    #X2_train, X2_test, y2_train, y2_test = train_test_split(X, Y2, random_state=1)\n",
    "    \n",
    "    svr_rbf_va = SVR(kernel='rbf', C=1, gamma=0.001)\n",
    "    vamodel = svr_rbf_va.fit(X_train, y_train)\n",
    "    y_rbf_va = vamodel.predict(X_test)\n",
    "    # compute the MSE of our predictions\n",
    "    mse = metrics.mean_squared_error(y_test, y_rbf_va)\n",
    "    rmse = np.sqrt(metrics.mean_squared_error(y_test, y_rbf_va))\n",
    "    print(\"valence MSE \" , mse )\n",
    "    # compute the RMSE of our predictions\n",
    "    print(\"valence RMSE \" , rmse )\n",
    "    # compute Pearson r\n",
    "    r_row, p_value = pearsonr(y_test, y_rbf_va)\n",
    "    print(\"valence r and p \" , r_row , \" \" , p_value)\n",
    "    return mse, rmse, r_row\n",
    "\n",
    "def buildOnetoRestAr(X2_train, X2_test, y2_train, y2_test):\n",
    "    # Arousal Model Train\n",
    "    svr_rbf_ar = SVR(kernel='rbf', C=1, gamma=0.001)\n",
    "    armodel = svr_rbf_ar.fit(X2_train, y2_train)\n",
    "\n",
    "    # Arousal Model Test\n",
    "    y_rbf_ar = armodel.predict(X2_test)\n",
    "    mse = metrics.mean_squared_error(y2_test, y_rbf_ar)\n",
    "    rmse = np.sqrt(metrics.mean_squared_error(y2_test, y_rbf_ar))\n",
    "    # compute the MSE of our predictions\n",
    "    print(\"arousal MSE \" , metrics.mean_squared_error(y2_test, y_rbf_ar))\n",
    "    # compute the RMSE of our predictions\n",
    "    print(\"arousal RMSE \" , np.sqrt(metrics.mean_squared_error(y2_test, y_rbf_ar)))\n",
    "    # compute Pearson r\n",
    "    r_row, p_value = pearsonr(y2_test, y_rbf_ar)\n",
    "    print(\"arousal r and p \" , r_row , \" \" , p_value)\n",
    "    return mse, rmse, r_row\n",
    "\n",
    "def OnetoRestwork():\n",
    "    print(\"Using ONE FOR TEST Data\")\n",
    "    mlist = list(animovies.name.values)\n",
    "    Xtest,Ytest,Y2test = getDataXYY2(mlist[0],animovies)\n",
    "    Xtrain,Ytrain,Y2train = getAllFeatureLabelData(mlist[1:],animovies)    \n",
    "    buildOnetoRestVa(Xtrain, Xtest, Ytrain, Ytest)\n",
    "    buildOnetoRestAr(Xtrain, Xtest, Ytrain, Y2test)\n",
    "    \n",
    "def OnetoRest(testmov,i):\n",
    "    print(\"Using ONE FOR REST Data\")\n",
    "    mlist = list(animovies.name.values)\n",
    "    print testmov\n",
    "    i=mlist.index(testmov)\n",
    "    mlist.remove(testmov) \n",
    "    print mlist\n",
    "    Xtest,Ytest,Y2test = getDataXYY2(testmov,animovies)\n",
    "    Xtrain,Ytrain,Y2train = getAllFeatureLabelData(mlist,animovies)\n",
    "    mse, rmse, r = buildOnetoRestVa(Xtrain, Xtest, Ytrain, Ytest)\n",
    "    valenceResult.loc[i]=[mse,rmse,r]\n",
    "    mse, rmse, r = buildOnetoRestAr(Xtrain, Xtest, Ytrain, Y2test)\n",
    "    arousalResult.loc[i]=[mse,rmse,r]\n",
    "    valenceResult, arousalResult\n",
    "\n",
    "def OnetoRestMovies(testmov,movieslist):\n",
    "    print(\"Using ONE FOR REST Data\")\n",
    "    mlist = list(movieslist.name.values)\n",
    "    print testmov\n",
    "    i=mlist.index(testmov)\n",
    "    mlist.remove(testmov) \n",
    "    print mlist\n",
    "    \n",
    "    Xtest,Ytest,Y2test = getDataXYY2(testmov,movieslist)\n",
    "    Xtrain,Ytrain,Y2train = getAllFeatureLabelData(mlist,movieslist)\n",
    "    mse, rmse, r = buildOnetoRestVa(Xtrain, Xtest, Ytrain, Ytest)\n",
    "    valenceResList.append([mse,rmse,r])\n",
    "    mse, rmse, r = buildOnetoRestAr(Xtrain, Xtest, Ytrain, Y2test)\n",
    "    arousalResList.append([mse,rmse,r])"
   ]
  },
  {
   "cell_type": "code",
   "execution_count": 37,
   "metadata": {
    "collapsed": false
   },
   "outputs": [
    {
     "name": "stdout",
     "output_type": "stream",
     "text": [
      "Using ONE FOR REST Data\n",
      "Big_Buck_Bunny\n",
      "['Elephant_s_Dream', 'Origami', 'Sintel']\n",
      "('valence MSE ', 0.18275402745321487)\n",
      "('valence RMSE ', 0.42749740052217261)\n",
      "('valence r and p ', -0.19252486541458372, ' ', 2.1518474109326711e-06)\n",
      "('arousal MSE ', 0.17795250271397836)\n",
      "('arousal RMSE ', 0.42184416875663738)\n",
      "('arousal r and p ', -0.16903579518726553, ' ', 3.3044194976842374e-05)\n",
      "Using ONE FOR REST Data\n",
      "Elephant_s_Dream\n",
      "['Big_Buck_Bunny', 'Origami', 'Sintel']\n",
      "('valence MSE ', 0.20919744273964966)\n",
      "('valence RMSE ', 0.45738106950293611)\n",
      "('valence r and p ', -0.16694247109394089, ' ', 1.776515780422195e-05)\n",
      "('arousal MSE ', 0.08685748669566723)\n",
      "('arousal RMSE ', 0.29471594238464133)\n",
      "('arousal r and p ', -0.10842376650566569, ' ', 0.0055091606691328827)\n",
      "Using ONE FOR REST Data\n",
      "Origami\n",
      "['Big_Buck_Bunny', 'Elephant_s_Dream', 'Sintel']\n",
      "('valence MSE ', 0.14844541612641352)\n",
      "('valence RMSE ', 0.3852861483708096)\n",
      "('valence r and p ', -0.058902896583760661, ' ', 0.18852530734701073)\n",
      "('arousal MSE ', 0.074425567512553387)\n",
      "('arousal RMSE ', 0.27281049743833791)\n",
      "('arousal r and p ', 0.091663819705057992, ' ', 0.040476754554533229)\n",
      "Using ONE FOR REST Data\n",
      "Sintel\n",
      "['Big_Buck_Bunny', 'Elephant_s_Dream', 'Origami']\n",
      "('valence MSE ', 0.20849808076030046)\n",
      "('valence RMSE ', 0.45661590068710972)\n",
      "('valence r and p ', -0.025694268570673844, ' ', 0.44443846786628438)\n",
      "('arousal MSE ', 0.0816024512824957)\n",
      "('arousal RMSE ', 0.28566142771206565)\n",
      "('arousal r and p ', 0.13637422534444596, ' ', 4.5581542825492105e-05)\n"
     ]
    }
   ],
   "source": [
    "\n",
    "n=0\n",
    "for mov in list(animovies.name.values):\n",
    "    OnetoRest(mov,n)\n",
    "    n=n+1"
   ]
  },
  {
   "cell_type": "code",
   "execution_count": 41,
   "metadata": {
    "collapsed": false
   },
   "outputs": [
    {
     "data": {
      "text/html": [
       "<div>\n",
       "<table border=\"1\" class=\"dataframe\">\n",
       "  <thead>\n",
       "    <tr style=\"text-align: right;\">\n",
       "      <th></th>\n",
       "      <th>MSE</th>\n",
       "      <th>RMSE</th>\n",
       "      <th>r</th>\n",
       "    </tr>\n",
       "  </thead>\n",
       "  <tbody>\n",
       "    <tr>\n",
       "      <th>count</th>\n",
       "      <td>4.000000</td>\n",
       "      <td>4.000000</td>\n",
       "      <td>4.000000</td>\n",
       "    </tr>\n",
       "    <tr>\n",
       "      <th>mean</th>\n",
       "      <td>0.105210</td>\n",
       "      <td>0.318758</td>\n",
       "      <td>-0.012355</td>\n",
       "    </tr>\n",
       "    <tr>\n",
       "      <th>std</th>\n",
       "      <td>0.048762</td>\n",
       "      <td>0.069309</td>\n",
       "      <td>0.149129</td>\n",
       "    </tr>\n",
       "    <tr>\n",
       "      <th>min</th>\n",
       "      <td>0.074426</td>\n",
       "      <td>0.272810</td>\n",
       "      <td>-0.169036</td>\n",
       "    </tr>\n",
       "    <tr>\n",
       "      <th>25%</th>\n",
       "      <td>0.079808</td>\n",
       "      <td>0.282449</td>\n",
       "      <td>-0.123577</td>\n",
       "    </tr>\n",
       "    <tr>\n",
       "      <th>50%</th>\n",
       "      <td>0.084230</td>\n",
       "      <td>0.290189</td>\n",
       "      <td>-0.008380</td>\n",
       "    </tr>\n",
       "    <tr>\n",
       "      <th>75%</th>\n",
       "      <td>0.109631</td>\n",
       "      <td>0.326498</td>\n",
       "      <td>0.102841</td>\n",
       "    </tr>\n",
       "    <tr>\n",
       "      <th>max</th>\n",
       "      <td>0.177953</td>\n",
       "      <td>0.421844</td>\n",
       "      <td>0.136374</td>\n",
       "    </tr>\n",
       "  </tbody>\n",
       "</table>\n",
       "</div>"
      ],
      "text/plain": [
       "            MSE      RMSE         r\n",
       "count  4.000000  4.000000  4.000000\n",
       "mean   0.105210  0.318758 -0.012355\n",
       "std    0.048762  0.069309  0.149129\n",
       "min    0.074426  0.272810 -0.169036\n",
       "25%    0.079808  0.282449 -0.123577\n",
       "50%    0.084230  0.290189 -0.008380\n",
       "75%    0.109631  0.326498  0.102841\n",
       "max    0.177953  0.421844  0.136374"
      ]
     },
     "execution_count": 41,
     "metadata": {},
     "output_type": "execute_result"
    }
   ],
   "source": [
    "arousalResult.describe()"
   ]
  },
  {
   "cell_type": "code",
   "execution_count": 39,
   "metadata": {
    "collapsed": false
   },
   "outputs": [
    {
     "data": {
      "text/html": [
       "<div>\n",
       "<table border=\"1\" class=\"dataframe\">\n",
       "  <thead>\n",
       "    <tr style=\"text-align: right;\">\n",
       "      <th></th>\n",
       "      <th>MSE</th>\n",
       "      <th>RMSE</th>\n",
       "      <th>r</th>\n",
       "    </tr>\n",
       "  </thead>\n",
       "  <tbody>\n",
       "    <tr>\n",
       "      <th>0</th>\n",
       "      <td>0.182754</td>\n",
       "      <td>0.427497</td>\n",
       "      <td>-0.192525</td>\n",
       "    </tr>\n",
       "    <tr>\n",
       "      <th>1</th>\n",
       "      <td>0.209197</td>\n",
       "      <td>0.457381</td>\n",
       "      <td>-0.166942</td>\n",
       "    </tr>\n",
       "    <tr>\n",
       "      <th>2</th>\n",
       "      <td>0.148445</td>\n",
       "      <td>0.385286</td>\n",
       "      <td>-0.058903</td>\n",
       "    </tr>\n",
       "    <tr>\n",
       "      <th>3</th>\n",
       "      <td>0.208498</td>\n",
       "      <td>0.456616</td>\n",
       "      <td>-0.025694</td>\n",
       "    </tr>\n",
       "  </tbody>\n",
       "</table>\n",
       "</div>"
      ],
      "text/plain": [
       "        MSE      RMSE         r\n",
       "0  0.182754  0.427497 -0.192525\n",
       "1  0.209197  0.457381 -0.166942\n",
       "2  0.148445  0.385286 -0.058903\n",
       "3  0.208498  0.456616 -0.025694"
      ]
     },
     "execution_count": 39,
     "metadata": {},
     "output_type": "execute_result"
    }
   ],
   "source": [
    "valenceResult"
   ]
  },
  {
   "cell_type": "code",
   "execution_count": 40,
   "metadata": {
    "collapsed": false
   },
   "outputs": [
    {
     "name": "stdout",
     "output_type": "stream",
     "text": [
      "Using ONE FOR REST Data\n",
      "After_The_Rain\n",
      "['Attitude_Matters', 'Barely_legal_stories', 'Between_Viewings', 'Chatter', 'Cloudland', 'Damaged_Kung_Fu', 'Decay', 'First_Bite', 'Full_Service', 'Islands', 'Lesson_Learned', 'Norm', 'Nuclear_Family', 'On_time', 'Parafundit', 'Payload', 'Riding_The_Rails', 'Spaceman', 'Superhero', 'Tears_of_Steel', 'The_room_of_franz_kafka', 'The_secret_number', 'To_Claire_From_Sonny', 'Wanted', 'You_Again']\n",
      "('valence MSE ', 0.009971576176724558)\n",
      "('valence RMSE ', 0.099857779750626124)\n",
      "('valence r and p ', -0.20226379850726037, ' ', 0.15043402991000018)\n",
      "('arousal MSE ', 0.041784863511033415)\n",
      "('arousal RMSE ', 0.20441346215705417)\n",
      "('arousal r and p ', -0.19440739388831058, ' ', 0.16726977423466199)\n",
      "Using ONE FOR REST Data\n",
      "Attitude_Matters\n",
      "['After_The_Rain', 'Barely_legal_stories', 'Between_Viewings', 'Chatter', 'Cloudland', 'Damaged_Kung_Fu', 'Decay', 'First_Bite', 'Full_Service', 'Islands', 'Lesson_Learned', 'Norm', 'Nuclear_Family', 'On_time', 'Parafundit', 'Payload', 'Riding_The_Rails', 'Spaceman', 'Superhero', 'Tears_of_Steel', 'The_room_of_franz_kafka', 'The_secret_number', 'To_Claire_From_Sonny', 'Wanted', 'You_Again']\n",
      "('valence MSE ', 0.11854619305238921)\n",
      "('valence RMSE ', 0.34430537761177826)\n",
      "('valence r and p ', 0.034514226287043565, ' ', 0.70941440098689079)\n",
      "('arousal MSE ', 0.06868045432793167)\n",
      "('arousal RMSE ', 0.26206956009413163)\n",
      "('arousal r and p ', 0.054575290697860712, ' ', 0.5555247953141369)\n",
      "Using ONE FOR REST Data\n",
      "Barely_legal_stories\n",
      "['After_The_Rain', 'Attitude_Matters', 'Between_Viewings', 'Chatter', 'Cloudland', 'Damaged_Kung_Fu', 'Decay', 'First_Bite', 'Full_Service', 'Islands', 'Lesson_Learned', 'Norm', 'Nuclear_Family', 'On_time', 'Parafundit', 'Payload', 'Riding_The_Rails', 'Spaceman', 'Superhero', 'Tears_of_Steel', 'The_room_of_franz_kafka', 'The_secret_number', 'To_Claire_From_Sonny', 'Wanted', 'You_Again']\n",
      "('valence MSE ', 0.031325135224691117)\n",
      "('valence RMSE ', 0.17698908221890727)\n",
      "('valence r and p ', -0.28109049363390182, ' ', 0.0087501071319973592)\n",
      "('arousal MSE ', 0.051155307564349016)\n",
      "('arousal RMSE ', 0.22617539115551236)\n",
      "('arousal r and p ', -0.3124128083174047, ' ', 0.0034062489578061969)\n",
      "Using ONE FOR REST Data\n",
      "Between_Viewings\n",
      "['After_The_Rain', 'Attitude_Matters', 'Barely_legal_stories', 'Chatter', 'Cloudland', 'Damaged_Kung_Fu', 'Decay', 'First_Bite', 'Full_Service', 'Islands', 'Lesson_Learned', 'Norm', 'Nuclear_Family', 'On_time', 'Parafundit', 'Payload', 'Riding_The_Rails', 'Spaceman', 'Superhero', 'Tears_of_Steel', 'The_room_of_franz_kafka', 'The_secret_number', 'To_Claire_From_Sonny', 'Wanted', 'You_Again']\n",
      "('valence MSE ', 0.094184110246539762)\n",
      "('valence RMSE ', 0.30689429816557323)\n",
      "('valence r and p ', -0.044796084841808324, ' ', 0.70470245204170223)\n",
      "('arousal MSE ', 0.056325705871089891)\n",
      "('arousal RMSE ', 0.23733037283729594)\n",
      "('arousal r and p ', -0.086564952614129387, ' ', 0.46333857399808365)\n",
      "Using ONE FOR REST Data\n",
      "Chatter\n",
      "['After_The_Rain', 'Attitude_Matters', 'Barely_legal_stories', 'Between_Viewings', 'Cloudland', 'Damaged_Kung_Fu', 'Decay', 'First_Bite', 'Full_Service', 'Islands', 'Lesson_Learned', 'Norm', 'Nuclear_Family', 'On_time', 'Parafundit', 'Payload', 'Riding_The_Rails', 'Spaceman', 'Superhero', 'Tears_of_Steel', 'The_room_of_franz_kafka', 'The_secret_number', 'To_Claire_From_Sonny', 'Wanted', 'You_Again']\n",
      "('valence MSE ', 0.10755284872036336)\n",
      "('valence RMSE ', 0.32795250985525842)\n",
      "('valence r and p ', -0.020395873447798283, ' ', 0.64585988162355612)\n",
      "('arousal MSE ', 0.21540361652441922)\n",
      "('arousal RMSE ', 0.46411595159444718)\n",
      "('arousal r and p ', 0.052620427841003022, ' ', 0.23552649151710942)\n",
      "Using ONE FOR REST Data\n",
      "Cloudland\n",
      "['After_The_Rain', 'Attitude_Matters', 'Barely_legal_stories', 'Between_Viewings', 'Chatter', 'Damaged_Kung_Fu', 'Decay', 'First_Bite', 'Full_Service', 'Islands', 'Lesson_Learned', 'Norm', 'Nuclear_Family', 'On_time', 'Parafundit', 'Payload', 'Riding_The_Rails', 'Spaceman', 'Superhero', 'Tears_of_Steel', 'The_room_of_franz_kafka', 'The_secret_number', 'To_Claire_From_Sonny', 'Wanted', 'You_Again']\n",
      "('valence MSE ', 0.03031725485286622)\n",
      "('valence RMSE ', 0.17411850807098658)\n",
      "('valence r and p ', -0.22633206891439744, ' ', 0.084754941736842893)\n",
      "('arousal MSE ', 0.030487988642223129)\n",
      "('arousal RMSE ', 0.17460810016211484)\n",
      "('arousal r and p ', 0.16170431811770958, ' ', 0.22111426529828246)\n",
      "Using ONE FOR REST Data\n",
      "Damaged_Kung_Fu\n",
      "['After_The_Rain', 'Attitude_Matters', 'Barely_legal_stories', 'Between_Viewings', 'Chatter', 'Cloudland', 'Decay', 'First_Bite', 'Full_Service', 'Islands', 'Lesson_Learned', 'Norm', 'Nuclear_Family', 'On_time', 'Parafundit', 'Payload', 'Riding_The_Rails', 'Spaceman', 'Superhero', 'Tears_of_Steel', 'The_room_of_franz_kafka', 'The_secret_number', 'To_Claire_From_Sonny', 'Wanted', 'You_Again']\n",
      "('valence MSE ', 0.01872903796663573)\n",
      "('valence RMSE ', 0.13685407544766701)\n",
      "('valence r and p ', 0.083669113500441691, ' ', 0.44647437469249318)\n",
      "('arousal MSE ', 0.12380546134144579)\n",
      "('arousal RMSE ', 0.35186000247462879)\n",
      "('arousal r and p ', -0.077209407822750445, ' ', 0.48246383784589442)\n",
      "Using ONE FOR REST Data\n",
      "Decay\n",
      "['After_The_Rain', 'Attitude_Matters', 'Barely_legal_stories', 'Between_Viewings', 'Chatter', 'Cloudland', 'Damaged_Kung_Fu', 'First_Bite', 'Full_Service', 'Islands', 'Lesson_Learned', 'Norm', 'Nuclear_Family', 'On_time', 'Parafundit', 'Payload', 'Riding_The_Rails', 'Spaceman', 'Superhero', 'Tears_of_Steel', 'The_room_of_franz_kafka', 'The_secret_number', 'To_Claire_From_Sonny', 'Wanted', 'You_Again']\n",
      "('valence MSE ', 0.039164034366743129)\n",
      "('valence RMSE ', 0.19789905094957663)\n",
      "('valence r and p ', 0.0079154101719884663, ' ', 0.87507257494512314)\n",
      "('arousal MSE ', 0.063302226440746887)\n",
      "('arousal RMSE ', 0.25159933712302757)\n",
      "('arousal r and p ', 0.0016924589017470932, ' ', 0.97318360493538292)\n",
      "Using ONE FOR REST Data\n",
      "First_Bite\n",
      "['After_The_Rain', 'Attitude_Matters', 'Barely_legal_stories', 'Between_Viewings', 'Chatter', 'Cloudland', 'Damaged_Kung_Fu', 'Decay', 'Full_Service', 'Islands', 'Lesson_Learned', 'Norm', 'Nuclear_Family', 'On_time', 'Parafundit', 'Payload', 'Riding_The_Rails', 'Spaceman', 'Superhero', 'Tears_of_Steel', 'The_room_of_franz_kafka', 'The_secret_number', 'To_Claire_From_Sonny', 'Wanted', 'You_Again']\n",
      "('valence MSE ', 0.024076280872134644)\n",
      "('valence RMSE ', 0.15516533398969837)\n",
      "('valence r and p ', -0.23821500743927029, ' ', 0.082807513170812599)\n",
      "('arousal MSE ', 0.032721764961252689)\n",
      "('arousal RMSE ', 0.18089158344503672)\n",
      "('arousal r and p ', -0.30815179340721699, ' ', 0.023394293095450401)\n",
      "Using ONE FOR REST Data\n",
      "Full_Service\n",
      "['After_The_Rain', 'Attitude_Matters', 'Barely_legal_stories', 'Between_Viewings', 'Chatter', 'Cloudland', 'Damaged_Kung_Fu', 'Decay', 'First_Bite', 'Islands', 'Lesson_Learned', 'Norm', 'Nuclear_Family', 'On_time', 'Parafundit', 'Payload', 'Riding_The_Rails', 'Spaceman', 'Superhero', 'Tears_of_Steel', 'The_room_of_franz_kafka', 'The_secret_number', 'To_Claire_From_Sonny', 'Wanted', 'You_Again']\n",
      "('valence MSE ', 0.021134368475099252)\n",
      "('valence RMSE ', 0.14537664349921983)\n",
      "('valence r and p ', 0.25053924921029452, ' ', 0.013318060861180097)\n",
      "('arousal MSE ', 0.098449980496346207)\n",
      "('arousal RMSE ', 0.31376739871494969)\n",
      "('arousal r and p ', 0.21723613316761015, ' ', 0.032566557202340356)\n",
      "Using ONE FOR REST Data\n",
      "Islands\n",
      "['After_The_Rain', 'Attitude_Matters', 'Barely_legal_stories', 'Between_Viewings', 'Chatter', 'Cloudland', 'Damaged_Kung_Fu', 'Decay', 'First_Bite', 'Full_Service', 'Lesson_Learned', 'Norm', 'Nuclear_Family', 'On_time', 'Parafundit', 'Payload', 'Riding_The_Rails', 'Spaceman', 'Superhero', 'Tears_of_Steel', 'The_room_of_franz_kafka', 'The_secret_number', 'To_Claire_From_Sonny', 'Wanted', 'You_Again']\n",
      "('valence MSE ', 0.02181568547908392)\n",
      "('valence RMSE ', 0.14770133878568575)\n",
      "('valence r and p ', -0.16170289301551388, ' ', 0.54963776343022341)\n",
      "('arousal MSE ', 0.026516830463705725)\n",
      "('arousal RMSE ', 0.16283989211402017)\n",
      "('arousal r and p ', 0.074993396798476192, ' ', 0.78252606073675579)\n",
      "Using ONE FOR REST Data\n",
      "Lesson_Learned\n",
      "['After_The_Rain', 'Attitude_Matters', 'Barely_legal_stories', 'Between_Viewings', 'Chatter', 'Cloudland', 'Damaged_Kung_Fu', 'Decay', 'First_Bite', 'Full_Service', 'Islands', 'Norm', 'Nuclear_Family', 'On_time', 'Parafundit', 'Payload', 'Riding_The_Rails', 'Spaceman', 'Superhero', 'Tears_of_Steel', 'The_room_of_franz_kafka', 'The_secret_number', 'To_Claire_From_Sonny', 'Wanted', 'You_Again']\n",
      "('valence MSE ', 0.13782425756536679)\n",
      "('valence RMSE ', 0.37124689569795299)\n",
      "('valence r and p ', -0.090397226537069206, ' ', 0.46348687962392809)\n",
      "('arousal MSE ', 0.14211108290290395)\n",
      "('arousal RMSE ', 0.37697623652281315)\n",
      "('arousal r and p ', 0.01796922471909454, ' ', 0.88436148697942285)\n",
      "Using ONE FOR REST Data\n",
      "Norm\n",
      "['After_The_Rain', 'Attitude_Matters', 'Barely_legal_stories', 'Between_Viewings', 'Chatter', 'Cloudland', 'Damaged_Kung_Fu', 'Decay', 'First_Bite', 'Full_Service', 'Islands', 'Lesson_Learned', 'Nuclear_Family', 'On_time', 'Parafundit', 'Payload', 'Riding_The_Rails', 'Spaceman', 'Superhero', 'Tears_of_Steel', 'The_room_of_franz_kafka', 'The_secret_number', 'To_Claire_From_Sonny', 'Wanted', 'You_Again']\n",
      "('valence MSE ', 0.013353947901349517)\n",
      "('valence RMSE ', 0.11555928306003597)\n",
      "('valence r and p ', -0.27043352106993579, ' ', 0.12797301751303866)\n",
      "('arousal MSE ', 0.078673513017993746)\n",
      "('arousal RMSE ', 0.28048799086234288)\n",
      "('arousal r and p ', 0.2690001111964796, ' ', 0.13008584638253365)\n",
      "Using ONE FOR REST Data\n",
      "Nuclear_Family\n",
      "['After_The_Rain', 'Attitude_Matters', 'Barely_legal_stories', 'Between_Viewings', 'Chatter', 'Cloudland', 'Damaged_Kung_Fu', 'Decay', 'First_Bite', 'Full_Service', 'Islands', 'Lesson_Learned', 'Norm', 'On_time', 'Parafundit', 'Payload', 'Riding_The_Rails', 'Spaceman', 'Superhero', 'Tears_of_Steel', 'The_room_of_franz_kafka', 'The_secret_number', 'To_Claire_From_Sonny', 'Wanted', 'You_Again']\n",
      "('valence MSE ', 0.029461184450796877)\n",
      "('valence RMSE ', 0.17164260674668419)\n",
      "('valence r and p ', 0.019079502022624099, ' ', 0.81796352347234147)\n",
      "('arousal MSE ', 0.029107955414180275)\n",
      "('arousal RMSE ', 0.17061053723079439)\n",
      "('arousal r and p ', 0.066148448639713461, ' ', 0.42441641356757753)\n",
      "Using ONE FOR REST Data\n",
      "On_time\n",
      "['After_The_Rain', 'Attitude_Matters', 'Barely_legal_stories', 'Between_Viewings', 'Chatter', 'Cloudland', 'Damaged_Kung_Fu', 'Decay', 'First_Bite', 'Full_Service', 'Islands', 'Lesson_Learned', 'Norm', 'Nuclear_Family', 'Parafundit', 'Payload', 'Riding_The_Rails', 'Spaceman', 'Superhero', 'Tears_of_Steel', 'The_room_of_franz_kafka', 'The_secret_number', 'To_Claire_From_Sonny', 'Wanted', 'You_Again']\n",
      "('valence MSE ', 0.043785627452603976)\n",
      "('valence RMSE ', 0.20925015520329723)\n",
      "('valence r and p ', 0.14555405000062016, ' ', 0.069829310249600651)\n",
      "('arousal MSE ', 0.071850637901518508)\n",
      "('arousal RMSE ', 0.26804969297038655)\n",
      "('arousal r and p ', 0.32044097802727795, ' ', 4.5388444425256999e-05)\n",
      "Using ONE FOR REST Data\n",
      "Parafundit\n",
      "['After_The_Rain', 'Attitude_Matters', 'Barely_legal_stories', 'Between_Viewings', 'Chatter', 'Cloudland', 'Damaged_Kung_Fu', 'Decay', 'First_Bite', 'Full_Service', 'Islands', 'Lesson_Learned', 'Norm', 'Nuclear_Family', 'On_time', 'Payload', 'Riding_The_Rails', 'Spaceman', 'Superhero', 'Tears_of_Steel', 'The_room_of_franz_kafka', 'The_secret_number', 'To_Claire_From_Sonny', 'Wanted', 'You_Again']\n",
      "('valence MSE ', 0.098066790703120382)\n",
      "('valence RMSE ', 0.31315617621742731)\n",
      "('valence r and p ', 0.062104463699713397, ' ', 0.080881559629750105)\n",
      "('arousal MSE ', 0.092321947392284096)\n",
      "('arousal RMSE ', 0.30384526883314161)\n",
      "('arousal r and p ', -0.14437391643625877, ' ', 4.5930456842898759e-05)\n",
      "Using ONE FOR REST Data\n",
      "Payload\n",
      "['After_The_Rain', 'Attitude_Matters', 'Barely_legal_stories', 'Between_Viewings', 'Chatter', 'Cloudland', 'Damaged_Kung_Fu', 'Decay', 'First_Bite', 'Full_Service', 'Islands', 'Lesson_Learned', 'Norm', 'Nuclear_Family', 'On_time', 'Parafundit', 'Riding_The_Rails', 'Spaceman', 'Superhero', 'Tears_of_Steel', 'The_room_of_franz_kafka', 'The_secret_number', 'To_Claire_From_Sonny', 'Wanted', 'You_Again']\n",
      "('valence MSE ', 0.069218892810416377)\n",
      "('valence RMSE ', 0.26309483615308071)\n",
      "('valence r and p ', -0.61854395711703625, ' ', 8.2159462667120211e-11)\n",
      "('arousal MSE ', 0.080599714386403204)\n",
      "('arousal RMSE ', 0.28390088831562893)\n",
      "('arousal r and p ', -0.44023455784434362, ' ', 1.4122646546761284e-05)\n",
      "Using ONE FOR REST Data\n",
      "Riding_The_Rails\n",
      "['After_The_Rain', 'Attitude_Matters', 'Barely_legal_stories', 'Between_Viewings', 'Chatter', 'Cloudland', 'Damaged_Kung_Fu', 'Decay', 'First_Bite', 'Full_Service', 'Islands', 'Lesson_Learned', 'Norm', 'Nuclear_Family', 'On_time', 'Parafundit', 'Payload', 'Spaceman', 'Superhero', 'Tears_of_Steel', 'The_room_of_franz_kafka', 'The_secret_number', 'To_Claire_From_Sonny', 'Wanted', 'You_Again']\n",
      "('valence MSE ', 0.04403742147482715)\n",
      "('valence RMSE ', 0.20985095061692513)\n",
      "('valence r and p ', 0.15783116082574911, ' ', 0.16477247038815976)\n",
      "('arousal MSE ', 0.11832626669234132)\n",
      "('arousal RMSE ', 0.34398585245957619)\n",
      "('arousal r and p ', -0.0063177865542069335, ' ', 0.95593196112703438)\n",
      "Using ONE FOR REST Data\n",
      "Spaceman\n",
      "['After_The_Rain', 'Attitude_Matters', 'Barely_legal_stories', 'Between_Viewings', 'Chatter', 'Cloudland', 'Damaged_Kung_Fu', 'Decay', 'First_Bite', 'Full_Service', 'Islands', 'Lesson_Learned', 'Norm', 'Nuclear_Family', 'On_time', 'Parafundit', 'Payload', 'Riding_The_Rails', 'Superhero', 'Tears_of_Steel', 'The_room_of_franz_kafka', 'The_secret_number', 'To_Claire_From_Sonny', 'Wanted', 'You_Again']\n",
      "('valence MSE ', 0.016509719605004733)\n",
      "('valence RMSE ', 0.12849015372784303)\n",
      "('valence r and p ', 0.12912833757693942, ' ', 0.25059331601837037)\n",
      "('arousal MSE ', 0.02776411410846168)\n",
      "('arousal RMSE ', 0.16662567061669004)\n",
      "('arousal r and p ', -0.15423296404992479, ' ', 0.16920485798608711)\n",
      "Using ONE FOR REST Data\n",
      "Superhero\n",
      "['After_The_Rain', 'Attitude_Matters', 'Barely_legal_stories', 'Between_Viewings', 'Chatter', 'Cloudland', 'Damaged_Kung_Fu', 'Decay', 'First_Bite', 'Full_Service', 'Islands', 'Lesson_Learned', 'Norm', 'Nuclear_Family', 'On_time', 'Parafundit', 'Payload', 'Riding_The_Rails', 'Spaceman', 'Tears_of_Steel', 'The_room_of_franz_kafka', 'The_secret_number', 'To_Claire_From_Sonny', 'Wanted', 'You_Again']\n",
      "('valence MSE ', 0.030068561240784497)\n",
      "('valence RMSE ', 0.17340288706011933)\n",
      "('valence r and p ', 0.1974380811944928, ' ', 0.050128859895618168)\n",
      "('arousal MSE ', 0.028255638600795038)\n",
      "('arousal RMSE ', 0.16809413612852483)\n",
      "('arousal r and p ', 0.073929969253410888, ' ', 0.4670741949230558)\n",
      "Using ONE FOR REST Data\n",
      "Tears_of_Steel\n",
      "['After_The_Rain', 'Attitude_Matters', 'Barely_legal_stories', 'Between_Viewings', 'Chatter', 'Cloudland', 'Damaged_Kung_Fu', 'Decay', 'First_Bite', 'Full_Service', 'Islands', 'Lesson_Learned', 'Norm', 'Nuclear_Family', 'On_time', 'Parafundit', 'Payload', 'Riding_The_Rails', 'Spaceman', 'Superhero', 'The_room_of_franz_kafka', 'The_secret_number', 'To_Claire_From_Sonny', 'Wanted', 'You_Again']\n",
      "('valence MSE ', 0.049537469774664486)\n",
      "('valence RMSE ', 0.22257014573986442)\n",
      "('valence r and p ', -0.066706827128899041, ' ', 0.070697369119485057)\n",
      "('arousal MSE ', 0.085607662183090766)\n",
      "('arousal RMSE ', 0.29258787087487198)\n",
      "('arousal r and p ', -0.06836220806855671, ' ', 0.063972303852094889)\n",
      "Using ONE FOR REST Data\n",
      "The_room_of_franz_kafka\n",
      "['After_The_Rain', 'Attitude_Matters', 'Barely_legal_stories', 'Between_Viewings', 'Chatter', 'Cloudland', 'Damaged_Kung_Fu', 'Decay', 'First_Bite', 'Full_Service', 'Islands', 'Lesson_Learned', 'Norm', 'Nuclear_Family', 'On_time', 'Parafundit', 'Payload', 'Riding_The_Rails', 'Spaceman', 'Superhero', 'Tears_of_Steel', 'The_secret_number', 'To_Claire_From_Sonny', 'Wanted', 'You_Again']\n",
      "('valence MSE ', 0.0060251339543920942)\n",
      "('valence RMSE ', 0.077621736352597101)\n",
      "('valence r and p ', 0.33692651206373331, ' ', 0.12519868233393569)\n",
      "('arousal MSE ', 0.019203916359265941)\n",
      "('arousal RMSE ', 0.13857819582916334)\n",
      "('arousal r and p ', -0.20646643522613839, ' ', 0.35659503602367992)\n",
      "Using ONE FOR REST Data\n",
      "The_secret_number\n",
      "['After_The_Rain', 'Attitude_Matters', 'Barely_legal_stories', 'Between_Viewings', 'Chatter', 'Cloudland', 'Damaged_Kung_Fu', 'Decay', 'First_Bite', 'Full_Service', 'Islands', 'Lesson_Learned', 'Norm', 'Nuclear_Family', 'On_time', 'Parafundit', 'Payload', 'Riding_The_Rails', 'Spaceman', 'Superhero', 'Tears_of_Steel', 'The_room_of_franz_kafka', 'To_Claire_From_Sonny', 'Wanted', 'You_Again']\n",
      "('valence MSE ', 0.22380186601314861)\n",
      "('valence RMSE ', 0.47307701911332428)\n",
      "('valence r and p ', -0.14246750010820178, ' ', 0.20452614794240082)\n",
      "('arousal MSE ', 0.083050159393854642)\n",
      "('arousal RMSE ', 0.28818424556844646)\n",
      "('arousal r and p ', 0.097808916543667343, ' ', 0.38502020414769655)\n",
      "Using ONE FOR REST Data\n",
      "To_Claire_From_Sonny\n",
      "['After_The_Rain', 'Attitude_Matters', 'Barely_legal_stories', 'Between_Viewings', 'Chatter', 'Cloudland', 'Damaged_Kung_Fu', 'Decay', 'First_Bite', 'Full_Service', 'Islands', 'Lesson_Learned', 'Norm', 'Nuclear_Family', 'On_time', 'Parafundit', 'Payload', 'Riding_The_Rails', 'Spaceman', 'Superhero', 'Tears_of_Steel', 'The_room_of_franz_kafka', 'The_secret_number', 'Wanted', 'You_Again']\n",
      "('valence MSE ', 0.050210326527641132)\n",
      "('valence RMSE ', 0.22407660861330692)\n",
      "('valence r and p ', 0.25213780325035745, ' ', 0.13793503522556497)\n",
      "('arousal MSE ', 0.084276914780744616)\n",
      "('arousal RMSE ', 0.29030486523781274)\n",
      "('arousal r and p ', -0.20651653195277231, ' ', 0.22687475131917192)\n",
      "Using ONE FOR REST Data\n",
      "Wanted\n",
      "['After_The_Rain', 'Attitude_Matters', 'Barely_legal_stories', 'Between_Viewings', 'Chatter', 'Cloudland', 'Damaged_Kung_Fu', 'Decay', 'First_Bite', 'Full_Service', 'Islands', 'Lesson_Learned', 'Norm', 'Nuclear_Family', 'On_time', 'Parafundit', 'Payload', 'Riding_The_Rails', 'Spaceman', 'Superhero', 'Tears_of_Steel', 'The_room_of_franz_kafka', 'The_secret_number', 'To_Claire_From_Sonny', 'You_Again']\n",
      "('valence MSE ', 0.0080935201176498273)\n",
      "('valence RMSE ', 0.089963993450990307)\n",
      "('valence r and p ', -0.10706449523873228, ' ', 0.7684626332934561)\n",
      "('arousal MSE ', 0.011633751931357232)\n",
      "('arousal RMSE ', 0.10785987173809003)\n",
      "('arousal r and p ', -0.61413438099389661, ' ', 0.058901762028667967)\n",
      "Using ONE FOR REST Data\n",
      "You_Again\n",
      "['After_The_Rain', 'Attitude_Matters', 'Barely_legal_stories', 'Between_Viewings', 'Chatter', 'Cloudland', 'Damaged_Kung_Fu', 'Decay', 'First_Bite', 'Full_Service', 'Islands', 'Lesson_Learned', 'Norm', 'Nuclear_Family', 'On_time', 'Parafundit', 'Payload', 'Riding_The_Rails', 'Spaceman', 'Superhero', 'Tears_of_Steel', 'The_room_of_franz_kafka', 'The_secret_number', 'To_Claire_From_Sonny', 'Wanted']\n",
      "('valence MSE ', 0.01917417831935397)\n",
      "('valence RMSE ', 0.13847085729262301)\n",
      "('valence r and p ', -0.042800107519374665, ' ', 0.7154089909116772)\n",
      "('arousal MSE ', 0.093934043192219638)\n",
      "('arousal RMSE ', 0.30648661176668002)\n",
      "('arousal r and p ', 0.037499684346712574, ' ', 0.7494121634931743)\n"
     ]
    }
   ],
   "source": [
    "arousalResList = []\n",
    "valenceResList = []\n",
    "for mov in list(contmovies.name.values):\n",
    "    OnetoRestMovies(mov,contmovies)"
   ]
  },
  {
   "cell_type": "code",
   "execution_count": 47,
   "metadata": {
    "collapsed": false
   },
   "outputs": [
    {
     "data": {
      "text/html": [
       "<div>\n",
       "<table border=\"1\" class=\"dataframe\">\n",
       "  <thead>\n",
       "    <tr style=\"text-align: right;\">\n",
       "      <th></th>\n",
       "      <th>0</th>\n",
       "      <th>1</th>\n",
       "      <th>2</th>\n",
       "    </tr>\n",
       "  </thead>\n",
       "  <tbody>\n",
       "    <tr>\n",
       "      <th>count</th>\n",
       "      <td>26.000000</td>\n",
       "      <td>26.000000</td>\n",
       "      <td>26.000000</td>\n",
       "    </tr>\n",
       "    <tr>\n",
       "      <th>mean</th>\n",
       "      <td>0.071360</td>\n",
       "      <td>0.254471</td>\n",
       "      <td>-0.052837</td>\n",
       "    </tr>\n",
       "    <tr>\n",
       "      <th>std</th>\n",
       "      <td>0.045443</td>\n",
       "      <td>0.082875</td>\n",
       "      <td>0.215194</td>\n",
       "    </tr>\n",
       "    <tr>\n",
       "      <th>min</th>\n",
       "      <td>0.011634</td>\n",
       "      <td>0.107860</td>\n",
       "      <td>-0.614134</td>\n",
       "    </tr>\n",
       "    <tr>\n",
       "      <th>25%</th>\n",
       "      <td>0.031046</td>\n",
       "      <td>0.176179</td>\n",
       "      <td>-0.184364</td>\n",
       "    </tr>\n",
       "    <tr>\n",
       "      <th>50%</th>\n",
       "      <td>0.070266</td>\n",
       "      <td>0.265060</td>\n",
       "      <td>-0.002313</td>\n",
       "    </tr>\n",
       "    <tr>\n",
       "      <th>75%</th>\n",
       "      <td>0.090643</td>\n",
       "      <td>0.301031</td>\n",
       "      <td>0.071985</td>\n",
       "    </tr>\n",
       "    <tr>\n",
       "      <th>max</th>\n",
       "      <td>0.215404</td>\n",
       "      <td>0.464116</td>\n",
       "      <td>0.320441</td>\n",
       "    </tr>\n",
       "  </tbody>\n",
       "</table>\n",
       "</div>"
      ],
      "text/plain": [
       "               0          1          2\n",
       "count  26.000000  26.000000  26.000000\n",
       "mean    0.071360   0.254471  -0.052837\n",
       "std     0.045443   0.082875   0.215194\n",
       "min     0.011634   0.107860  -0.614134\n",
       "25%     0.031046   0.176179  -0.184364\n",
       "50%     0.070266   0.265060  -0.002313\n",
       "75%     0.090643   0.301031   0.071985\n",
       "max     0.215404   0.464116   0.320441"
      ]
     },
     "execution_count": 47,
     "metadata": {},
     "output_type": "execute_result"
    }
   ],
   "source": [
    "pd.DataFrame(arousalResList).describe()"
   ]
  },
  {
   "cell_type": "code",
   "execution_count": 44,
   "metadata": {
    "collapsed": false
   },
   "outputs": [
    {
     "data": {
      "text/plain": [
       "<matplotlib.axes._subplots.AxesSubplot at 0x7fa619f7db10>"
      ]
     },
     "execution_count": 44,
     "metadata": {},
     "output_type": "execute_result"
    },
    {
     "data": {
      "image/png": "[encoded data removed]",
      "text/plain": [
       "<matplotlib.figure.Figure at 0x7fa619aa5710>"
      ]
     },
     "metadata": {},
     "output_type": "display_data"
    }
   ],
   "source": [
    "pd.DataFrame(arousalResList).plot()"
   ]
  },
  {
   "cell_type": "code",
   "execution_count": 45,
   "metadata": {
    "collapsed": false
   },
   "outputs": [
    {
     "data": {
      "text/plain": [
       "<matplotlib.axes._subplots.AxesSubplot at 0x7fa619f7d8d0>"
      ]
     },
     "execution_count": 45,
     "metadata": {},
     "output_type": "execute_result"
    },
    {
     "data": {
      "image/png": "[encoded data removed]",
      "text/plain": [
       "<matplotlib.figure.Figure at 0x7fa61a164390>"
      ]
     },
     "metadata": {},
     "output_type": "display_data"
    }
   ],
   "source": [
    "pd.DataFrame(valenceResList).plot()"
   ]
  },
  {
   "cell_type": "code",
   "execution_count": null,
   "metadata": {
    "collapsed": true
   },
   "outputs": [],
   "source": []
  }
 ],
 "metadata": {
  "kernelspec": {
   "display_name": "Python 2",
   "language": "python",
   "name": "python2"
  },
  "language_info": {
   "codemirror_mode": {
    "name": "ipython",
    "version": 2
   },
   "file_extension": ".py",
   "mimetype": "text/x-python",
   "name": "python",
   "nbconvert_exporter": "python",
   "pygments_lexer": "ipython2",
   "version": "2.7.11"
  }
 },
 "nbformat": 4,
 "nbformat_minor": 0
}
