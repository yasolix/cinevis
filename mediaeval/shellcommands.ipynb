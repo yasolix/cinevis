{
 "cells": [
  {
   "cell_type": "code",
   "execution_count": 1,
   "metadata": {
    "collapsed": false,
    "deletable": true,
    "editable": true
   },
   "outputs": [],
   "source": [
    "import os\n",
    "faces='/home/yt/Desktop/cvpr2014/repro/mediaeval/data/dataset/dlibfaces/'\n",
    "base = \"/home/yt/Desktop/mediaeval2017/MEDIAEVAL17-TestSet-Data/MEDIAEVAL17-TestSet-Data/data/testsetframes/\"\n",
    "for i in range(14):\n",
    "    #folder=base+\"MEDIAEVAL17_\" + \"%02d\"%i\n",
    "    #cmd = 'mkdir '  + folder\n",
    "    oldfilename = faces+\"MEDIAEVAL17_\" + \"%02d\"%i +'-faces.txt'\n",
    "    newfilename = faces+\"MEDIAEVAL17_\" + \"%02d\"%i +'.mp4-faces.txt'\n",
    "    cmd = \"mv \"+oldfilename+' '+newfilename\n",
    "    os.system(cmd)"
   ]
  },
  {
   "cell_type": "code",
   "execution_count": 1,
   "metadata": {
    "collapsed": true,
    "deletable": true,
    "editable": true
   },
   "outputs": [],
   "source": [
    "import glob\n",
    "import os"
   ]
  },
  {
   "cell_type": "code",
   "execution_count": 5,
   "metadata": {
    "collapsed": false
   },
   "outputs": [
    {
     "name": "stdout",
     "output_type": "stream",
     "text": [
      "/home/yt/Downloads/shotboundary/video_segmentation/video_segmentation /home/yt/Desktop/cvpr2014/repro/mediaeval/data/dataset/ContinuousLIRIS-ACCEDE/continuous-movies/After_The_Rain.mp4\n",
      "/home/yt/Downloads/shotboundary/video_segmentation/video_segmentation /home/yt/Desktop/cvpr2014/repro/mediaeval/data/dataset/ContinuousLIRIS-ACCEDE/continuous-movies/Attitude_Matters.mp4\n",
      "/home/yt/Downloads/shotboundary/video_segmentation/video_segmentation /home/yt/Desktop/cvpr2014/repro/mediaeval/data/dataset/ContinuousLIRIS-ACCEDE/continuous-movies/Barely_legal_stories.mp4\n",
      "/home/yt/Downloads/shotboundary/video_segmentation/video_segmentation /home/yt/Desktop/cvpr2014/repro/mediaeval/data/dataset/ContinuousLIRIS-ACCEDE/continuous-movies/Between_Viewings.mp4\n",
      "/home/yt/Downloads/shotboundary/video_segmentation/video_segmentation /home/yt/Desktop/cvpr2014/repro/mediaeval/data/dataset/ContinuousLIRIS-ACCEDE/continuous-movies/Big_Buck_Bunny.mp4\n",
      "/home/yt/Downloads/shotboundary/video_segmentation/video_segmentation /home/yt/Desktop/cvpr2014/repro/mediaeval/data/dataset/ContinuousLIRIS-ACCEDE/continuous-movies/Chatter.mp4\n",
      "/home/yt/Downloads/shotboundary/video_segmentation/video_segmentation /home/yt/Desktop/cvpr2014/repro/mediaeval/data/dataset/ContinuousLIRIS-ACCEDE/continuous-movies/Cloudland.mp4\n",
      "/home/yt/Downloads/shotboundary/video_segmentation/video_segmentation /home/yt/Desktop/cvpr2014/repro/mediaeval/data/dataset/ContinuousLIRIS-ACCEDE/continuous-movies/Damaged_Kung_Fu.mp4\n",
      "/home/yt/Downloads/shotboundary/video_segmentation/video_segmentation /home/yt/Desktop/cvpr2014/repro/mediaeval/data/dataset/ContinuousLIRIS-ACCEDE/continuous-movies/Decay.mp4\n",
      "/home/yt/Downloads/shotboundary/video_segmentation/video_segmentation /home/yt/Desktop/cvpr2014/repro/mediaeval/data/dataset/ContinuousLIRIS-ACCEDE/continuous-movies/Elephant_s_Dream.mp4\n",
      "/home/yt/Downloads/shotboundary/video_segmentation/video_segmentation /home/yt/Desktop/cvpr2014/repro/mediaeval/data/dataset/ContinuousLIRIS-ACCEDE/continuous-movies/First_Bite.mp4\n",
      "/home/yt/Downloads/shotboundary/video_segmentation/video_segmentation /home/yt/Desktop/cvpr2014/repro/mediaeval/data/dataset/ContinuousLIRIS-ACCEDE/continuous-movies/Full_Service.mp4\n",
      "/home/yt/Downloads/shotboundary/video_segmentation/video_segmentation /home/yt/Desktop/cvpr2014/repro/mediaeval/data/dataset/ContinuousLIRIS-ACCEDE/continuous-movies/Islands.mp4\n",
      "/home/yt/Downloads/shotboundary/video_segmentation/video_segmentation /home/yt/Desktop/cvpr2014/repro/mediaeval/data/dataset/ContinuousLIRIS-ACCEDE/continuous-movies/Lesson_Learned.mp4\n",
      "/home/yt/Downloads/shotboundary/video_segmentation/video_segmentation /home/yt/Desktop/cvpr2014/repro/mediaeval/data/dataset/ContinuousLIRIS-ACCEDE/continuous-movies/Norm.mp4\n",
      "/home/yt/Downloads/shotboundary/video_segmentation/video_segmentation /home/yt/Desktop/cvpr2014/repro/mediaeval/data/dataset/ContinuousLIRIS-ACCEDE/continuous-movies/Nuclear_Family.mp4\n",
      "/home/yt/Downloads/shotboundary/video_segmentation/video_segmentation /home/yt/Desktop/cvpr2014/repro/mediaeval/data/dataset/ContinuousLIRIS-ACCEDE/continuous-movies/On_time.mp4\n",
      "/home/yt/Downloads/shotboundary/video_segmentation/video_segmentation /home/yt/Desktop/cvpr2014/repro/mediaeval/data/dataset/ContinuousLIRIS-ACCEDE/continuous-movies/Origami.mp4\n",
      "/home/yt/Downloads/shotboundary/video_segmentation/video_segmentation /home/yt/Desktop/cvpr2014/repro/mediaeval/data/dataset/ContinuousLIRIS-ACCEDE/continuous-movies/Parafundit.mp4\n",
      "/home/yt/Downloads/shotboundary/video_segmentation/video_segmentation /home/yt/Desktop/cvpr2014/repro/mediaeval/data/dataset/ContinuousLIRIS-ACCEDE/continuous-movies/Payload.mp4\n",
      "/home/yt/Downloads/shotboundary/video_segmentation/video_segmentation /home/yt/Desktop/cvpr2014/repro/mediaeval/data/dataset/ContinuousLIRIS-ACCEDE/continuous-movies/Riding_The_Rails.mp4\n",
      "/home/yt/Downloads/shotboundary/video_segmentation/video_segmentation /home/yt/Desktop/cvpr2014/repro/mediaeval/data/dataset/ContinuousLIRIS-ACCEDE/continuous-movies/Sintel.mp4\n",
      "/home/yt/Downloads/shotboundary/video_segmentation/video_segmentation /home/yt/Desktop/cvpr2014/repro/mediaeval/data/dataset/ContinuousLIRIS-ACCEDE/continuous-movies/Spaceman.mp4\n",
      "/home/yt/Downloads/shotboundary/video_segmentation/video_segmentation /home/yt/Desktop/cvpr2014/repro/mediaeval/data/dataset/ContinuousLIRIS-ACCEDE/continuous-movies/Superhero.mp4\n",
      "/home/yt/Downloads/shotboundary/video_segmentation/video_segmentation /home/yt/Desktop/cvpr2014/repro/mediaeval/data/dataset/ContinuousLIRIS-ACCEDE/continuous-movies/Tears_of_Steel.mp4\n",
      "/home/yt/Downloads/shotboundary/video_segmentation/video_segmentation /home/yt/Desktop/cvpr2014/repro/mediaeval/data/dataset/ContinuousLIRIS-ACCEDE/continuous-movies/The_room_of_franz_kafka.mp4\n",
      "/home/yt/Downloads/shotboundary/video_segmentation/video_segmentation /home/yt/Desktop/cvpr2014/repro/mediaeval/data/dataset/ContinuousLIRIS-ACCEDE/continuous-movies/The_secret_number.mp4\n",
      "/home/yt/Downloads/shotboundary/video_segmentation/video_segmentation /home/yt/Desktop/cvpr2014/repro/mediaeval/data/dataset/ContinuousLIRIS-ACCEDE/continuous-movies/To_Claire_From_Sonny.mp4\n",
      "/home/yt/Downloads/shotboundary/video_segmentation/video_segmentation /home/yt/Desktop/cvpr2014/repro/mediaeval/data/dataset/ContinuousLIRIS-ACCEDE/continuous-movies/Wanted.mp4\n",
      "/home/yt/Downloads/shotboundary/video_segmentation/video_segmentation /home/yt/Desktop/cvpr2014/repro/mediaeval/data/dataset/ContinuousLIRIS-ACCEDE/continuous-movies/You_Again.mp4\n"
     ]
    }
   ],
   "source": [
    "moviesfolder = '/home/yt/Desktop/cvpr2014/repro/mediaeval/data/dataset/ContinuousLIRIS-ACCEDE/continuous-movies/'\n",
    "for m in sorted(glob.glob(moviesfolder+'*')):\n",
    "    cmd = \"/home/yt/Downloads/shotboundary/video_segmentation/video_segmentation \" + m\n",
    "    print cmd\n",
    "    #os.system(cmd)"
   ]
  },
  {
   "cell_type": "code",
   "execution_count": null,
   "metadata": {
    "collapsed": true
   },
   "outputs": [],
   "source": []
  }
 ],
 "metadata": {
  "kernelspec": {
   "display_name": "Python 2",
   "language": "python",
   "name": "python2"
  },
  "language_info": {
   "codemirror_mode": {
    "name": "ipython",
    "version": 2
   },
   "file_extension": ".py",
   "mimetype": "text/x-python",
   "name": "python",
   "nbconvert_exporter": "python",
   "pygments_lexer": "ipython2",
   "version": "2.7.11"
  }
 },
 "nbformat": 4,
 "nbformat_minor": 0
}
