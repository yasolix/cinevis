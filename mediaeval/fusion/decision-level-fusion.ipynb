{
 "cells": [
  {
   "cell_type": "code",
   "execution_count": 1,
   "metadata": {
    "collapsed": true
   },
   "outputs": [],
   "source": [
    "import os\n",
    "import numpy as np\n",
    "from sklearn.metrics import mean_squared_error\n",
    "from scipy.stats.mstats import pearsonr\n",
    "\n",
    "testset = ['MEDIAEVAL17_00','MEDIAEVAL17_01','MEDIAEVAL17_02','MEDIAEVAL17_03','MEDIAEVAL17_04','MEDIAEVAL17_05','MEDIAEVAL17_06','MEDIAEVAL17_07','MEDIAEVAL17_08','MEDIAEVAL17_09','MEDIAEVAL17_10','MEDIAEVAL17_11','MEDIAEVAL17_12','MEDIAEVAL17_13' ]\n",
    "\n",
    "dir_input ='fusedir/'\n",
    "dir_results = 'teams/'\n"
   ]
  },
  {
   "cell_type": "code",
   "execution_count": 71,
   "metadata": {
    "collapsed": false
   },
   "outputs": [],
   "source": [
    "def read_valence_arousal(): \n",
    "    dict_val={}\n",
    "    dict_ar={}\n",
    "    files = os.listdir(dir_input)\n",
    "    for fname in files:\n",
    "        if fname.find('.txt') >= 0:\n",
    "            print(fname)\n",
    "\n",
    "            with open(dir_input+fname,'r') as f:\n",
    "                lines = f.read().splitlines()\n",
    "                #print(lines)\n",
    "\n",
    "            dict_val[fname] ={}\n",
    "            dict_ar[fname] ={}\n",
    "            names=[]\n",
    "            indexes = []\n",
    "            for i in range(len(lines)):\n",
    "                if lines[i].find(\"MEDIAEVAL17\") >= 0:\n",
    "                    indexes.append(i)\n",
    "                    names.append(lines[i])\n",
    "\n",
    "            for i in range(len(names)):\n",
    "                ibeg = indexes[i]+1\n",
    "                iend = indexes[i+1]-1 if i < len(names)-1 else len(lines)-1\n",
    "                #print(ibeg,' ',iend)\n",
    "\n",
    "                valence=[]\n",
    "                arousal=[]\n",
    "                for j in range(ibeg,iend+1):\n",
    "                    items = lines[j].split()\n",
    "                    valence.append(float(items[0]))\n",
    "                    arousal.append(float(items[1]))\n",
    "\n",
    "                dict_val[fname][names[i]] = valence\n",
    "                dict_ar[fname][names[i]] = arousal\n",
    "    \n",
    "    return dict_val,dict_ar\n"
   ]
  },
  {
   "cell_type": "code",
   "execution_count": 70,
   "metadata": {
    "collapsed": false
   },
   "outputs": [],
   "source": [
    "def mean_fuse(dict_val,dict_ar,filename='fused.txt'):\n",
    "    f = open(dir_results+filename,'w')\n",
    "    for test in testset:\n",
    "        #print(test)\n",
    "        f.write(test+os.linesep)\n",
    "        minv = min([ len(dict_val[i][test]) for i in dict_val])\n",
    "        fusedval = np.mean([ dict_val[i][test][0:minv] for i in dict_val],axis=0)\n",
    "\n",
    "        fusedar = np.mean([ dict_ar[i][test][0:minv] for i in dict_ar],axis=0)\n",
    "        for i in range(len(fusedval)):\n",
    "            f.write(str(fusedval[i])+' '+str(fusedar[i])+os.linesep)\n",
    "    f.close()   "
   ]
  },
  {
   "cell_type": "code",
   "execution_count": 72,
   "metadata": {
    "collapsed": false
   },
   "outputs": [
    {
     "name": "stdout",
     "output_type": "stream",
     "text": [
      "me17ei_BOUN-nku_valence_arousal_5.txt\n",
      "me17ei_BOUN-nku_valence_arousal_1.txt\n"
     ]
    }
   ],
   "source": [
    "\n",
    "# First copy the files to be fused to  fusedir\n",
    "# Then run \n",
    "dict_val,dict_ar = read_valence_arousal()\n",
    "\n",
    "#write to new file, give a distinctive name with a fuse method\n",
    "mean_fuse(dict_val,dict_ar,filename='fused.txt')"
   ]
  },
  {
   "cell_type": "code",
   "execution_count": null,
   "metadata": {
    "collapsed": true
   },
   "outputs": [],
   "source": []
  }
 ],
 "metadata": {
  "kernelspec": {
   "display_name": "Python 2",
   "language": "python",
   "name": "python2"
  },
  "language_info": {
   "codemirror_mode": {
    "name": "ipython",
    "version": 2
   },
   "file_extension": ".py",
   "mimetype": "text/x-python",
   "name": "python",
   "nbconvert_exporter": "python",
   "pygments_lexer": "ipython2",
   "version": "2.7.11"
  }
 },
 "nbformat": 4,
 "nbformat_minor": 0
}
