{
 "cells": [
  {
   "cell_type": "markdown",
   "metadata": {
    "collapsed": true,
    "deletable": true,
    "editable": true
   },
   "source": [
    "## Fear Prediction with Audio Visual features"
   ]
  },
  {
   "cell_type": "code",
   "execution_count": null,
   "metadata": {
    "collapsed": true,
    "deletable": true,
    "editable": true
   },
   "outputs": [],
   "source": []
  },
  {
   "cell_type": "code",
   "execution_count": 2,
   "metadata": {
    "collapsed": true,
    "deletable": true,
    "editable": true
   },
   "outputs": [],
   "source": [
    "import numpy as np\n",
    "import pylab as pl\n",
    "import re, fileinput\n",
    "import os.path\n",
    "import glob\n",
    "\n",
    "import pandas as pd\n",
    "from pandas import DataFrame, Series\n",
    "\n",
    "import matplotlib.pyplot as plt\n",
    "import matplotlib.colors as colors\n",
    "\n",
    "\n",
    "import matplotlib\n",
    "matplotlib.style.use('ggplot')\n",
    "\n",
    "%matplotlib inline"
   ]
  },
  {
   "cell_type": "code",
   "execution_count": 3,
   "metadata": {
    "collapsed": true,
    "deletable": true,
    "editable": true
   },
   "outputs": [],
   "source": [
    "from sklearn.metrics import accuracy_score\n",
    "from sklearn import preprocessing\n",
    "from sklearn import metrics\n",
    "from sklearn.svm import LinearSVC\n",
    "from sklearn.svm import SVC\n",
    "from sklearn import svm\n",
    "from sklearn.svm import SVR\n",
    "from sklearn.metrics import mean_squared_error\n",
    "from sklearn.model_selection import train_test_split, cross_val_score\n",
    "import scipy\n",
    "from scipy.stats import pearsonr"
   ]
  },
  {
   "cell_type": "code",
   "execution_count": 4,
   "metadata": {
    "collapsed": true,
    "deletable": true,
    "editable": true
   },
   "outputs": [],
   "source": [
    "\n",
    "\n",
    "# Input data\n",
    "movieNames = ['After_The_Rain','Attitude_Matters','Barely_legal_stories','Between_Viewings','Big_Buck_Bunny','Chatter','Cloudland','Damaged_Kung_Fu','Decay','Elephant_s_Dream','First_Bite','Full_Service','Islands','Lesson_Learned','Norm','Nuclear_Family','On_time','Origami','Parafundit','Payload','Riding_The_Rails','Sintel','Spaceman','Superhero','Tears_of_Steel','The_room_of_franz_kafka','The_secret_number','To_Claire_From_Sonny','Wanted','You_Again']\n",
    "\n",
    "pathcontinuous = \"/home/yt/Desktop/cvpr2014/repro/mediaeval/data/dataset/ContinuousLIRIS-ACCEDE/\"\n",
    "continuousAnnotationsFolder = pathcontinuous +'continuous-annotations/'\n",
    "devdatacontinous =  pathcontinuous + \"continuous-movies/\"\n",
    "pathcontfeatures = \"/home/yt/Desktop/cvpr2014/repro/mediaeval/data/dataset/Continuous/features-out-1/\"\n",
    "\n",
    "med2017visualFeaturesfolder='/home/yt/Desktop/mediaeval2017/MEDIAEVAL17-DevSet-Visual_features/MEDIAEVAL17-DevSet-Visual_features/features/'\n",
    "med2017audiofolder='/home/yt/Desktop/mediaeval2017/MEDIAEVAL17-DevSet-Audio_features/MEDIAEVAL17-DevSet-Audio_features/features/'\n",
    "med2017annotationsFolder = '/home/yt/Desktop/mediaeval2017/MEDIAEVAL17-DevSet-Valence_Arousal-annotations/MEDIAEVAL17-DevSet-Valence_Arousal-annotations/annotations/'\n",
    "med2017fearFolder = '/home/yt/Desktop/mediaeval2017/MEDIAEVAL17-DevSet-Fear-annotations/MEDIAEVAL17-DevSet-Fear-annotations/annotations/'\n"
   ]
  },
  {
   "cell_type": "code",
   "execution_count": 5,
   "metadata": {
    "collapsed": true,
    "deletable": true,
    "editable": true
   },
   "outputs": [],
   "source": [
    "med2017visualFeaturesfolderTest='/home/yt/Desktop/mediaeval2017/MEDIAEVAL17-TestSet-Visual_features/MEDIAEVAL17-TestSet-Visual_features/visual_features/'\n",
    "med2017audiofolderTest = '/home/yt/Desktop/mediaeval2017/MEDIAEVAL17-TestSet-Audio_features/MEDIAEVAL17-TestSet-Audio_features/audio_features/'\n",
    "med2017datafolderTest = '/home/yt/Desktop/mediaeval2017/MEDIAEVAL17-TestSet-Data/MEDIAEVAL17-TestSet-Data/data/'\n"
   ]
  },
  {
   "cell_type": "code",
   "execution_count": 6,
   "metadata": {
    "collapsed": true,
    "deletable": true,
    "editable": true
   },
   "outputs": [],
   "source": [
    "files = glob.glob(med2017datafolderTest+'*')\n",
    "testmovienames =[ f.split('/')[-1].replace('.mp4','') for f in sorted(files) ]"
   ]
  },
  {
   "cell_type": "code",
   "execution_count": 7,
   "metadata": {
    "collapsed": true,
    "deletable": true,
    "editable": true
   },
   "outputs": [],
   "source": [
    "files = glob.glob(devdatacontinous+'*')\n",
    "devmovienames =[ f.split('/')[-1].replace('.mp4','') for f in sorted(files) ]"
   ]
  },
  {
   "cell_type": "code",
   "execution_count": 36,
   "metadata": {
    "collapsed": false,
    "deletable": true,
    "editable": true
   },
   "outputs": [
    {
     "data": {
      "text/plain": [
       "(14, 'MEDIAEVAL17_00')"
      ]
     },
     "execution_count": 36,
     "metadata": {},
     "output_type": "execute_result"
    }
   ],
   "source": [
    "len(testmovienames), testmovienames[0]"
   ]
  },
  {
   "cell_type": "code",
   "execution_count": 9,
   "metadata": {
    "collapsed": false,
    "deletable": true,
    "editable": true
   },
   "outputs": [
    {
     "data": {
      "text/plain": [
       "30"
      ]
     },
     "execution_count": 9,
     "metadata": {},
     "output_type": "execute_result"
    }
   ],
   "source": [
    "len(devmovienames)"
   ]
  },
  {
   "cell_type": "code",
   "execution_count": 10,
   "metadata": {
    "collapsed": true,
    "deletable": true,
    "editable": true
   },
   "outputs": [],
   "source": [
    "groups = {\n",
    "    0:['Decay'],\n",
    "    1:['You_Again','Damaged_Kung_Fu','The_secret_number','Spaceman'],\n",
    "    2:['Cloudland','Origami','Riding_The_Rails','Tears_of_Steel','Sintel'],\n",
    "    3:['On_time','Elephant_s_Dream','Norm','Big_Buck_Bunny','Chatter','Full_Service'],\n",
    "    4:['Islands','To_Claire_From_Sonny','Nuclear_Family','After_The_Rain','Parafundit'],\n",
    "    5:['The_room_of_franz_kafka','Attitude_Matters','Lesson_Learned','Superhero'],\n",
    "    6:['First_Bite','Wanted','Between_Viewings','Barely_legal_stories','Payload']\n",
    "}"
   ]
  },
  {
   "cell_type": "code",
   "execution_count": 11,
   "metadata": {
    "collapsed": true,
    "deletable": true,
    "editable": true
   },
   "outputs": [],
   "source": [
    "def gettraintestmovielist(groupno):\n",
    "    testlist = groups[groupno]\n",
    "    trainlist =[]\n",
    "    for idx, group in enumerate(groups):\n",
    "        if idx != groupno:\n",
    "            for g in groups[idx]:\n",
    "                trainlist.append(g)\n",
    "    return trainlist, testlist\n",
    "\n"
   ]
  },
  {
   "cell_type": "code",
   "execution_count": 12,
   "metadata": {
    "collapsed": true,
    "deletable": true,
    "editable": true
   },
   "outputs": [],
   "source": [
    "trainlist, testlist=gettraintestmovielist(1)  # index 1 olanları test , diğerlerini train yapan fonksiyon"
   ]
  },
  {
   "cell_type": "markdown",
   "metadata": {
    "deletable": true,
    "editable": true
   },
   "source": [
    "## Fear Annotations"
   ]
  },
  {
   "cell_type": "code",
   "execution_count": 13,
   "metadata": {
    "collapsed": true,
    "deletable": true,
    "editable": true
   },
   "outputs": [],
   "source": [
    "def getFearDf(movname):\n",
    "    filename = os.path.join(med2017fearFolder, movname + '-MEDIAEVAL2017-fear.txt')\n",
    "    annotation = np.genfromtxt(filename, names=True, delimiter='\\t', dtype=None)\n",
    "    df = pd.DataFrame(annotation)\n",
    "    return df\n"
   ]
  },
  {
   "cell_type": "markdown",
   "metadata": {
    "deletable": true,
    "editable": true
   },
   "source": [
    "## Audio Features"
   ]
  },
  {
   "cell_type": "code",
   "execution_count": 43,
   "metadata": {
    "collapsed": true,
    "deletable": true,
    "editable": true
   },
   "outputs": [],
   "source": [
    "def getAudioDf(moviename,folder=med2017audiofolder):\n",
    "    if 'TestSet' in folder:\n",
    "        files = glob.glob(folder+moviename+'/audio_features/*.csv')\n",
    "    else:\n",
    "        files = glob.glob(folder+moviename+'/*.csv')\n",
    "    files = sorted(files)\n",
    "    files\n",
    "    alist = []\n",
    "    for fname in files:\n",
    "        f=open(fname,'r')\n",
    "        h = []\n",
    "        for l in f :\n",
    "            if '@attribute' in l:\n",
    "                h.append(l.split()[1])\n",
    "            elif l == '\\n':\n",
    "                l\n",
    "            elif l[0] =='@':\n",
    "                l\n",
    "            else:\n",
    "                alist.append(map(float,l.split(',')[1:])) #first attribute is string ,skipped\n",
    "        f.close()\n",
    "    \n",
    "    return pd.DataFrame(alist,columns=h[1:])"
   ]
  },
  {
   "cell_type": "code",
   "execution_count": 44,
   "metadata": {
    "collapsed": true,
    "deletable": true,
    "editable": true
   },
   "outputs": [],
   "source": [
    "def getMovieListAudioFearDf(movieNames,folder=med2017audiofolder):\n",
    "    Xa = getAudioDf(movieNames[0],folder)\n",
    "    y = getFearDf(movieNames[0]).Fear\n",
    "    \n",
    "    mlen = min(len(Xa),len(y))\n",
    "    Xa = Xa[:mlen]\n",
    "    y = y[:mlen]\n",
    "    \n",
    "    for mov in movieNames[1:]:\n",
    "        tXa = getAudioDf(mov)\n",
    "        ty = getFearDf(mov).Fear\n",
    "        \n",
    "        mlen = min(len(tXa),len(ty))\n",
    "        tXa = tXa[:mlen]\n",
    "        ty = ty[:mlen]\n",
    "    \n",
    "        Xa  = Xa.append(tXa)\n",
    "        y  = y.append(ty)\n",
    "        \n",
    "    return Xa,y"
   ]
  },
  {
   "cell_type": "code",
   "execution_count": 45,
   "metadata": {
    "collapsed": true,
    "deletable": true,
    "editable": true
   },
   "outputs": [],
   "source": [
    "#movielisttrain, movielisttest=gettraintestmovielist(1)\n",
    "#Xtrain, ytrain = getMovieListAudioFearDf(movielisttrain)\n",
    "#Xtest, ytest = getMovieListAudioFearDf(movielisttest)\n",
    "#Xtrain.shape, Xtest.shape, ytrain.shape,ytest.shape"
   ]
  },
  {
   "cell_type": "code",
   "execution_count": 48,
   "metadata": {
    "collapsed": false,
    "deletable": true,
    "editable": true
   },
   "outputs": [
    {
     "data": {
      "text/plain": [
       "[]"
      ]
     },
     "execution_count": 48,
     "metadata": {},
     "output_type": "execute_result"
    }
   ],
   "source": [
    "\n",
    "moviename=testmovienames[0]\n",
    "x = '/home/yt/Desktop/mediaeval2017/MEDIAEVAL17-TestSet-Audio_features/MEDIAEVAL17-TestSet-Audio_features/audio_features/MEDIAEVAL17_00/audio_features'\n",
    "files = glob.glob(folder+moviename+'/*.csv')\n",
    "files = sorted(files)\n",
    "files\n"
   ]
  },
  {
   "cell_type": "code",
   "execution_count": 50,
   "metadata": {
    "collapsed": false,
    "deletable": true,
    "editable": true
   },
   "outputs": [
    {
     "data": {
      "text/html": [
       "<div>\n",
       "<style>\n",
       "    .dataframe thead tr:only-child th {\n",
       "        text-align: right;\n",
       "    }\n",
       "\n",
       "    .dataframe thead th {\n",
       "        text-align: left;\n",
       "    }\n",
       "\n",
       "    .dataframe tbody tr th {\n",
       "        vertical-align: top;\n",
       "    }\n",
       "</style>\n",
       "<table border=\"1\" class=\"dataframe\">\n",
       "  <thead>\n",
       "    <tr style=\"text-align: right;\">\n",
       "      <th></th>\n",
       "      <th>pcm_loudness_sma_maxPos</th>\n",
       "      <th>pcm_loudness_sma_minPos</th>\n",
       "      <th>pcm_loudness_sma_amean</th>\n",
       "      <th>pcm_loudness_sma_linregc1</th>\n",
       "      <th>pcm_loudness_sma_linregc2</th>\n",
       "      <th>pcm_loudness_sma_linregerrA</th>\n",
       "      <th>pcm_loudness_sma_linregerrQ</th>\n",
       "      <th>pcm_loudness_sma_stddev</th>\n",
       "      <th>pcm_loudness_sma_skewness</th>\n",
       "      <th>pcm_loudness_sma_kurtosis</th>\n",
       "      <th>...</th>\n",
       "      <th>shimmerLocal_sma_de_quartile3</th>\n",
       "      <th>shimmerLocal_sma_de_iqr1-2</th>\n",
       "      <th>shimmerLocal_sma_de_iqr2-3</th>\n",
       "      <th>shimmerLocal_sma_de_iqr1-3</th>\n",
       "      <th>shimmerLocal_sma_de_percentile99.0</th>\n",
       "      <th>shimmerLocal_sma_de_upleveltime75</th>\n",
       "      <th>shimmerLocal_sma_de_upleveltime90</th>\n",
       "      <th>F0final__Turn_numOnsets</th>\n",
       "      <th>F0final__Turn_duration</th>\n",
       "      <th>class</th>\n",
       "    </tr>\n",
       "  </thead>\n",
       "  <tbody>\n",
       "    <tr>\n",
       "      <th>697</th>\n",
       "      <td>0.106855</td>\n",
       "      <td>0.829637</td>\n",
       "      <td>0.852046</td>\n",
       "      <td>-0.000157</td>\n",
       "      <td>0.929687</td>\n",
       "      <td>0.209044</td>\n",
       "      <td>0.067497</td>\n",
       "      <td>0.263648</td>\n",
       "      <td>0.390346</td>\n",
       "      <td>3.152241</td>\n",
       "      <td>...</td>\n",
       "      <td>0.021428</td>\n",
       "      <td>0.022073</td>\n",
       "      <td>0.021821</td>\n",
       "      <td>0.043894</td>\n",
       "      <td>0.095908</td>\n",
       "      <td>0.028125</td>\n",
       "      <td>0.007812</td>\n",
       "      <td>75.0</td>\n",
       "      <td>9.94</td>\n",
       "      <td>0.0</td>\n",
       "    </tr>\n",
       "    <tr>\n",
       "      <th>698</th>\n",
       "      <td>0.088710</td>\n",
       "      <td>0.325605</td>\n",
       "      <td>0.738424</td>\n",
       "      <td>-0.000341</td>\n",
       "      <td>0.907216</td>\n",
       "      <td>0.177802</td>\n",
       "      <td>0.050125</td>\n",
       "      <td>0.244215</td>\n",
       "      <td>0.410533</td>\n",
       "      <td>3.210107</td>\n",
       "      <td>...</td>\n",
       "      <td>0.024421</td>\n",
       "      <td>0.023236</td>\n",
       "      <td>0.024831</td>\n",
       "      <td>0.048068</td>\n",
       "      <td>0.097257</td>\n",
       "      <td>0.025875</td>\n",
       "      <td>0.001522</td>\n",
       "      <td>86.0</td>\n",
       "      <td>9.94</td>\n",
       "      <td>0.0</td>\n",
       "    </tr>\n",
       "    <tr>\n",
       "      <th>699</th>\n",
       "      <td>0.063508</td>\n",
       "      <td>0.953629</td>\n",
       "      <td>0.605516</td>\n",
       "      <td>-0.000294</td>\n",
       "      <td>0.751372</td>\n",
       "      <td>0.178130</td>\n",
       "      <td>0.050538</td>\n",
       "      <td>0.240091</td>\n",
       "      <td>0.502912</td>\n",
       "      <td>3.313422</td>\n",
       "      <td>...</td>\n",
       "      <td>0.025357</td>\n",
       "      <td>0.024235</td>\n",
       "      <td>0.025224</td>\n",
       "      <td>0.049460</td>\n",
       "      <td>0.096655</td>\n",
       "      <td>0.028221</td>\n",
       "      <td>0.001227</td>\n",
       "      <td>55.0</td>\n",
       "      <td>9.94</td>\n",
       "      <td>0.0</td>\n",
       "    </tr>\n",
       "    <tr>\n",
       "      <th>700</th>\n",
       "      <td>0.085685</td>\n",
       "      <td>0.826613</td>\n",
       "      <td>0.330855</td>\n",
       "      <td>-0.000917</td>\n",
       "      <td>0.785109</td>\n",
       "      <td>0.114078</td>\n",
       "      <td>0.024103</td>\n",
       "      <td>0.304998</td>\n",
       "      <td>0.846811</td>\n",
       "      <td>2.990309</td>\n",
       "      <td>...</td>\n",
       "      <td>0.020827</td>\n",
       "      <td>0.021305</td>\n",
       "      <td>0.021116</td>\n",
       "      <td>0.042421</td>\n",
       "      <td>0.089438</td>\n",
       "      <td>0.057428</td>\n",
       "      <td>0.004994</td>\n",
       "      <td>14.0</td>\n",
       "      <td>9.94</td>\n",
       "      <td>0.0</td>\n",
       "    </tr>\n",
       "    <tr>\n",
       "      <th>701</th>\n",
       "      <td>0.065524</td>\n",
       "      <td>0.322581</td>\n",
       "      <td>0.049795</td>\n",
       "      <td>-0.000236</td>\n",
       "      <td>0.166744</td>\n",
       "      <td>0.053386</td>\n",
       "      <td>0.004777</td>\n",
       "      <td>0.096671</td>\n",
       "      <td>1.997082</td>\n",
       "      <td>5.894458</td>\n",
       "      <td>...</td>\n",
       "      <td>0.017826</td>\n",
       "      <td>0.014699</td>\n",
       "      <td>0.019474</td>\n",
       "      <td>0.034174</td>\n",
       "      <td>0.070017</td>\n",
       "      <td>0.070288</td>\n",
       "      <td>0.009585</td>\n",
       "      <td>1.0</td>\n",
       "      <td>9.94</td>\n",
       "      <td>0.0</td>\n",
       "    </tr>\n",
       "  </tbody>\n",
       "</table>\n",
       "<p>5 rows × 1583 columns</p>\n",
       "</div>"
      ],
      "text/plain": [
       "     pcm_loudness_sma_maxPos  pcm_loudness_sma_minPos  pcm_loudness_sma_amean  \\\n",
       "697                 0.106855                 0.829637                0.852046   \n",
       "698                 0.088710                 0.325605                0.738424   \n",
       "699                 0.063508                 0.953629                0.605516   \n",
       "700                 0.085685                 0.826613                0.330855   \n",
       "701                 0.065524                 0.322581                0.049795   \n",
       "\n",
       "     pcm_loudness_sma_linregc1  pcm_loudness_sma_linregc2  \\\n",
       "697                  -0.000157                   0.929687   \n",
       "698                  -0.000341                   0.907216   \n",
       "699                  -0.000294                   0.751372   \n",
       "700                  -0.000917                   0.785109   \n",
       "701                  -0.000236                   0.166744   \n",
       "\n",
       "     pcm_loudness_sma_linregerrA  pcm_loudness_sma_linregerrQ  \\\n",
       "697                     0.209044                     0.067497   \n",
       "698                     0.177802                     0.050125   \n",
       "699                     0.178130                     0.050538   \n",
       "700                     0.114078                     0.024103   \n",
       "701                     0.053386                     0.004777   \n",
       "\n",
       "     pcm_loudness_sma_stddev  pcm_loudness_sma_skewness  \\\n",
       "697                 0.263648                   0.390346   \n",
       "698                 0.244215                   0.410533   \n",
       "699                 0.240091                   0.502912   \n",
       "700                 0.304998                   0.846811   \n",
       "701                 0.096671                   1.997082   \n",
       "\n",
       "     pcm_loudness_sma_kurtosis  ...    shimmerLocal_sma_de_quartile3  \\\n",
       "697                   3.152241  ...                         0.021428   \n",
       "698                   3.210107  ...                         0.024421   \n",
       "699                   3.313422  ...                         0.025357   \n",
       "700                   2.990309  ...                         0.020827   \n",
       "701                   5.894458  ...                         0.017826   \n",
       "\n",
       "     shimmerLocal_sma_de_iqr1-2  shimmerLocal_sma_de_iqr2-3  \\\n",
       "697                    0.022073                    0.021821   \n",
       "698                    0.023236                    0.024831   \n",
       "699                    0.024235                    0.025224   \n",
       "700                    0.021305                    0.021116   \n",
       "701                    0.014699                    0.019474   \n",
       "\n",
       "     shimmerLocal_sma_de_iqr1-3  shimmerLocal_sma_de_percentile99.0  \\\n",
       "697                    0.043894                            0.095908   \n",
       "698                    0.048068                            0.097257   \n",
       "699                    0.049460                            0.096655   \n",
       "700                    0.042421                            0.089438   \n",
       "701                    0.034174                            0.070017   \n",
       "\n",
       "     shimmerLocal_sma_de_upleveltime75  shimmerLocal_sma_de_upleveltime90  \\\n",
       "697                           0.028125                           0.007812   \n",
       "698                           0.025875                           0.001522   \n",
       "699                           0.028221                           0.001227   \n",
       "700                           0.057428                           0.004994   \n",
       "701                           0.070288                           0.009585   \n",
       "\n",
       "     F0final__Turn_numOnsets  F0final__Turn_duration  class  \n",
       "697                     75.0                    9.94    0.0  \n",
       "698                     86.0                    9.94    0.0  \n",
       "699                     55.0                    9.94    0.0  \n",
       "700                     14.0                    9.94    0.0  \n",
       "701                      1.0                    9.94    0.0  \n",
       "\n",
       "[5 rows x 1583 columns]"
      ]
     },
     "execution_count": 50,
     "metadata": {},
     "output_type": "execute_result"
    }
   ],
   "source": [
    "getAudioDf('MEDIAEVAL17_00',folder=med2017audiofolderTest).tail()"
   ]
  },
  {
   "cell_type": "code",
   "execution_count": 30,
   "metadata": {
    "collapsed": false,
    "deletable": true,
    "editable": true
   },
   "outputs": [
    {
     "data": {
      "text/html": [
       "<div>\n",
       "<style>\n",
       "    .dataframe thead tr:only-child th {\n",
       "        text-align: right;\n",
       "    }\n",
       "\n",
       "    .dataframe thead th {\n",
       "        text-align: left;\n",
       "    }\n",
       "\n",
       "    .dataframe tbody tr th {\n",
       "        vertical-align: top;\n",
       "    }\n",
       "</style>\n",
       "<table border=\"1\" class=\"dataframe\">\n",
       "  <thead>\n",
       "    <tr style=\"text-align: right;\">\n",
       "      <th></th>\n",
       "      <th>pcm_loudness_sma_maxPos</th>\n",
       "      <th>pcm_loudness_sma_minPos</th>\n",
       "      <th>pcm_loudness_sma_amean</th>\n",
       "      <th>pcm_loudness_sma_linregc1</th>\n",
       "      <th>pcm_loudness_sma_linregc2</th>\n",
       "      <th>pcm_loudness_sma_linregerrA</th>\n",
       "      <th>pcm_loudness_sma_linregerrQ</th>\n",
       "      <th>pcm_loudness_sma_stddev</th>\n",
       "      <th>pcm_loudness_sma_skewness</th>\n",
       "      <th>pcm_loudness_sma_kurtosis</th>\n",
       "      <th>...</th>\n",
       "      <th>shimmerLocal_sma_de_quartile3</th>\n",
       "      <th>shimmerLocal_sma_de_iqr1-2</th>\n",
       "      <th>shimmerLocal_sma_de_iqr2-3</th>\n",
       "      <th>shimmerLocal_sma_de_iqr1-3</th>\n",
       "      <th>shimmerLocal_sma_de_percentile99.0</th>\n",
       "      <th>shimmerLocal_sma_de_upleveltime75</th>\n",
       "      <th>shimmerLocal_sma_de_upleveltime90</th>\n",
       "      <th>F0final__Turn_numOnsets</th>\n",
       "      <th>F0final__Turn_duration</th>\n",
       "      <th>class</th>\n",
       "    </tr>\n",
       "  </thead>\n",
       "  <tbody>\n",
       "    <tr>\n",
       "      <th>111</th>\n",
       "      <td>0.887097</td>\n",
       "      <td>0.006048</td>\n",
       "      <td>0.563133</td>\n",
       "      <td>0.000034</td>\n",
       "      <td>0.546316</td>\n",
       "      <td>0.133562</td>\n",
       "      <td>0.028077</td>\n",
       "      <td>0.167843</td>\n",
       "      <td>0.140462</td>\n",
       "      <td>2.808594</td>\n",
       "      <td>...</td>\n",
       "      <td>0.045311</td>\n",
       "      <td>0.038814</td>\n",
       "      <td>0.050587</td>\n",
       "      <td>0.089402</td>\n",
       "      <td>0.108449</td>\n",
       "      <td>0.195122</td>\n",
       "      <td>0.073171</td>\n",
       "      <td>7.0</td>\n",
       "      <td>9.94</td>\n",
       "      <td>0.0</td>\n",
       "    </tr>\n",
       "    <tr>\n",
       "      <th>112</th>\n",
       "      <td>0.957661</td>\n",
       "      <td>0.416331</td>\n",
       "      <td>0.584330</td>\n",
       "      <td>-0.000009</td>\n",
       "      <td>0.588905</td>\n",
       "      <td>0.141397</td>\n",
       "      <td>0.031578</td>\n",
       "      <td>0.177722</td>\n",
       "      <td>0.349808</td>\n",
       "      <td>3.054518</td>\n",
       "      <td>...</td>\n",
       "      <td>0.024019</td>\n",
       "      <td>0.026899</td>\n",
       "      <td>0.021967</td>\n",
       "      <td>0.048866</td>\n",
       "      <td>0.094818</td>\n",
       "      <td>0.076923</td>\n",
       "      <td>0.015385</td>\n",
       "      <td>9.0</td>\n",
       "      <td>9.94</td>\n",
       "      <td>0.0</td>\n",
       "    </tr>\n",
       "    <tr>\n",
       "      <th>113</th>\n",
       "      <td>0.453629</td>\n",
       "      <td>0.779234</td>\n",
       "      <td>0.574909</td>\n",
       "      <td>-0.000041</td>\n",
       "      <td>0.595024</td>\n",
       "      <td>0.148152</td>\n",
       "      <td>0.033742</td>\n",
       "      <td>0.184058</td>\n",
       "      <td>0.351346</td>\n",
       "      <td>2.969054</td>\n",
       "      <td>...</td>\n",
       "      <td>0.018005</td>\n",
       "      <td>0.020586</td>\n",
       "      <td>0.015954</td>\n",
       "      <td>0.036540</td>\n",
       "      <td>0.141901</td>\n",
       "      <td>0.044248</td>\n",
       "      <td>0.017699</td>\n",
       "      <td>20.0</td>\n",
       "      <td>9.94</td>\n",
       "      <td>0.0</td>\n",
       "    </tr>\n",
       "    <tr>\n",
       "      <th>114</th>\n",
       "      <td>0.433468</td>\n",
       "      <td>0.275202</td>\n",
       "      <td>0.522086</td>\n",
       "      <td>-0.000144</td>\n",
       "      <td>0.593553</td>\n",
       "      <td>0.144519</td>\n",
       "      <td>0.031499</td>\n",
       "      <td>0.182223</td>\n",
       "      <td>0.327414</td>\n",
       "      <td>2.727441</td>\n",
       "      <td>...</td>\n",
       "      <td>0.019048</td>\n",
       "      <td>0.013950</td>\n",
       "      <td>0.024217</td>\n",
       "      <td>0.038167</td>\n",
       "      <td>0.130757</td>\n",
       "      <td>0.045113</td>\n",
       "      <td>0.015038</td>\n",
       "      <td>22.0</td>\n",
       "      <td>9.94</td>\n",
       "      <td>0.0</td>\n",
       "    </tr>\n",
       "    <tr>\n",
       "      <th>115</th>\n",
       "      <td>0.019153</td>\n",
       "      <td>0.977823</td>\n",
       "      <td>0.405450</td>\n",
       "      <td>-0.000309</td>\n",
       "      <td>0.558803</td>\n",
       "      <td>0.108302</td>\n",
       "      <td>0.018728</td>\n",
       "      <td>0.163041</td>\n",
       "      <td>0.728895</td>\n",
       "      <td>3.312402</td>\n",
       "      <td>...</td>\n",
       "      <td>0.025297</td>\n",
       "      <td>0.018701</td>\n",
       "      <td>0.030879</td>\n",
       "      <td>0.049581</td>\n",
       "      <td>0.075859</td>\n",
       "      <td>0.121212</td>\n",
       "      <td>0.030303</td>\n",
       "      <td>14.0</td>\n",
       "      <td>9.94</td>\n",
       "      <td>0.0</td>\n",
       "    </tr>\n",
       "  </tbody>\n",
       "</table>\n",
       "<p>5 rows × 1583 columns</p>\n",
       "</div>"
      ],
      "text/plain": [
       "     pcm_loudness_sma_maxPos  pcm_loudness_sma_minPos  pcm_loudness_sma_amean  \\\n",
       "111                 0.887097                 0.006048                0.563133   \n",
       "112                 0.957661                 0.416331                0.584330   \n",
       "113                 0.453629                 0.779234                0.574909   \n",
       "114                 0.433468                 0.275202                0.522086   \n",
       "115                 0.019153                 0.977823                0.405450   \n",
       "\n",
       "     pcm_loudness_sma_linregc1  pcm_loudness_sma_linregc2  \\\n",
       "111                   0.000034                   0.546316   \n",
       "112                  -0.000009                   0.588905   \n",
       "113                  -0.000041                   0.595024   \n",
       "114                  -0.000144                   0.593553   \n",
       "115                  -0.000309                   0.558803   \n",
       "\n",
       "     pcm_loudness_sma_linregerrA  pcm_loudness_sma_linregerrQ  \\\n",
       "111                     0.133562                     0.028077   \n",
       "112                     0.141397                     0.031578   \n",
       "113                     0.148152                     0.033742   \n",
       "114                     0.144519                     0.031499   \n",
       "115                     0.108302                     0.018728   \n",
       "\n",
       "     pcm_loudness_sma_stddev  pcm_loudness_sma_skewness  \\\n",
       "111                 0.167843                   0.140462   \n",
       "112                 0.177722                   0.349808   \n",
       "113                 0.184058                   0.351346   \n",
       "114                 0.182223                   0.327414   \n",
       "115                 0.163041                   0.728895   \n",
       "\n",
       "     pcm_loudness_sma_kurtosis  ...    shimmerLocal_sma_de_quartile3  \\\n",
       "111                   2.808594  ...                         0.045311   \n",
       "112                   3.054518  ...                         0.024019   \n",
       "113                   2.969054  ...                         0.018005   \n",
       "114                   2.727441  ...                         0.019048   \n",
       "115                   3.312402  ...                         0.025297   \n",
       "\n",
       "     shimmerLocal_sma_de_iqr1-2  shimmerLocal_sma_de_iqr2-3  \\\n",
       "111                    0.038814                    0.050587   \n",
       "112                    0.026899                    0.021967   \n",
       "113                    0.020586                    0.015954   \n",
       "114                    0.013950                    0.024217   \n",
       "115                    0.018701                    0.030879   \n",
       "\n",
       "     shimmerLocal_sma_de_iqr1-3  shimmerLocal_sma_de_percentile99.0  \\\n",
       "111                    0.089402                            0.108449   \n",
       "112                    0.048866                            0.094818   \n",
       "113                    0.036540                            0.141901   \n",
       "114                    0.038167                            0.130757   \n",
       "115                    0.049581                            0.075859   \n",
       "\n",
       "     shimmerLocal_sma_de_upleveltime75  shimmerLocal_sma_de_upleveltime90  \\\n",
       "111                           0.195122                           0.073171   \n",
       "112                           0.076923                           0.015385   \n",
       "113                           0.044248                           0.017699   \n",
       "114                           0.045113                           0.015038   \n",
       "115                           0.121212                           0.030303   \n",
       "\n",
       "     F0final__Turn_numOnsets  F0final__Turn_duration  class  \n",
       "111                      7.0                    9.94    0.0  \n",
       "112                      9.0                    9.94    0.0  \n",
       "113                     20.0                    9.94    0.0  \n",
       "114                     22.0                    9.94    0.0  \n",
       "115                     14.0                    9.94    0.0  \n",
       "\n",
       "[5 rows x 1583 columns]"
      ]
     },
     "execution_count": 30,
     "metadata": {},
     "output_type": "execute_result"
    }
   ],
   "source": [
    "getAudioDf(movieNames[0]).tail()"
   ]
  },
  {
   "cell_type": "code",
   "execution_count": 20,
   "metadata": {
    "collapsed": false,
    "deletable": true,
    "editable": true
   },
   "outputs": [
    {
     "data": {
      "text/html": [
       "<div>\n",
       "<style>\n",
       "    .dataframe thead tr:only-child th {\n",
       "        text-align: right;\n",
       "    }\n",
       "\n",
       "    .dataframe thead th {\n",
       "        text-align: left;\n",
       "    }\n",
       "\n",
       "    .dataframe tbody tr th {\n",
       "        vertical-align: top;\n",
       "    }\n",
       "</style>\n",
       "<table border=\"1\" class=\"dataframe\">\n",
       "  <thead>\n",
       "    <tr style=\"text-align: right;\">\n",
       "      <th></th>\n",
       "      <th>Id</th>\n",
       "      <th>Time</th>\n",
       "      <th>Fear</th>\n",
       "    </tr>\n",
       "  </thead>\n",
       "  <tbody>\n",
       "    <tr>\n",
       "      <th>112</th>\n",
       "      <td>112</td>\n",
       "      <td>560</td>\n",
       "      <td>0</td>\n",
       "    </tr>\n",
       "    <tr>\n",
       "      <th>113</th>\n",
       "      <td>113</td>\n",
       "      <td>565</td>\n",
       "      <td>0</td>\n",
       "    </tr>\n",
       "    <tr>\n",
       "      <th>114</th>\n",
       "      <td>114</td>\n",
       "      <td>570</td>\n",
       "      <td>0</td>\n",
       "    </tr>\n",
       "    <tr>\n",
       "      <th>115</th>\n",
       "      <td>115</td>\n",
       "      <td>575</td>\n",
       "      <td>0</td>\n",
       "    </tr>\n",
       "    <tr>\n",
       "      <th>116</th>\n",
       "      <td>116</td>\n",
       "      <td>580</td>\n",
       "      <td>0</td>\n",
       "    </tr>\n",
       "  </tbody>\n",
       "</table>\n",
       "</div>"
      ],
      "text/plain": [
       "      Id  Time  Fear\n",
       "112  112   560     0\n",
       "113  113   565     0\n",
       "114  114   570     0\n",
       "115  115   575     0\n",
       "116  116   580     0"
      ]
     },
     "execution_count": 20,
     "metadata": {},
     "output_type": "execute_result"
    }
   ],
   "source": [
    "getFearDf(movieNames[0]).tail()"
   ]
  },
  {
   "cell_type": "markdown",
   "metadata": {
    "deletable": true,
    "editable": true
   },
   "source": [
    "## Visual Features"
   ]
  },
  {
   "cell_type": "code",
   "execution_count": 44,
   "metadata": {
    "collapsed": true,
    "deletable": true,
    "editable": true
   },
   "outputs": [],
   "source": [
    "visual_feat = ['acc', 'cedd', 'cl', 'eh', 'fc6', 'fcth', \n",
    "               'gabor', 'jcd', 'lbp', 'sc', 'tamura'   ]"
   ]
  },
  {
   "cell_type": "code",
   "execution_count": 56,
   "metadata": {
    "collapsed": true,
    "deletable": true,
    "editable": true
   },
   "outputs": [],
   "source": [
    "def getVisFeatureDf(moviename,typename):\n",
    "    files = glob.glob(med2017visualFeaturesfolder+moviename+'/'+typename+'/*.txt')\n",
    "    files = sorted(files)\n",
    "    alist = []\n",
    "    for fname in files:\n",
    "        f=open(fname,'r')\n",
    "        for l in f:\n",
    "            alist.append(map(float,l.split(',')))\n",
    "        f.close()\n",
    "    return pd.DataFrame(alist)\n",
    "\n",
    "def getAvgVisFeatureDf(moviename,typename):\n",
    "    df = getVisFeatureDf(moviename,typename)\n",
    "    dfwindow = df.rolling(10).mean()[10::5]\n",
    "    dfwindow.reset_index(inplace=True)\n",
    "    dfwindow.drop('index',axis=1,inplace=True)\n",
    "    return dfwindow\n",
    "\n",
    "def getAvgVisFeatListDf(moviename,featlist):\n",
    "    df = getVisFeatureDf(moviename,featlist[0])\n",
    "    for feat in featlist[1:]:\n",
    "        tdf = getVisFeatureDf(moviename,feat)\n",
    "        df = pd.concat([df,tdf],axis=1)\n",
    "    \n",
    "    dfwindow = df.rolling(10).mean()[10::5]\n",
    "    dfwindow.reset_index(inplace=True)\n",
    "    dfwindow.drop('index',axis=1,inplace=True)\n",
    "    dfwindow.columns=list(range(len(dfwindow.columns)))\n",
    "    return dfwindow"
   ]
  },
  {
   "cell_type": "code",
   "execution_count": 85,
   "metadata": {
    "collapsed": true,
    "deletable": true,
    "editable": true
   },
   "outputs": [],
   "source": [
    "def getMovListVisFearDf(movieNames,featname):\n",
    "    X = getAvgVisFeatureDf(movieNames[0],featname)\n",
    "    y = getFearDf(movieNames[0]).Fear[:len(X)]\n",
    "\n",
    "    for mov in movieNames[1:]:\n",
    "        tX = getAvgVisFeatureDf(mov,featname)\n",
    "        ty = getFearDf(mov).Fear[:len(tX)]\n",
    "        X  = X.append(tX)\n",
    "        y  = y.append(ty)\n",
    "        \n",
    "    return X,y"
   ]
  },
  {
   "cell_type": "code",
   "execution_count": 279,
   "metadata": {
    "collapsed": false,
    "deletable": true,
    "editable": true
   },
   "outputs": [
    {
     "data": {
      "text/html": [
       "<div>\n",
       "<style>\n",
       "    .dataframe thead tr:only-child th {\n",
       "        text-align: right;\n",
       "    }\n",
       "\n",
       "    .dataframe thead th {\n",
       "        text-align: left;\n",
       "    }\n",
       "\n",
       "    .dataframe tbody tr th {\n",
       "        vertical-align: top;\n",
       "    }\n",
       "</style>\n",
       "<table border=\"1\" class=\"dataframe\">\n",
       "  <thead>\n",
       "    <tr style=\"text-align: right;\">\n",
       "      <th></th>\n",
       "      <th>0</th>\n",
       "      <th>1</th>\n",
       "      <th>2</th>\n",
       "      <th>3</th>\n",
       "      <th>4</th>\n",
       "      <th>5</th>\n",
       "      <th>6</th>\n",
       "      <th>7</th>\n",
       "      <th>8</th>\n",
       "      <th>9</th>\n",
       "      <th>...</th>\n",
       "      <th>23</th>\n",
       "      <th>24</th>\n",
       "      <th>25</th>\n",
       "      <th>26</th>\n",
       "      <th>27</th>\n",
       "      <th>28</th>\n",
       "      <th>29</th>\n",
       "      <th>30</th>\n",
       "      <th>31</th>\n",
       "      <th>32</th>\n",
       "    </tr>\n",
       "  </thead>\n",
       "  <tbody>\n",
       "    <tr>\n",
       "      <th>1364</th>\n",
       "      <td>2.0</td>\n",
       "      <td>16.0</td>\n",
       "      <td>16.0</td>\n",
       "      <td>16.0</td>\n",
       "      <td>16.0</td>\n",
       "      <td>16.0</td>\n",
       "      <td>16.0</td>\n",
       "      <td>16.0</td>\n",
       "      <td>16.0</td>\n",
       "      <td>16.0</td>\n",
       "      <td>...</td>\n",
       "      <td>16.0</td>\n",
       "      <td>16.0</td>\n",
       "      <td>16.0</td>\n",
       "      <td>16.0</td>\n",
       "      <td>32.0</td>\n",
       "      <td>16.0</td>\n",
       "      <td>16.0</td>\n",
       "      <td>16.0</td>\n",
       "      <td>16.0</td>\n",
       "      <td>16.0</td>\n",
       "    </tr>\n",
       "    <tr>\n",
       "      <th>1365</th>\n",
       "      <td>2.0</td>\n",
       "      <td>16.0</td>\n",
       "      <td>16.0</td>\n",
       "      <td>16.0</td>\n",
       "      <td>16.0</td>\n",
       "      <td>16.0</td>\n",
       "      <td>16.0</td>\n",
       "      <td>16.0</td>\n",
       "      <td>16.0</td>\n",
       "      <td>16.0</td>\n",
       "      <td>...</td>\n",
       "      <td>16.0</td>\n",
       "      <td>16.0</td>\n",
       "      <td>16.0</td>\n",
       "      <td>16.0</td>\n",
       "      <td>32.0</td>\n",
       "      <td>16.0</td>\n",
       "      <td>16.0</td>\n",
       "      <td>16.0</td>\n",
       "      <td>16.0</td>\n",
       "      <td>16.0</td>\n",
       "    </tr>\n",
       "    <tr>\n",
       "      <th>1366</th>\n",
       "      <td>2.0</td>\n",
       "      <td>16.0</td>\n",
       "      <td>16.0</td>\n",
       "      <td>16.0</td>\n",
       "      <td>16.0</td>\n",
       "      <td>16.0</td>\n",
       "      <td>16.0</td>\n",
       "      <td>16.0</td>\n",
       "      <td>16.0</td>\n",
       "      <td>16.0</td>\n",
       "      <td>...</td>\n",
       "      <td>16.0</td>\n",
       "      <td>16.0</td>\n",
       "      <td>16.0</td>\n",
       "      <td>16.0</td>\n",
       "      <td>32.0</td>\n",
       "      <td>16.0</td>\n",
       "      <td>16.0</td>\n",
       "      <td>16.0</td>\n",
       "      <td>16.0</td>\n",
       "      <td>16.0</td>\n",
       "    </tr>\n",
       "    <tr>\n",
       "      <th>1367</th>\n",
       "      <td>2.0</td>\n",
       "      <td>16.0</td>\n",
       "      <td>16.0</td>\n",
       "      <td>16.0</td>\n",
       "      <td>16.0</td>\n",
       "      <td>16.0</td>\n",
       "      <td>16.0</td>\n",
       "      <td>16.0</td>\n",
       "      <td>16.0</td>\n",
       "      <td>16.0</td>\n",
       "      <td>...</td>\n",
       "      <td>16.0</td>\n",
       "      <td>16.0</td>\n",
       "      <td>16.0</td>\n",
       "      <td>16.0</td>\n",
       "      <td>32.0</td>\n",
       "      <td>16.0</td>\n",
       "      <td>16.0</td>\n",
       "      <td>16.0</td>\n",
       "      <td>16.0</td>\n",
       "      <td>16.0</td>\n",
       "    </tr>\n",
       "    <tr>\n",
       "      <th>1368</th>\n",
       "      <td>2.0</td>\n",
       "      <td>16.0</td>\n",
       "      <td>16.0</td>\n",
       "      <td>16.0</td>\n",
       "      <td>16.0</td>\n",
       "      <td>16.0</td>\n",
       "      <td>16.0</td>\n",
       "      <td>16.0</td>\n",
       "      <td>16.0</td>\n",
       "      <td>16.0</td>\n",
       "      <td>...</td>\n",
       "      <td>16.0</td>\n",
       "      <td>16.0</td>\n",
       "      <td>16.0</td>\n",
       "      <td>16.0</td>\n",
       "      <td>32.0</td>\n",
       "      <td>16.0</td>\n",
       "      <td>16.0</td>\n",
       "      <td>16.0</td>\n",
       "      <td>16.0</td>\n",
       "      <td>16.0</td>\n",
       "    </tr>\n",
       "    <tr>\n",
       "      <th>1369</th>\n",
       "      <td>2.0</td>\n",
       "      <td>16.0</td>\n",
       "      <td>16.0</td>\n",
       "      <td>16.0</td>\n",
       "      <td>16.0</td>\n",
       "      <td>16.0</td>\n",
       "      <td>16.0</td>\n",
       "      <td>16.0</td>\n",
       "      <td>16.0</td>\n",
       "      <td>16.0</td>\n",
       "      <td>...</td>\n",
       "      <td>16.0</td>\n",
       "      <td>16.0</td>\n",
       "      <td>16.0</td>\n",
       "      <td>16.0</td>\n",
       "      <td>32.0</td>\n",
       "      <td>16.0</td>\n",
       "      <td>16.0</td>\n",
       "      <td>16.0</td>\n",
       "      <td>16.0</td>\n",
       "      <td>16.0</td>\n",
       "    </tr>\n",
       "    <tr>\n",
       "      <th>1370</th>\n",
       "      <td>2.0</td>\n",
       "      <td>16.0</td>\n",
       "      <td>16.0</td>\n",
       "      <td>16.0</td>\n",
       "      <td>16.0</td>\n",
       "      <td>16.0</td>\n",
       "      <td>16.0</td>\n",
       "      <td>16.0</td>\n",
       "      <td>16.0</td>\n",
       "      <td>16.0</td>\n",
       "      <td>...</td>\n",
       "      <td>16.0</td>\n",
       "      <td>16.0</td>\n",
       "      <td>16.0</td>\n",
       "      <td>16.0</td>\n",
       "      <td>32.0</td>\n",
       "      <td>16.0</td>\n",
       "      <td>16.0</td>\n",
       "      <td>16.0</td>\n",
       "      <td>16.0</td>\n",
       "      <td>16.0</td>\n",
       "    </tr>\n",
       "    <tr>\n",
       "      <th>1371</th>\n",
       "      <td>2.0</td>\n",
       "      <td>16.0</td>\n",
       "      <td>16.0</td>\n",
       "      <td>16.0</td>\n",
       "      <td>16.0</td>\n",
       "      <td>16.0</td>\n",
       "      <td>16.0</td>\n",
       "      <td>16.0</td>\n",
       "      <td>16.0</td>\n",
       "      <td>16.0</td>\n",
       "      <td>...</td>\n",
       "      <td>16.0</td>\n",
       "      <td>16.0</td>\n",
       "      <td>16.0</td>\n",
       "      <td>16.0</td>\n",
       "      <td>32.0</td>\n",
       "      <td>16.0</td>\n",
       "      <td>16.0</td>\n",
       "      <td>16.0</td>\n",
       "      <td>16.0</td>\n",
       "      <td>16.0</td>\n",
       "    </tr>\n",
       "    <tr>\n",
       "      <th>1372</th>\n",
       "      <td>2.0</td>\n",
       "      <td>16.0</td>\n",
       "      <td>16.0</td>\n",
       "      <td>16.0</td>\n",
       "      <td>16.0</td>\n",
       "      <td>16.0</td>\n",
       "      <td>16.0</td>\n",
       "      <td>16.0</td>\n",
       "      <td>16.0</td>\n",
       "      <td>16.0</td>\n",
       "      <td>...</td>\n",
       "      <td>16.0</td>\n",
       "      <td>16.0</td>\n",
       "      <td>16.0</td>\n",
       "      <td>16.0</td>\n",
       "      <td>32.0</td>\n",
       "      <td>16.0</td>\n",
       "      <td>16.0</td>\n",
       "      <td>16.0</td>\n",
       "      <td>16.0</td>\n",
       "      <td>16.0</td>\n",
       "    </tr>\n",
       "    <tr>\n",
       "      <th>1373</th>\n",
       "      <td>2.0</td>\n",
       "      <td>16.0</td>\n",
       "      <td>16.0</td>\n",
       "      <td>16.0</td>\n",
       "      <td>16.0</td>\n",
       "      <td>16.0</td>\n",
       "      <td>16.0</td>\n",
       "      <td>16.0</td>\n",
       "      <td>16.0</td>\n",
       "      <td>16.0</td>\n",
       "      <td>...</td>\n",
       "      <td>16.0</td>\n",
       "      <td>16.0</td>\n",
       "      <td>16.0</td>\n",
       "      <td>16.0</td>\n",
       "      <td>32.0</td>\n",
       "      <td>16.0</td>\n",
       "      <td>16.0</td>\n",
       "      <td>16.0</td>\n",
       "      <td>16.0</td>\n",
       "      <td>16.0</td>\n",
       "    </tr>\n",
       "  </tbody>\n",
       "</table>\n",
       "<p>10 rows × 33 columns</p>\n",
       "</div>"
      ],
      "text/plain": [
       "       0     1     2     3     4     5     6     7     8     9   ...     23  \\\n",
       "1364  2.0  16.0  16.0  16.0  16.0  16.0  16.0  16.0  16.0  16.0  ...   16.0   \n",
       "1365  2.0  16.0  16.0  16.0  16.0  16.0  16.0  16.0  16.0  16.0  ...   16.0   \n",
       "1366  2.0  16.0  16.0  16.0  16.0  16.0  16.0  16.0  16.0  16.0  ...   16.0   \n",
       "1367  2.0  16.0  16.0  16.0  16.0  16.0  16.0  16.0  16.0  16.0  ...   16.0   \n",
       "1368  2.0  16.0  16.0  16.0  16.0  16.0  16.0  16.0  16.0  16.0  ...   16.0   \n",
       "1369  2.0  16.0  16.0  16.0  16.0  16.0  16.0  16.0  16.0  16.0  ...   16.0   \n",
       "1370  2.0  16.0  16.0  16.0  16.0  16.0  16.0  16.0  16.0  16.0  ...   16.0   \n",
       "1371  2.0  16.0  16.0  16.0  16.0  16.0  16.0  16.0  16.0  16.0  ...   16.0   \n",
       "1372  2.0  16.0  16.0  16.0  16.0  16.0  16.0  16.0  16.0  16.0  ...   16.0   \n",
       "1373  2.0  16.0  16.0  16.0  16.0  16.0  16.0  16.0  16.0  16.0  ...   16.0   \n",
       "\n",
       "        24    25    26    27    28    29    30    31    32  \n",
       "1364  16.0  16.0  16.0  32.0  16.0  16.0  16.0  16.0  16.0  \n",
       "1365  16.0  16.0  16.0  32.0  16.0  16.0  16.0  16.0  16.0  \n",
       "1366  16.0  16.0  16.0  32.0  16.0  16.0  16.0  16.0  16.0  \n",
       "1367  16.0  16.0  16.0  32.0  16.0  16.0  16.0  16.0  16.0  \n",
       "1368  16.0  16.0  16.0  32.0  16.0  16.0  16.0  16.0  16.0  \n",
       "1369  16.0  16.0  16.0  32.0  16.0  16.0  16.0  16.0  16.0  \n",
       "1370  16.0  16.0  16.0  32.0  16.0  16.0  16.0  16.0  16.0  \n",
       "1371  16.0  16.0  16.0  32.0  16.0  16.0  16.0  16.0  16.0  \n",
       "1372  16.0  16.0  16.0  32.0  16.0  16.0  16.0  16.0  16.0  \n",
       "1373  16.0  16.0  16.0  32.0  16.0  16.0  16.0  16.0  16.0  \n",
       "\n",
       "[10 rows x 33 columns]"
      ]
     },
     "execution_count": 279,
     "metadata": {},
     "output_type": "execute_result"
    }
   ],
   "source": [
    "getVisFeatureDf(movieNames[1],'cl').tail(10)"
   ]
  },
  {
   "cell_type": "code",
   "execution_count": 59,
   "metadata": {
    "collapsed": true,
    "deletable": true,
    "editable": true
   },
   "outputs": [],
   "source": [
    "#getAvgVisFeatureDf(movieNames[0],'cl').tail()"
   ]
  },
  {
   "cell_type": "code",
   "execution_count": 65,
   "metadata": {
    "collapsed": true,
    "deletable": true,
    "editable": true
   },
   "outputs": [],
   "source": [
    "#getAvgVisFeatListDf(movieNames[0],['cl']).tail()"
   ]
  },
  {
   "cell_type": "code",
   "execution_count": 73,
   "metadata": {
    "collapsed": true,
    "deletable": true,
    "editable": true
   },
   "outputs": [],
   "source": []
  },
  {
   "cell_type": "code",
   "execution_count": 77,
   "metadata": {
    "collapsed": true,
    "deletable": true,
    "editable": true
   },
   "outputs": [],
   "source": [
    "#getMovListVisFearDf(movieNames[:2],'cl')"
   ]
  },
  {
   "cell_type": "code",
   "execution_count": 80,
   "metadata": {
    "collapsed": true,
    "deletable": true,
    "editable": true
   },
   "outputs": [],
   "source": [
    "def getMovListVisFusionFearDf(movieNames,featlist):\n",
    "    X,y = getMovListVisFearDf(movieNames,featlist[0])\n",
    "    # y is the target value and it is equal for all feature type \n",
    "    for feattype in featlist[1:] :\n",
    "        tX, y = getMovListVisFearDf(movieNames,feattype)\n",
    "        X = pd.concat( [X,tX], axis=1 )\n",
    "    return X,y"
   ]
  },
  {
   "cell_type": "code",
   "execution_count": 84,
   "metadata": {
    "collapsed": true,
    "deletable": true,
    "editable": true
   },
   "outputs": [],
   "source": [
    "#xX,ty = getMovListVisFusionFearDf(movieNames[:2],['cl','gabor'])\n",
    "#xX.shape,ty.shape"
   ]
  },
  {
   "cell_type": "code",
   "execution_count": 98,
   "metadata": {
    "collapsed": true,
    "deletable": true,
    "editable": true
   },
   "outputs": [],
   "source": [
    "def getMovListAudioVisFearFeatListDf(movieNames,featlist):\n",
    "    Xv = getAvgVisFeatureDf(movieNames[0],featlist[0])\n",
    "    Xa = getAudioDf(movieNames[0])\n",
    "    y = getFearDf(movieNames[0]).Fear\n",
    "    \n",
    "    mlen = min(len(Xv),len(Xa),len(y))\n",
    "    \n",
    "    Xv = Xv[:mlen]\n",
    "    Xa = Xa[:mlen]\n",
    "    y = y[:mlen]\n",
    "    \n",
    "    for feattype in featlist[1:]:\n",
    "        fXv = getAvgVisFeatureDf(movieNames[0],feattype)[:mlen]\n",
    "        Xv = pd.concat( [Xv,fXv], axis=1 )\n",
    "\n",
    "    for mov in movieNames[1:]:\n",
    "        tXv = getAvgVisFeatureDf(mov,featlist[0])\n",
    "        tXa = getAudioDf(mov)\n",
    "        ty = getFearDf(mov).Fear\n",
    "        \n",
    "        mlen = min(len(tXv),len(tXa),len(ty))\n",
    "        tXv = tXv[:mlen]\n",
    "        tXa = tXa[:mlen]\n",
    "        ty = ty[:mlen]\n",
    "        \n",
    "        for feattype in featlist[1:]:\n",
    "            fXv = getAvgVisFeatureDf(mov,feattype)[:mlen]\n",
    "            tXv = pd.concat( [tXv,fXv], axis=1 )\n",
    "\n",
    "        Xv  = Xv.append(tXv)\n",
    "        Xa  = Xa.append(tXa)\n",
    "        y  = y.append(ty)\n",
    "        \n",
    "    return Xv,Xa,y"
   ]
  },
  {
   "cell_type": "code",
   "execution_count": 99,
   "metadata": {
    "collapsed": true,
    "deletable": true,
    "editable": true
   },
   "outputs": [],
   "source": [
    "#tXv,tXa,ty = getMovListAudioVisFearFeatListDf(movieNames[:2],['cl','gabor'])\n",
    "#tXv.shape,tXa.shape,ty.shape"
   ]
  },
  {
   "cell_type": "code",
   "execution_count": 144,
   "metadata": {
    "collapsed": false,
    "deletable": true,
    "editable": true
   },
   "outputs": [
    {
     "name": "stdout",
     "output_type": "stream",
     "text": [
      "(4352, 566) (4352, 1583) (4352,)\n",
      "(912, 566) (912, 1583) (912,)\n",
      "CPU times: user 19.4 s, sys: 624 ms, total: 20 s\n",
      "Wall time: 20.1 s\n"
     ]
    }
   ],
   "source": [
    "%%time\n",
    "featlist = ['gabor', 'jcd', 'lbp', 'sc', 'tamura' ]\n",
    "\n",
    "movielisttrain, movielisttest=gettraintestmovielist(0)\n",
    "\n",
    "Xtrainv,Xtraina, ytrain = getMovListAudioVisFearFeatListDf(movielisttrain,featlist)\n",
    "Xtestv,Xtesta, ytest = getMovListAudioVisFearFeatListDf(movielisttest,featlist)\n",
    "\n",
    "print Xtrainv.shape,Xtraina.shape , ytrain.shape\n",
    "print Xtestv.shape,Xtesta.shape, ytest.shape"
   ]
  },
  {
   "cell_type": "markdown",
   "metadata": {
    "deletable": true,
    "editable": true
   },
   "source": [
    "## Low level cinematographic Features"
   ]
  },
  {
   "cell_type": "code",
   "execution_count": 272,
   "metadata": {
    "collapsed": true,
    "deletable": true,
    "editable": true
   },
   "outputs": [],
   "source": [
    "def getLowFeatureDf(movname):\n",
    "    fname = movname +'.mp4continous_features.txt'\n",
    "    print(fname)\n",
    "    df = pd.DataFrame(np.genfromtxt( os.path.join(pathcontfeatures,fname)))\n",
    "    df.columns = ['time','framemean','huemean','satmean','valmean', 'redmean','greenmean','bluemean', 'lummean','motion']\n",
    "    return df\n",
    "\n",
    "\n",
    "def getLowFeatureSecDf(movname):\n",
    "    pdf = getLowFeatureDf(movname)\n",
    "    dfwindow = pdf[ pdf.time % 23 == 1]\n",
    "    #dfwindow = pdf.rolling(3).mean()[3::1]\n",
    "    dfwindow.reset_index(inplace=True)\n",
    "    #dfwindow.columns = ['time','framemean','huemean','satmean','valmean', 'redmean','greenmean','bluemean', 'lummean','motion']\n",
    "    #return dfwindow[['framemean','huemean','satmean','valmean', 'redmean','greenmean','bluemean', 'lummean','motion']]\n",
    "    return dfwindow\n",
    "\n",
    "def getLowFeature10SecDf(movname):\n",
    "    pdf = getLowFeatureDf(movname)\n",
    "    dfwindow = pdf[ pdf.time % 23 == 1]\n",
    "    dfwindow.reset_index(inplace=True)\n",
    "    #dfwindow.drop('index',axis=1,inplace=True)\n",
    "    #dfwindow = dfwindow.rolling(10).mean()[10::5]\n",
    "    dfwindow.reset_index(inplace=True)\n",
    "    \n",
    "    #dfwindow[['framemean','huemean','satmean','valmean', 'redmean','greenmean','bluemean', 'lummean','motion']]\n",
    "    return dfwindow"
   ]
  },
  {
   "cell_type": "code",
   "execution_count": 273,
   "metadata": {
    "collapsed": true,
    "deletable": true,
    "editable": true
   },
   "outputs": [],
   "source": [
    "def getMovieListLowFeatFearDf(movieNames):\n",
    "    X = getLowFeature10SecDf(movieNames[0])\n",
    "    y = getFearDf(movieNames[0]).Fear[:len(X)]\n",
    "\n",
    "    for mov in movieNames[1:]:\n",
    "        tX=getLowFeatureDf(mov)\n",
    "        ty=getFearDf(mov).Fear[:len(tX)]\n",
    "        X = X.append(tX)\n",
    "        y = y.append(ty)\n",
    "        if (X.shape != y.shape):\n",
    "            print mov, X.shape, y.shape\n",
    "    return X,y"
   ]
  },
  {
   "cell_type": "code",
   "execution_count": 282,
   "metadata": {
    "collapsed": false,
    "deletable": true,
    "editable": true
   },
   "outputs": [
    {
     "name": "stdout",
     "output_type": "stream",
     "text": [
      "Attitude_Matters.mp4continous_features.txt\n"
     ]
    },
    {
     "data": {
      "text/html": [
       "<div>\n",
       "<style>\n",
       "    .dataframe thead tr:only-child th {\n",
       "        text-align: right;\n",
       "    }\n",
       "\n",
       "    .dataframe thead th {\n",
       "        text-align: left;\n",
       "    }\n",
       "\n",
       "    .dataframe tbody tr th {\n",
       "        vertical-align: top;\n",
       "    }\n",
       "</style>\n",
       "<table border=\"1\" class=\"dataframe\">\n",
       "  <thead>\n",
       "    <tr style=\"text-align: right;\">\n",
       "      <th></th>\n",
       "      <th>time</th>\n",
       "      <th>framemean</th>\n",
       "      <th>huemean</th>\n",
       "      <th>satmean</th>\n",
       "      <th>valmean</th>\n",
       "      <th>redmean</th>\n",
       "      <th>greenmean</th>\n",
       "      <th>bluemean</th>\n",
       "      <th>lummean</th>\n",
       "      <th>motion</th>\n",
       "    </tr>\n",
       "  </thead>\n",
       "  <tbody>\n",
       "    <tr>\n",
       "      <th>2831</th>\n",
       "      <td>41048.0</td>\n",
       "      <td>0.0</td>\n",
       "      <td>0.0</td>\n",
       "      <td>0.0</td>\n",
       "      <td>0.0</td>\n",
       "      <td>0.0</td>\n",
       "      <td>0.0</td>\n",
       "      <td>0.0</td>\n",
       "      <td>0.0</td>\n",
       "      <td>0.0</td>\n",
       "    </tr>\n",
       "    <tr>\n",
       "      <th>2832</th>\n",
       "      <td>41065.0</td>\n",
       "      <td>0.0</td>\n",
       "      <td>0.0</td>\n",
       "      <td>0.0</td>\n",
       "      <td>0.0</td>\n",
       "      <td>0.0</td>\n",
       "      <td>0.0</td>\n",
       "      <td>0.0</td>\n",
       "      <td>0.0</td>\n",
       "      <td>0.0</td>\n",
       "    </tr>\n",
       "    <tr>\n",
       "      <th>2833</th>\n",
       "      <td>41077.0</td>\n",
       "      <td>0.0</td>\n",
       "      <td>0.0</td>\n",
       "      <td>0.0</td>\n",
       "      <td>0.0</td>\n",
       "      <td>0.0</td>\n",
       "      <td>0.0</td>\n",
       "      <td>0.0</td>\n",
       "      <td>0.0</td>\n",
       "      <td>0.0</td>\n",
       "    </tr>\n",
       "    <tr>\n",
       "      <th>2834</th>\n",
       "      <td>41094.0</td>\n",
       "      <td>0.0</td>\n",
       "      <td>0.0</td>\n",
       "      <td>0.0</td>\n",
       "      <td>0.0</td>\n",
       "      <td>0.0</td>\n",
       "      <td>0.0</td>\n",
       "      <td>0.0</td>\n",
       "      <td>0.0</td>\n",
       "      <td>0.0</td>\n",
       "    </tr>\n",
       "    <tr>\n",
       "      <th>2835</th>\n",
       "      <td>41106.0</td>\n",
       "      <td>0.0</td>\n",
       "      <td>0.0</td>\n",
       "      <td>0.0</td>\n",
       "      <td>0.0</td>\n",
       "      <td>0.0</td>\n",
       "      <td>0.0</td>\n",
       "      <td>0.0</td>\n",
       "      <td>0.0</td>\n",
       "      <td>0.0</td>\n",
       "    </tr>\n",
       "  </tbody>\n",
       "</table>\n",
       "</div>"
      ],
      "text/plain": [
       "         time  framemean  huemean  satmean  valmean  redmean  greenmean  \\\n",
       "2831  41048.0        0.0      0.0      0.0      0.0      0.0        0.0   \n",
       "2832  41065.0        0.0      0.0      0.0      0.0      0.0        0.0   \n",
       "2833  41077.0        0.0      0.0      0.0      0.0      0.0        0.0   \n",
       "2834  41094.0        0.0      0.0      0.0      0.0      0.0        0.0   \n",
       "2835  41106.0        0.0      0.0      0.0      0.0      0.0        0.0   \n",
       "\n",
       "      bluemean  lummean  motion  \n",
       "2831       0.0      0.0     0.0  \n",
       "2832       0.0      0.0     0.0  \n",
       "2833       0.0      0.0     0.0  \n",
       "2834       0.0      0.0     0.0  \n",
       "2835       0.0      0.0     0.0  "
      ]
     },
     "execution_count": 282,
     "metadata": {},
     "output_type": "execute_result"
    }
   ],
   "source": [
    "getLowFeatureDf(movieNames[1]).tail()"
   ]
  },
  {
   "cell_type": "code",
   "execution_count": 281,
   "metadata": {
    "collapsed": false,
    "deletable": true,
    "editable": true,
    "scrolled": true
   },
   "outputs": [
    {
     "name": "stdout",
     "output_type": "stream",
     "text": [
      "Attitude_Matters.mp4continous_features.txt\n"
     ]
    },
    {
     "data": {
      "text/html": [
       "<div>\n",
       "<style>\n",
       "    .dataframe thead tr:only-child th {\n",
       "        text-align: right;\n",
       "    }\n",
       "\n",
       "    .dataframe thead th {\n",
       "        text-align: left;\n",
       "    }\n",
       "\n",
       "    .dataframe tbody tr th {\n",
       "        vertical-align: top;\n",
       "    }\n",
       "</style>\n",
       "<table border=\"1\" class=\"dataframe\">\n",
       "  <thead>\n",
       "    <tr style=\"text-align: right;\">\n",
       "      <th></th>\n",
       "      <th>index</th>\n",
       "      <th>time</th>\n",
       "      <th>framemean</th>\n",
       "      <th>huemean</th>\n",
       "      <th>satmean</th>\n",
       "      <th>valmean</th>\n",
       "      <th>redmean</th>\n",
       "      <th>greenmean</th>\n",
       "      <th>bluemean</th>\n",
       "      <th>lummean</th>\n",
       "      <th>motion</th>\n",
       "    </tr>\n",
       "  </thead>\n",
       "  <tbody>\n",
       "    <tr>\n",
       "      <th>118</th>\n",
       "      <td>2714</td>\n",
       "      <td>39354.0</td>\n",
       "      <td>69.0</td>\n",
       "      <td>143.5670</td>\n",
       "      <td>166.868</td>\n",
       "      <td>117.3970</td>\n",
       "      <td>69.10610</td>\n",
       "      <td>44.9292</td>\n",
       "      <td>117.3650</td>\n",
       "      <td>66.0</td>\n",
       "      <td>38.6361</td>\n",
       "    </tr>\n",
       "    <tr>\n",
       "      <th>119</th>\n",
       "      <td>2757</td>\n",
       "      <td>39975.0</td>\n",
       "      <td>63.0</td>\n",
       "      <td>29.6294</td>\n",
       "      <td>117.041</td>\n",
       "      <td>73.4644</td>\n",
       "      <td>38.09190</td>\n",
       "      <td>63.9058</td>\n",
       "      <td>72.4556</td>\n",
       "      <td>53.0</td>\n",
       "      <td>26.2662</td>\n",
       "    </tr>\n",
       "    <tr>\n",
       "      <th>120</th>\n",
       "      <td>2760</td>\n",
       "      <td>40021.0</td>\n",
       "      <td>56.0</td>\n",
       "      <td>55.2918</td>\n",
       "      <td>131.886</td>\n",
       "      <td>69.3947</td>\n",
       "      <td>33.15930</td>\n",
       "      <td>69.3872</td>\n",
       "      <td>40.4543</td>\n",
       "      <td>51.0</td>\n",
       "      <td>62.1748</td>\n",
       "    </tr>\n",
       "    <tr>\n",
       "      <th>121</th>\n",
       "      <td>2803</td>\n",
       "      <td>40642.0</td>\n",
       "      <td>24.0</td>\n",
       "      <td>31.4950</td>\n",
       "      <td>238.618</td>\n",
       "      <td>64.5270</td>\n",
       "      <td>6.21191</td>\n",
       "      <td>7.2755</td>\n",
       "      <td>64.5247</td>\n",
       "      <td>20.0</td>\n",
       "      <td>21.4353</td>\n",
       "    </tr>\n",
       "    <tr>\n",
       "      <th>122</th>\n",
       "      <td>2806</td>\n",
       "      <td>40688.0</td>\n",
       "      <td>36.0</td>\n",
       "      <td>61.0216</td>\n",
       "      <td>225.910</td>\n",
       "      <td>55.8651</td>\n",
       "      <td>16.34320</td>\n",
       "      <td>52.5951</td>\n",
       "      <td>14.1558</td>\n",
       "      <td>31.0</td>\n",
       "      <td>15.2208</td>\n",
       "    </tr>\n",
       "  </tbody>\n",
       "</table>\n",
       "</div>"
      ],
      "text/plain": [
       "     index     time  framemean   huemean  satmean   valmean   redmean  \\\n",
       "118   2714  39354.0       69.0  143.5670  166.868  117.3970  69.10610   \n",
       "119   2757  39975.0       63.0   29.6294  117.041   73.4644  38.09190   \n",
       "120   2760  40021.0       56.0   55.2918  131.886   69.3947  33.15930   \n",
       "121   2803  40642.0       24.0   31.4950  238.618   64.5270   6.21191   \n",
       "122   2806  40688.0       36.0   61.0216  225.910   55.8651  16.34320   \n",
       "\n",
       "     greenmean  bluemean  lummean   motion  \n",
       "118    44.9292  117.3650     66.0  38.6361  \n",
       "119    63.9058   72.4556     53.0  26.2662  \n",
       "120    69.3872   40.4543     51.0  62.1748  \n",
       "121     7.2755   64.5247     20.0  21.4353  \n",
       "122    52.5951   14.1558     31.0  15.2208  "
      ]
     },
     "execution_count": 281,
     "metadata": {},
     "output_type": "execute_result"
    }
   ],
   "source": [
    "getLowFeatureSecDf(movieNames[1]).tail()"
   ]
  },
  {
   "cell_type": "code",
   "execution_count": 278,
   "metadata": {
    "collapsed": false,
    "deletable": true,
    "editable": true
   },
   "outputs": [
    {
     "name": "stdout",
     "output_type": "stream",
     "text": [
      "Attitude_Matters.mp4continous_features.txt\n"
     ]
    },
    {
     "data": {
      "text/html": [
       "<div>\n",
       "<style>\n",
       "    .dataframe thead tr:only-child th {\n",
       "        text-align: right;\n",
       "    }\n",
       "\n",
       "    .dataframe thead th {\n",
       "        text-align: left;\n",
       "    }\n",
       "\n",
       "    .dataframe tbody tr th {\n",
       "        vertical-align: top;\n",
       "    }\n",
       "</style>\n",
       "<table border=\"1\" class=\"dataframe\">\n",
       "  <thead>\n",
       "    <tr style=\"text-align: right;\">\n",
       "      <th></th>\n",
       "      <th>level_0</th>\n",
       "      <th>index</th>\n",
       "      <th>time</th>\n",
       "      <th>framemean</th>\n",
       "      <th>huemean</th>\n",
       "      <th>satmean</th>\n",
       "      <th>valmean</th>\n",
       "      <th>redmean</th>\n",
       "      <th>greenmean</th>\n",
       "      <th>bluemean</th>\n",
       "      <th>lummean</th>\n",
       "      <th>motion</th>\n",
       "    </tr>\n",
       "  </thead>\n",
       "  <tbody>\n",
       "    <tr>\n",
       "      <th>108</th>\n",
       "      <td>108</td>\n",
       "      <td>2484</td>\n",
       "      <td>36019.0</td>\n",
       "      <td>67.0</td>\n",
       "      <td>12.6778</td>\n",
       "      <td>225.422</td>\n",
       "      <td>132.0460</td>\n",
       "      <td>13.20970</td>\n",
       "      <td>47.1107</td>\n",
       "      <td>129.4840</td>\n",
       "      <td>58.0</td>\n",
       "      <td>103.0420</td>\n",
       "    </tr>\n",
       "    <tr>\n",
       "      <th>109</th>\n",
       "      <td>109</td>\n",
       "      <td>2527</td>\n",
       "      <td>36640.0</td>\n",
       "      <td>46.0</td>\n",
       "      <td>103.4030</td>\n",
       "      <td>128.832</td>\n",
       "      <td>58.7774</td>\n",
       "      <td>53.67930</td>\n",
       "      <td>51.5517</td>\n",
       "      <td>33.1435</td>\n",
       "      <td>47.0</td>\n",
       "      <td>36.8167</td>\n",
       "    </tr>\n",
       "    <tr>\n",
       "      <th>110</th>\n",
       "      <td>110</td>\n",
       "      <td>2530</td>\n",
       "      <td>36686.0</td>\n",
       "      <td>31.0</td>\n",
       "      <td>133.9260</td>\n",
       "      <td>203.310</td>\n",
       "      <td>69.0138</td>\n",
       "      <td>20.92990</td>\n",
       "      <td>14.1988</td>\n",
       "      <td>69.0136</td>\n",
       "      <td>30.0</td>\n",
       "      <td>52.8005</td>\n",
       "    </tr>\n",
       "    <tr>\n",
       "      <th>111</th>\n",
       "      <td>111</td>\n",
       "      <td>2573</td>\n",
       "      <td>37307.0</td>\n",
       "      <td>67.0</td>\n",
       "      <td>64.5109</td>\n",
       "      <td>135.152</td>\n",
       "      <td>85.1607</td>\n",
       "      <td>47.53810</td>\n",
       "      <td>84.1673</td>\n",
       "      <td>42.9661</td>\n",
       "      <td>64.0</td>\n",
       "      <td>109.7300</td>\n",
       "    </tr>\n",
       "    <tr>\n",
       "      <th>112</th>\n",
       "      <td>112</td>\n",
       "      <td>2576</td>\n",
       "      <td>37353.0</td>\n",
       "      <td>59.0</td>\n",
       "      <td>19.5164</td>\n",
       "      <td>166.752</td>\n",
       "      <td>78.2611</td>\n",
       "      <td>25.24790</td>\n",
       "      <td>57.5000</td>\n",
       "      <td>78.1742</td>\n",
       "      <td>56.0</td>\n",
       "      <td>48.2361</td>\n",
       "    </tr>\n",
       "    <tr>\n",
       "      <th>113</th>\n",
       "      <td>113</td>\n",
       "      <td>2619</td>\n",
       "      <td>37974.0</td>\n",
       "      <td>47.0</td>\n",
       "      <td>102.1620</td>\n",
       "      <td>173.049</td>\n",
       "      <td>90.0545</td>\n",
       "      <td>33.61470</td>\n",
       "      <td>29.7874</td>\n",
       "      <td>89.2316</td>\n",
       "      <td>43.0</td>\n",
       "      <td>112.7810</td>\n",
       "    </tr>\n",
       "    <tr>\n",
       "      <th>114</th>\n",
       "      <td>114</td>\n",
       "      <td>2622</td>\n",
       "      <td>38020.0</td>\n",
       "      <td>115.0</td>\n",
       "      <td>19.3364</td>\n",
       "      <td>174.024</td>\n",
       "      <td>152.7500</td>\n",
       "      <td>48.96230</td>\n",
       "      <td>110.1110</td>\n",
       "      <td>151.7310</td>\n",
       "      <td>118.0</td>\n",
       "      <td>126.1760</td>\n",
       "    </tr>\n",
       "    <tr>\n",
       "      <th>115</th>\n",
       "      <td>115</td>\n",
       "      <td>2665</td>\n",
       "      <td>38641.0</td>\n",
       "      <td>98.0</td>\n",
       "      <td>34.5781</td>\n",
       "      <td>149.074</td>\n",
       "      <td>135.4420</td>\n",
       "      <td>55.11840</td>\n",
       "      <td>88.4177</td>\n",
       "      <td>133.6980</td>\n",
       "      <td>100.0</td>\n",
       "      <td>119.0880</td>\n",
       "    </tr>\n",
       "    <tr>\n",
       "      <th>116</th>\n",
       "      <td>116</td>\n",
       "      <td>2668</td>\n",
       "      <td>38687.0</td>\n",
       "      <td>40.0</td>\n",
       "      <td>11.0414</td>\n",
       "      <td>185.597</td>\n",
       "      <td>69.5099</td>\n",
       "      <td>20.69300</td>\n",
       "      <td>28.9830</td>\n",
       "      <td>69.4964</td>\n",
       "      <td>30.0</td>\n",
       "      <td>163.9800</td>\n",
       "    </tr>\n",
       "    <tr>\n",
       "      <th>117</th>\n",
       "      <td>117</td>\n",
       "      <td>2711</td>\n",
       "      <td>39308.0</td>\n",
       "      <td>72.0</td>\n",
       "      <td>138.4900</td>\n",
       "      <td>165.376</td>\n",
       "      <td>121.8920</td>\n",
       "      <td>69.36910</td>\n",
       "      <td>48.2584</td>\n",
       "      <td>121.8800</td>\n",
       "      <td>68.0</td>\n",
       "      <td>175.2810</td>\n",
       "    </tr>\n",
       "    <tr>\n",
       "      <th>118</th>\n",
       "      <td>118</td>\n",
       "      <td>2714</td>\n",
       "      <td>39354.0</td>\n",
       "      <td>69.0</td>\n",
       "      <td>143.5670</td>\n",
       "      <td>166.868</td>\n",
       "      <td>117.3970</td>\n",
       "      <td>69.10610</td>\n",
       "      <td>44.9292</td>\n",
       "      <td>117.3650</td>\n",
       "      <td>66.0</td>\n",
       "      <td>38.6361</td>\n",
       "    </tr>\n",
       "    <tr>\n",
       "      <th>119</th>\n",
       "      <td>119</td>\n",
       "      <td>2757</td>\n",
       "      <td>39975.0</td>\n",
       "      <td>63.0</td>\n",
       "      <td>29.6294</td>\n",
       "      <td>117.041</td>\n",
       "      <td>73.4644</td>\n",
       "      <td>38.09190</td>\n",
       "      <td>63.9058</td>\n",
       "      <td>72.4556</td>\n",
       "      <td>53.0</td>\n",
       "      <td>26.2662</td>\n",
       "    </tr>\n",
       "    <tr>\n",
       "      <th>120</th>\n",
       "      <td>120</td>\n",
       "      <td>2760</td>\n",
       "      <td>40021.0</td>\n",
       "      <td>56.0</td>\n",
       "      <td>55.2918</td>\n",
       "      <td>131.886</td>\n",
       "      <td>69.3947</td>\n",
       "      <td>33.15930</td>\n",
       "      <td>69.3872</td>\n",
       "      <td>40.4543</td>\n",
       "      <td>51.0</td>\n",
       "      <td>62.1748</td>\n",
       "    </tr>\n",
       "    <tr>\n",
       "      <th>121</th>\n",
       "      <td>121</td>\n",
       "      <td>2803</td>\n",
       "      <td>40642.0</td>\n",
       "      <td>24.0</td>\n",
       "      <td>31.4950</td>\n",
       "      <td>238.618</td>\n",
       "      <td>64.5270</td>\n",
       "      <td>6.21191</td>\n",
       "      <td>7.2755</td>\n",
       "      <td>64.5247</td>\n",
       "      <td>20.0</td>\n",
       "      <td>21.4353</td>\n",
       "    </tr>\n",
       "    <tr>\n",
       "      <th>122</th>\n",
       "      <td>122</td>\n",
       "      <td>2806</td>\n",
       "      <td>40688.0</td>\n",
       "      <td>36.0</td>\n",
       "      <td>61.0216</td>\n",
       "      <td>225.910</td>\n",
       "      <td>55.8651</td>\n",
       "      <td>16.34320</td>\n",
       "      <td>52.5951</td>\n",
       "      <td>14.1558</td>\n",
       "      <td>31.0</td>\n",
       "      <td>15.2208</td>\n",
       "    </tr>\n",
       "  </tbody>\n",
       "</table>\n",
       "</div>"
      ],
      "text/plain": [
       "     level_0  index     time  framemean   huemean  satmean   valmean  \\\n",
       "108      108   2484  36019.0       67.0   12.6778  225.422  132.0460   \n",
       "109      109   2527  36640.0       46.0  103.4030  128.832   58.7774   \n",
       "110      110   2530  36686.0       31.0  133.9260  203.310   69.0138   \n",
       "111      111   2573  37307.0       67.0   64.5109  135.152   85.1607   \n",
       "112      112   2576  37353.0       59.0   19.5164  166.752   78.2611   \n",
       "113      113   2619  37974.0       47.0  102.1620  173.049   90.0545   \n",
       "114      114   2622  38020.0      115.0   19.3364  174.024  152.7500   \n",
       "115      115   2665  38641.0       98.0   34.5781  149.074  135.4420   \n",
       "116      116   2668  38687.0       40.0   11.0414  185.597   69.5099   \n",
       "117      117   2711  39308.0       72.0  138.4900  165.376  121.8920   \n",
       "118      118   2714  39354.0       69.0  143.5670  166.868  117.3970   \n",
       "119      119   2757  39975.0       63.0   29.6294  117.041   73.4644   \n",
       "120      120   2760  40021.0       56.0   55.2918  131.886   69.3947   \n",
       "121      121   2803  40642.0       24.0   31.4950  238.618   64.5270   \n",
       "122      122   2806  40688.0       36.0   61.0216  225.910   55.8651   \n",
       "\n",
       "      redmean  greenmean  bluemean  lummean    motion  \n",
       "108  13.20970    47.1107  129.4840     58.0  103.0420  \n",
       "109  53.67930    51.5517   33.1435     47.0   36.8167  \n",
       "110  20.92990    14.1988   69.0136     30.0   52.8005  \n",
       "111  47.53810    84.1673   42.9661     64.0  109.7300  \n",
       "112  25.24790    57.5000   78.1742     56.0   48.2361  \n",
       "113  33.61470    29.7874   89.2316     43.0  112.7810  \n",
       "114  48.96230   110.1110  151.7310    118.0  126.1760  \n",
       "115  55.11840    88.4177  133.6980    100.0  119.0880  \n",
       "116  20.69300    28.9830   69.4964     30.0  163.9800  \n",
       "117  69.36910    48.2584  121.8800     68.0  175.2810  \n",
       "118  69.10610    44.9292  117.3650     66.0   38.6361  \n",
       "119  38.09190    63.9058   72.4556     53.0   26.2662  \n",
       "120  33.15930    69.3872   40.4543     51.0   62.1748  \n",
       "121   6.21191     7.2755   64.5247     20.0   21.4353  \n",
       "122  16.34320    52.5951   14.1558     31.0   15.2208  "
      ]
     },
     "execution_count": 278,
     "metadata": {},
     "output_type": "execute_result"
    }
   ],
   "source": [
    "getLowFeature10SecDf(movieNames[1]).tail(15)"
   ]
  },
  {
   "cell_type": "code",
   "execution_count": 258,
   "metadata": {
    "collapsed": false,
    "deletable": true,
    "editable": true
   },
   "outputs": [
    {
     "name": "stderr",
     "output_type": "stream",
     "text": [
      "/home/yt/anaconda2/lib/python2.7/site-packages/ipykernel/__main__.py:21: SettingWithCopyWarning: \n",
      "A value is trying to be set on a copy of a slice from a DataFrame\n",
      "\n",
      "See the caveats in the documentation: http://pandas.pydata.org/pandas-docs/stable/indexing.html#indexing-view-versus-copy\n"
     ]
    },
    {
     "name": "stdout",
     "output_type": "stream",
     "text": [
      "Attitude_Matters (2957, 11) (390,)\n",
      "Barely_legal_stories (5019, 11) (587,)\n",
      "Between_Viewings (6793, 11) (763,)\n",
      "Big_Buck_Bunny (7986, 11) (881,)\n",
      "Chatter (9005, 11) (982,)\n",
      "Cloudland (10409, 11) (1121,)\n",
      "Damaged_Kung_Fu (12438, 11) (1323,)\n",
      "Decay (21960, 11) (2235,)\n",
      "Elephant_s_Dream (23268, 11) (2365,)\n",
      "First_Bite (24548, 11) (2492,)\n",
      "Full_Service (26866, 11) (2715,)\n",
      "Islands (27229, 11) (2748,)\n",
      "Lesson_Learned (28839, 11) (2903,)\n",
      "Norm (29621, 11) (2980,)\n",
      "Nuclear_Family (33167, 11) (3319,)\n",
      "On_time (33791, 11) (3380,)\n",
      "Origami (34791, 11) (3479,)\n",
      "Parafundit (36373, 11) (3636,)\n",
      "Payload (38525, 11) (3850,)\n",
      "Riding_The_Rails (40404, 11) (4029,)\n",
      "Sintel (42180, 11) (4205,)\n",
      "Spaceman (44118, 11) (4390,)\n",
      "Superhero (46477, 11) (4617,)\n",
      "Tears_of_Steel (47946, 11) (4763,)\n",
      "The_room_of_franz_kafka (48460, 11) (4812,)\n",
      "The_secret_number (50401, 11) (4997,)\n",
      "To_Claire_From_Sonny (51265, 11) (5079,)\n",
      "Wanted (51501, 11) (5101,)\n",
      "You_Again (53300, 11) (5274,)\n"
     ]
    }
   ],
   "source": [
    "tX,ty = getMovieListLowFeatFearDf(movieNames)"
   ]
  },
  {
   "cell_type": "markdown",
   "metadata": {
    "deletable": true,
    "editable": true
   },
   "source": [
    "## Grid-Search cross validation Logistic Regression\n",
    "\n",
    "logictic regression classifier has lower accuracy and precision especially for visual features."
   ]
  },
  {
   "cell_type": "code",
   "execution_count": 133,
   "metadata": {
    "collapsed": false,
    "deletable": true,
    "editable": true
   },
   "outputs": [
    {
     "name": "stdout",
     "output_type": "stream",
     "text": [
      "CPU times: user 8min 52s, sys: 904 ms, total: 8min 53s\n",
      "Wall time: 8min 43s\n"
     ]
    }
   ],
   "source": [
    "%%time\n",
    "from sklearn.linear_model import LogisticRegression\n",
    "from sklearn.model_selection import GridSearchCV\n",
    "from sklearn.pipeline import make_pipeline\n",
    "\n",
    "\n",
    "\n",
    "pipe = make_pipeline(LogisticRegression())\n",
    "param_grid = {'logisticregression__C': [0.001, 0.01, 0.1, 1, 10]}\n",
    "\n",
    "grid_visual = GridSearchCV(pipe, param_grid, cv=5)\n",
    "grid_visual.fit(Xtrainv, ytrain)\n",
    "\n",
    "grid_audio = GridSearchCV(pipe, param_grid, cv=5)\n",
    "grid_audio.fit(Xtraina, ytrain)\n"
   ]
  },
  {
   "cell_type": "code",
   "execution_count": 103,
   "metadata": {
    "collapsed": false,
    "deletable": true,
    "editable": true
   },
   "outputs": [
    {
     "name": "stdout",
     "output_type": "stream",
     "text": [
      "Best cross-validation score: 0.84\n",
      "('Best parameters: ', {'logisticregression__C': 0.001})\n",
      "Best cross-validation score: 0.90\n",
      "('Best parameters: ', {'logisticregression__C': 0.001})\n"
     ]
    }
   ],
   "source": [
    "print(\"Best cross-validation score: {:.2f}\".format(grid_visual.best_score_))\n",
    "print(\"Best parameters: \", grid_visual.best_params_)\n",
    "\n",
    "print(\"Best cross-validation score: {:.2f}\".format(grid_audio.best_score_))\n",
    "print(\"Best parameters: \", grid_audio.best_params_)\n"
   ]
  },
  {
   "cell_type": "code",
   "execution_count": 110,
   "metadata": {
    "collapsed": false,
    "deletable": true,
    "editable": true
   },
   "outputs": [
    {
     "name": "stdout",
     "output_type": "stream",
     "text": [
      "Logistic Regression:\n",
      "              precision    recall  f1-score   support\n",
      "\n",
      "          0       1.00      0.96      0.98       708\n",
      "          1       0.00      0.00      0.00         0\n",
      "\n",
      "avg / total       1.00      0.96      0.98       708\n",
      "\n",
      "\n",
      "Logistic Regression:\n",
      "              precision    recall  f1-score   support\n",
      "\n",
      "          0       0.99      0.96      0.98       702\n",
      "          1       0.04      0.17      0.06         6\n",
      "\n",
      "avg / total       0.98      0.95      0.97       708\n",
      "\n",
      "\n"
     ]
    }
   ],
   "source": [
    "predictionsv = LogisticRegression(C=0.001).fit(Xtrainv, ytrain).predict(Xtestv)\n",
    "predictionsa = LogisticRegression(C=0.001).fit(Xtraina, ytrain).predict(Xtesta)\n",
    "\n",
    "print('Logistic Regression:\\n {}\\n'.format(metrics.classification_report(predictionsv,ytest)))\n",
    "print('Logistic Regression:\\n {}\\n'.format(metrics.classification_report(predictionsa,ytest))) "
   ]
  },
  {
   "cell_type": "code",
   "execution_count": 132,
   "metadata": {
    "collapsed": false,
    "deletable": true,
    "editable": true
   },
   "outputs": [
    {
     "name": "stdout",
     "output_type": "stream",
     "text": [
      "Visual Logistic Regression:\n",
      "              precision    recall  f1-score   support\n",
      "\n",
      "          0       0.96      1.00      0.98       680\n",
      "          1       0.00      0.00      0.00        28\n",
      "\n",
      "avg / total       0.92      0.96      0.94       708\n",
      "\n",
      "\n",
      "Visual Logistic Regression AVP: 0.52\n",
      "Visual Logistic Accuracy:       0.96\n",
      "Audio Logistic Regression:\n",
      "              precision    recall  f1-score   support\n",
      "\n",
      "          0       0.96      0.99      0.98       680\n",
      "          1       0.17      0.04      0.06        28\n",
      "\n",
      "avg / total       0.93      0.95      0.94       708\n",
      "\n",
      "\n",
      "Audio Logistic Regression AVP: 0.12\n",
      "Audio Logistic Accuracy:       0.95\n",
      "Fusion Logistic Regression:\n",
      "              precision    recall  f1-score   support\n",
      "\n",
      "          0       1.00      0.96      0.98       708\n",
      "          1       0.00      0.00      0.00         0\n",
      "\n",
      "avg / total       1.00      0.96      0.98       708\n",
      "\n",
      "\n",
      "CPU times: user 8.93 s, sys: 16 ms, total: 8.95 s\n",
      "Wall time: 8.93 s\n"
     ]
    }
   ],
   "source": [
    "%%time\n",
    "lgcv = LogisticRegression(C=0.001)\n",
    "lgcv.fit(Xtrainv, ytrain)\n",
    "\n",
    "lgca = LogisticRegression(C=0.001)\n",
    "lgca.fit(Xtraina, ytrain)\n",
    "\n",
    "print('Visual Logistic Regression:\\n {}\\n'.format(metrics.classification_report(ytest,lgcv.predict(Xtestv))))\n",
    "print('Visual Logistic Regression AVP: {:.2f}'.format(metrics.average_precision_score(ytest,lgcv.predict(Xtestv) , average='macro')))\n",
    "print('Visual Logistic Accuracy:       {:.2f}'.format(metrics.accuracy_score(ytest,lgcv.predict(Xtestv))))\n",
    "\n",
    "print('Audio Logistic Regression:\\n {}\\n'.format(metrics.classification_report(ytest,lgca.predict(Xtesta)))) \n",
    "print('Audio Logistic Regression AVP: {:.2f}'.format(metrics.average_precision_score(ytest,lgca.predict(Xtesta) , average='macro')))\n",
    "print('Audio Logistic Accuracy:       {:.2f}'.format(metrics.accuracy_score(ytest,lgca.predict(Xtesta))))\n",
    "\n",
    "latefusionXtrain = np.transpose([lgcv.predict(Xtrainv),lgca.predict(Xtraina)])\n",
    "\n",
    "fuslgc = LogisticRegression(C=0.001)\n",
    "fuslgc.fit(latefusionXtrain,ytrain)\n",
    "\n",
    "#Test\n",
    "latefusionXtest = np.transpose([lgcv.predict(Xtestv),lgca.predict(Xtesta)])\n",
    "pred_ytest = fuslgc.predict(latefusionXtest)\n",
    "\n",
    "print('Fusion Logistic Regression:\\n {}\\n'.format(metrics.classification_report(pred_ytest,ytest)))\n",
    "\n"
   ]
  },
  {
   "cell_type": "markdown",
   "metadata": {
    "deletable": true,
    "editable": true
   },
   "source": [
    "## SVC Classifier\n",
    "Parameters are found with grid search:\n",
    "\n",
    "\n",
    "{'classifier': SVC(C=0.001, cache_size=200, class_weight=None, coef0=0.0,\n",
    "   decision_function_shape=None, degree=3, gamma=0.001, kernel='rbf',\n",
    "   max_iter=-1, probability=False, random_state=None, shrinking=True,\n",
    "   tol=0.001, verbose=False),\n",
    " 'classifier__C': 0.001,\n",
    " 'classifier__gamma': 0.001,\n",
    " 'preprocessing': StandardScaler(copy=True, with_mean=True, with_std=True)}\n",
    "\n"
   ]
  },
  {
   "cell_type": "code",
   "execution_count": 213,
   "metadata": {
    "collapsed": false,
    "deletable": true,
    "editable": true,
    "scrolled": true
   },
   "outputs": [
    {
     "name": "stdout",
     "output_type": "stream",
     "text": [
      "Visual SVC :\n",
      "              precision    recall  f1-score   support\n",
      "\n",
      "          0       0.87      1.00      0.93       793\n",
      "          1       0.00      0.00      0.00       119\n",
      "\n",
      "avg / total       0.76      0.87      0.81       912\n",
      "\n",
      "\n",
      "Visual SVC AVP: 0.57\n",
      "Visual SVC Accuracy:       0.87\n",
      "Audio SVC:\n",
      "              precision    recall  f1-score   support\n",
      "\n",
      "          0       0.87      1.00      0.93       793\n",
      "          1       0.00      0.00      0.00       119\n",
      "\n",
      "avg / total       0.76      0.87      0.81       912\n",
      "\n",
      "\n",
      "Audio SVC AVP: 0.57\n",
      "Audio SVC Accuracy:       0.87\n",
      "Fusion Logistic Regression:\n",
      "              precision    recall  f1-score   support\n",
      "\n",
      "          0       1.00      0.87      0.93       912\n",
      "          1       0.00      0.00      0.00         0\n",
      "\n",
      "avg / total       1.00      0.87      0.93       912\n",
      "\n",
      "\n",
      "CPU times: user 11.9 s, sys: 0 ns, total: 11.9 s\n",
      "Wall time: 11.9 s\n"
     ]
    }
   ],
   "source": [
    "%%time\n",
    "lgcv = SVC(C=0.001, cache_size=200, class_weight=None, coef0=0.0,\n",
    "   decision_function_shape=None, degree=3, gamma=0.001, kernel='rbf',\n",
    "   max_iter=-1, probability=False, random_state=None, shrinking=True,\n",
    "   tol=0.001, verbose=False)\n",
    "lgcv.fit(Xtrainv, ytrain)\n",
    "\n",
    "lgca = SVC(C=0.001, cache_size=200, class_weight=None, coef0=0.0,\n",
    "   decision_function_shape=None, degree=3, gamma=0.001, kernel='rbf',\n",
    "   max_iter=-1, probability=False, random_state=None, shrinking=True,\n",
    "   tol=0.001, verbose=False)\n",
    "lgca.fit(Xtraina, ytrain)\n",
    "\n",
    "print('Visual SVC :\\n {}\\n'.format(metrics.classification_report(ytest,lgcv.predict(Xtestv))))\n",
    "print('Visual SVC AVP: {:.2f}'.format(metrics.average_precision_score(ytest,lgcv.predict(Xtestv) , average='macro')))\n",
    "print('Visual SVC Accuracy:       {:.2f}'.format(metrics.accuracy_score(ytest,lgcv.predict(Xtestv))))\n",
    "\n",
    "print('Audio SVC:\\n {}\\n'.format(metrics.classification_report(ytest,lgca.predict(Xtesta)))) \n",
    "print('Audio SVC AVP: {:.2f}'.format(metrics.average_precision_score(ytest,lgca.predict(Xtesta) , average='macro')))\n",
    "print('Audio SVC Accuracy:       {:.2f}'.format(metrics.accuracy_score(ytest,lgca.predict(Xtesta))))\n",
    "\n",
    "latefusionXtrain = np.transpose([lgcv.predict(Xtrainv),lgca.predict(Xtraina)])\n",
    "\n",
    "fuslgc = LogisticRegression(C=0.01)\n",
    "fuslgc.fit(latefusionXtrain,ytrain)\n",
    "\n",
    "#Test\n",
    "latefusionXtest = np.transpose([lgcv.predict(Xtestv),lgca.predict(Xtesta)])\n",
    "pred_ytest = fuslgc.predict(latefusionXtest)\n",
    "\n",
    "print('Fusion Logistic Regression:\\n {}\\n'.format(metrics.classification_report(pred_ytest,ytest)))\n",
    "\n"
   ]
  },
  {
   "cell_type": "code",
   "execution_count": 284,
   "metadata": {
    "collapsed": false,
    "deletable": true,
    "editable": true
   },
   "outputs": [
    {
     "data": {
      "text/plain": [
       "['models/fear-fusion-logisticreg.pkl']"
      ]
     },
     "execution_count": 284,
     "metadata": {},
     "output_type": "execute_result"
    }
   ],
   "source": [
    "## Models are stored\n",
    "from sklearn.externals import joblib\n",
    "joblib.dump(lgcv, 'models/fear-visual-svm.pkl')\n",
    "joblib.dump(lgca, 'models/fear-audio-svm.pkl')\n",
    "joblib.dump(fuslgc, 'models/fear-fusion-logisticreg.pkl')\n"
   ]
  },
  {
   "cell_type": "code",
   "execution_count": 287,
   "metadata": {
    "collapsed": true,
    "deletable": true,
    "editable": true
   },
   "outputs": [],
   "source": [
    "# Load Models\n",
    "visusvm = joblib.load('models/fear-visual-svm.pkl')\n",
    "audisvm = joblib.load('models/fear-audio-svm.pkl')\n",
    "fusesvm = joblib.load('models/fear-fusion-logisticreg.pkl')\n"
   ]
  },
  {
   "cell_type": "code",
   "execution_count": null,
   "metadata": {
    "collapsed": true,
    "deletable": true,
    "editable": true
   },
   "outputs": [],
   "source": [
    "#RUN-1\n"
   ]
  },
  {
   "cell_type": "markdown",
   "metadata": {
    "deletable": true,
    "editable": true
   },
   "source": [
    "## Gradient Boosting Classifier\n",
    "\n",
    "Boosting is a sequential technique which works on the principle of ensemble. It combines a set of weak learners and delivers improved prediction accuracy. At any instant t, the model outcomes are weighed based on the outcomes of previous instant t-1. The outcomes predicted correctly are given a lower weight and the ones miss-classified are weighted higher. "
   ]
  },
  {
   "cell_type": "code",
   "execution_count": 114,
   "metadata": {
    "collapsed": true,
    "deletable": true,
    "editable": true
   },
   "outputs": [],
   "source": [
    "from sklearn.ensemble import GradientBoostingClassifier  #GBM algorithm\n",
    "from sklearn import cross_validation\n",
    "from sklearn import metrics   #Additional scklearn functions\n",
    "from sklearn.grid_search import GridSearchCV   #Perforing grid search\n",
    "\n",
    "import matplotlib.pylab as plt\n",
    "%matplotlib inline\n",
    "from matplotlib.pylab import rcParams"
   ]
  },
  {
   "cell_type": "code",
   "execution_count": 118,
   "metadata": {
    "collapsed": true,
    "deletable": true,
    "editable": true
   },
   "outputs": [],
   "source": [
    "def modelfit(alg, X, y, performCV=True, printFeatureImportance=True, cv_folds=5):\n",
    "    #Fit the algorithm on the data\n",
    "    alg.fit(X, y)\n",
    "        \n",
    "    #Predict training set:\n",
    "    dtrain_predictions = alg.predict(X)\n",
    "    dtrain_predprob = alg.predict_proba(X)[:,1]\n",
    "    \n",
    "    #Perform cross-validation:\n",
    "    if performCV:\n",
    "        cv_score = cross_validation.cross_val_score(alg, X, y, cv=cv_folds, scoring='roc_auc')\n",
    "    \n",
    "    #Print model report:\n",
    "    print \"\\nModel Report\"\n",
    "    print \"Accuracy : %.4g\" % metrics.accuracy_score(y.values, dtrain_predictions)\n",
    "    print \"AUC Score (Train): %f\" % metrics.roc_auc_score(y, dtrain_predprob)\n",
    "    \n",
    "    if performCV:\n",
    "        print \"CV Score : Mean - %.7g | Std - %.7g | Min - %.7g | Max - %.7g\" % (np.mean(cv_score),np.std(cv_score),np.min(cv_score),np.max(cv_score))\n",
    "        \n",
    "    #Print Feature Importance:\n",
    "    if printFeatureImportance:\n",
    "        feat_imp = pd.Series(alg.feature_importances_, X.columns).sort_values(ascending=False)\n",
    "        feat_imp.plot(kind='bar', title='Feature Importances')\n",
    "        plt.ylabel('Feature Importance Score')"
   ]
  },
  {
   "cell_type": "code",
   "execution_count": 119,
   "metadata": {
    "collapsed": false,
    "deletable": true,
    "editable": true
   },
   "outputs": [
    {
     "name": "stdout",
     "output_type": "stream",
     "text": [
      "\n",
      "Model Report\n",
      "Accuracy : 0.9664\n",
      "AUC Score (Train): 0.979824\n",
      "CV Score : Mean - 0.5297799 | Std - 0.03963452 | Min - 0.4689694 | Max - 0.5934793\n"
     ]
    },
    {
     "data": {
      "image/png": "[encoded data removed]",
      "text/plain": [
       "<matplotlib.figure.Figure at 0x7f406cc5d250>"
      ]
     },
     "metadata": {},
     "output_type": "display_data"
    }
   ],
   "source": [
    "gbm0 = GradientBoostingClassifier(random_state=10)\n",
    "modelfit(gbm0, Xtrainv, ytrain)"
   ]
  },
  {
   "cell_type": "code",
   "execution_count": 120,
   "metadata": {
    "collapsed": false,
    "deletable": true,
    "editable": true
   },
   "outputs": [
    {
     "name": "stdout",
     "output_type": "stream",
     "text": [
      "\n",
      "Model Report\n",
      "Accuracy : 0.9723\n",
      "AUC Score (Train): 0.993630\n",
      "CV Score : Mean - 0.6376591 | Std - 0.06826815 | Min - 0.525855 | Max - 0.7159599\n"
     ]
    },
    {
     "data": {
      "image/png": "[encoded data removed]",
      "text/plain": [
       "<matplotlib.figure.Figure at 0x7f406daa99d0>"
      ]
     },
     "metadata": {},
     "output_type": "display_data"
    }
   ],
   "source": [
    "gbm0 = GradientBoostingClassifier(random_state=10)\n",
    "modelfit(gbm0, Xtraina, ytrain)"
   ]
  },
  {
   "cell_type": "code",
   "execution_count": null,
   "metadata": {
    "collapsed": true,
    "deletable": true,
    "editable": true
   },
   "outputs": [],
   "source": [
    "def heatmap(values, xlabel, ylabel, xticklabels, yticklabels, cmap=None,\n",
    "            vmin=None, vmax=None, ax=None, fmt=\"%0.2f\"):\n",
    "    if ax is None:\n",
    "        ax = plt.gca()\n",
    "    # plot the mean cross-validation scores\n",
    "    img = ax.pcolor(values, cmap=cmap, vmin=vmin, vmax=vmax)\n",
    "    img.update_scalarmappable()\n",
    "    ax.set_xlabel(xlabel)\n",
    "    ax.set_ylabel(ylabel)\n",
    "    ax.set_xticks(np.arange(len(xticklabels)) + .5)\n",
    "    ax.set_yticks(np.arange(len(yticklabels)) + .5)\n",
    "    ax.set_xticklabels(xticklabels)\n",
    "    ax.set_yticklabels(yticklabels)\n",
    "    ax.set_aspect(1)\n",
    "\n",
    "    for p, color, value in zip(img.get_paths(), img.get_facecolors(),\n",
    "                               img.get_array()):\n",
    "        x, y = p.vertices[:-2, :].mean(0)\n",
    "        if np.mean(color[:3]) > 0.5:\n",
    "            c = 'k'\n",
    "        else:\n",
    "            c = 'w'\n",
    "        ax.text(x, y, fmt % value, color=c, ha=\"center\", va=\"center\")\n",
    "    return img\n"
   ]
  },
  {
   "cell_type": "code",
   "execution_count": 138,
   "metadata": {
    "collapsed": false,
    "deletable": true,
    "editable": true
   },
   "outputs": [
    {
     "name": "stderr",
     "output_type": "stream",
     "text": [
      "/home/yt/anaconda2/lib/python2.7/site-packages/sklearn/model_selection/_search.py:667: DeprecationWarning: The grid_scores_ attribute was deprecated in version 0.18 in favor of the more elaborate cv_results_ attribute. The grid_scores_ attribute will not be available from 0.20\n",
      "  DeprecationWarning)\n"
     ]
    },
    {
     "data": {
      "text/plain": [
       "([mean: 0.54226, std: 0.07442, params: {'n_estimators': 20},\n",
       "  mean: 0.54990, std: 0.08733, params: {'n_estimators': 30},\n",
       "  mean: 0.54684, std: 0.07985, params: {'n_estimators': 40},\n",
       "  mean: 0.54879, std: 0.06209, params: {'n_estimators': 50},\n",
       "  mean: 0.54235, std: 0.05848, params: {'n_estimators': 60},\n",
       "  mean: 0.54326, std: 0.06461, params: {'n_estimators': 70},\n",
       "  mean: 0.54129, std: 0.05815, params: {'n_estimators': 80}],\n",
       " {'n_estimators': 30},\n",
       " 0.54990240301074111)"
      ]
     },
     "execution_count": 138,
     "metadata": {},
     "output_type": "execute_result"
    }
   ],
   "source": [
    "param_test1 = {'n_estimators':range(20,81,10)}\n",
    "gsearch1 = GridSearchCV(\n",
    "    estimator = GradientBoostingClassifier(\n",
    "        learning_rate=0.05,  \n",
    "        min_samples_split=500,\n",
    "        min_samples_leaf=50,\n",
    "        max_depth=8,\n",
    "        max_features='sqrt',subsample=0.8,random_state=10), \n",
    "    param_grid = param_test1, scoring='roc_auc',n_jobs=4,iid=False, cv=5)\n",
    "gsearch1.fit(Xtrainv,ytrain)\n",
    "gsearch1.grid_scores_, gsearch1.best_params_, gsearch1.best_score_\n"
   ]
  },
  {
   "cell_type": "code",
   "execution_count": 140,
   "metadata": {
    "collapsed": false,
    "deletable": true,
    "editable": true
   },
   "outputs": [
    {
     "name": "stderr",
     "output_type": "stream",
     "text": [
      "/home/yt/anaconda2/lib/python2.7/site-packages/sklearn/model_selection/_search.py:667: DeprecationWarning: The grid_scores_ attribute was deprecated in version 0.18 in favor of the more elaborate cv_results_ attribute. The grid_scores_ attribute will not be available from 0.20\n",
      "  DeprecationWarning)\n"
     ]
    },
    {
     "data": {
      "text/plain": [
       "([mean: 0.59704, std: 0.06433, params: {'n_estimators': 20},\n",
       "  mean: 0.60486, std: 0.06826, params: {'n_estimators': 30},\n",
       "  mean: 0.60883, std: 0.07519, params: {'n_estimators': 40},\n",
       "  mean: 0.61834, std: 0.06611, params: {'n_estimators': 50},\n",
       "  mean: 0.61935, std: 0.06735, params: {'n_estimators': 60},\n",
       "  mean: 0.61745, std: 0.06764, params: {'n_estimators': 70},\n",
       "  mean: 0.61837, std: 0.06843, params: {'n_estimators': 80}],\n",
       " {'n_estimators': 60},\n",
       " 0.61935109229927554)"
      ]
     },
     "execution_count": 140,
     "metadata": {},
     "output_type": "execute_result"
    }
   ],
   "source": [
    "\n",
    "gsearch1.fit(Xtraina,ytrain)\n",
    "gsearch1.grid_scores_, gsearch1.best_params_, gsearch1.best_score_"
   ]
  },
  {
   "cell_type": "code",
   "execution_count": 145,
   "metadata": {
    "collapsed": false,
    "deletable": true,
    "editable": true
   },
   "outputs": [
    {
     "name": "stderr",
     "output_type": "stream",
     "text": [
      "/home/yt/anaconda2/lib/python2.7/site-packages/sklearn/model_selection/_search.py:667: DeprecationWarning: The grid_scores_ attribute was deprecated in version 0.18 in favor of the more elaborate cv_results_ attribute. The grid_scores_ attribute will not be available from 0.20\n",
      "  DeprecationWarning)\n"
     ]
    },
    {
     "data": {
      "text/plain": [
       "([mean: 0.65856, std: 0.07867, params: {'min_samples_split': 200, 'max_depth': 5},\n",
       "  mean: 0.67126, std: 0.09543, params: {'min_samples_split': 400, 'max_depth': 5},\n",
       "  mean: 0.67575, std: 0.08657, params: {'min_samples_split': 600, 'max_depth': 5},\n",
       "  mean: 0.68706, std: 0.10208, params: {'min_samples_split': 800, 'max_depth': 5},\n",
       "  mean: 0.68417, std: 0.09009, params: {'min_samples_split': 1000, 'max_depth': 5},\n",
       "  mean: 0.66692, std: 0.08614, params: {'min_samples_split': 200, 'max_depth': 7},\n",
       "  mean: 0.66522, std: 0.07414, params: {'min_samples_split': 400, 'max_depth': 7},\n",
       "  mean: 0.67908, std: 0.07967, params: {'min_samples_split': 600, 'max_depth': 7},\n",
       "  mean: 0.68920, std: 0.08261, params: {'min_samples_split': 800, 'max_depth': 7},\n",
       "  mean: 0.68779, std: 0.06802, params: {'min_samples_split': 1000, 'max_depth': 7},\n",
       "  mean: 0.67400, std: 0.07357, params: {'min_samples_split': 200, 'max_depth': 9},\n",
       "  mean: 0.69058, std: 0.08931, params: {'min_samples_split': 400, 'max_depth': 9},\n",
       "  mean: 0.70462, std: 0.07794, params: {'min_samples_split': 600, 'max_depth': 9},\n",
       "  mean: 0.67247, std: 0.07615, params: {'min_samples_split': 800, 'max_depth': 9},\n",
       "  mean: 0.68473, std: 0.06743, params: {'min_samples_split': 1000, 'max_depth': 9},\n",
       "  mean: 0.68344, std: 0.07515, params: {'min_samples_split': 200, 'max_depth': 11},\n",
       "  mean: 0.67921, std: 0.06358, params: {'min_samples_split': 400, 'max_depth': 11},\n",
       "  mean: 0.67451, std: 0.06566, params: {'min_samples_split': 600, 'max_depth': 11},\n",
       "  mean: 0.67425, std: 0.07787, params: {'min_samples_split': 800, 'max_depth': 11},\n",
       "  mean: 0.68899, std: 0.09086, params: {'min_samples_split': 1000, 'max_depth': 11},\n",
       "  mean: 0.66549, std: 0.08990, params: {'min_samples_split': 200, 'max_depth': 13},\n",
       "  mean: 0.67671, std: 0.08769, params: {'min_samples_split': 400, 'max_depth': 13},\n",
       "  mean: 0.68378, std: 0.05338, params: {'min_samples_split': 600, 'max_depth': 13},\n",
       "  mean: 0.67723, std: 0.05125, params: {'min_samples_split': 800, 'max_depth': 13},\n",
       "  mean: 0.67608, std: 0.07304, params: {'min_samples_split': 1000, 'max_depth': 13},\n",
       "  mean: 0.66601, std: 0.07982, params: {'min_samples_split': 200, 'max_depth': 15},\n",
       "  mean: 0.67007, std: 0.07338, params: {'min_samples_split': 400, 'max_depth': 15},\n",
       "  mean: 0.68021, std: 0.06591, params: {'min_samples_split': 600, 'max_depth': 15},\n",
       "  mean: 0.68198, std: 0.07270, params: {'min_samples_split': 800, 'max_depth': 15},\n",
       "  mean: 0.67707, std: 0.08113, params: {'min_samples_split': 1000, 'max_depth': 15}],\n",
       " {'max_depth': 9, 'min_samples_split': 600},\n",
       " 0.70462099329666761)"
      ]
     },
     "execution_count": 145,
     "metadata": {},
     "output_type": "execute_result"
    }
   ],
   "source": [
    "param_test2 = {'max_depth':range(5,16,2), 'min_samples_split':range(200,1001,200)}\n",
    "gsearch2 = GridSearchCV(estimator = GradientBoostingClassifier(learning_rate=0.1, n_estimators=60, max_features='sqrt', subsample=0.8, random_state=10), \n",
    "param_grid = param_test2, scoring='roc_auc',n_jobs=4,iid=False, cv=5)\n",
    "gsearch2.fit(Xtraina,ytrain)\n",
    "gsearch2.grid_scores_, gsearch2.best_params_, gsearch2.best_score_"
   ]
  },
  {
   "cell_type": "code",
   "execution_count": 146,
   "metadata": {
    "collapsed": false,
    "deletable": true,
    "editable": true
   },
   "outputs": [
    {
     "name": "stderr",
     "output_type": "stream",
     "text": [
      "/home/yt/anaconda2/lib/python2.7/site-packages/sklearn/model_selection/_search.py:667: DeprecationWarning: The grid_scores_ attribute was deprecated in version 0.18 in favor of the more elaborate cv_results_ attribute. The grid_scores_ attribute will not be available from 0.20\n",
      "  DeprecationWarning)\n"
     ]
    },
    {
     "data": {
      "text/plain": [
       "([mean: 0.69246, std: 0.07509, params: {'min_samples_split': 1000, 'min_samples_leaf': 30},\n",
       "  mean: 0.69361, std: 0.07556, params: {'min_samples_split': 1200, 'min_samples_leaf': 30},\n",
       "  mean: 0.69994, std: 0.07476, params: {'min_samples_split': 1400, 'min_samples_leaf': 30},\n",
       "  mean: 0.71255, std: 0.07542, params: {'min_samples_split': 1600, 'min_samples_leaf': 30},\n",
       "  mean: 0.71428, std: 0.07999, params: {'min_samples_split': 1800, 'min_samples_leaf': 30},\n",
       "  mean: 0.71123, std: 0.08337, params: {'min_samples_split': 2000, 'min_samples_leaf': 30},\n",
       "  mean: 0.68671, std: 0.07592, params: {'min_samples_split': 1000, 'min_samples_leaf': 40},\n",
       "  mean: 0.68655, std: 0.07073, params: {'min_samples_split': 1200, 'min_samples_leaf': 40},\n",
       "  mean: 0.69469, std: 0.07493, params: {'min_samples_split': 1400, 'min_samples_leaf': 40},\n",
       "  mean: 0.70010, std: 0.07755, params: {'min_samples_split': 1600, 'min_samples_leaf': 40},\n",
       "  mean: 0.70374, std: 0.08813, params: {'min_samples_split': 1800, 'min_samples_leaf': 40},\n",
       "  mean: 0.71003, std: 0.07790, params: {'min_samples_split': 2000, 'min_samples_leaf': 40},\n",
       "  mean: 0.68721, std: 0.07827, params: {'min_samples_split': 1000, 'min_samples_leaf': 50},\n",
       "  mean: 0.69015, std: 0.07483, params: {'min_samples_split': 1200, 'min_samples_leaf': 50},\n",
       "  mean: 0.69544, std: 0.07854, params: {'min_samples_split': 1400, 'min_samples_leaf': 50},\n",
       "  mean: 0.69412, std: 0.08560, params: {'min_samples_split': 1600, 'min_samples_leaf': 50},\n",
       "  mean: 0.69942, std: 0.08432, params: {'min_samples_split': 1800, 'min_samples_leaf': 50},\n",
       "  mean: 0.70299, std: 0.08411, params: {'min_samples_split': 2000, 'min_samples_leaf': 50},\n",
       "  mean: 0.67470, std: 0.08944, params: {'min_samples_split': 1000, 'min_samples_leaf': 60},\n",
       "  mean: 0.68349, std: 0.08855, params: {'min_samples_split': 1200, 'min_samples_leaf': 60},\n",
       "  mean: 0.68446, std: 0.08556, params: {'min_samples_split': 1400, 'min_samples_leaf': 60},\n",
       "  mean: 0.69861, std: 0.09210, params: {'min_samples_split': 1600, 'min_samples_leaf': 60},\n",
       "  mean: 0.69658, std: 0.08737, params: {'min_samples_split': 1800, 'min_samples_leaf': 60},\n",
       "  mean: 0.70116, std: 0.09391, params: {'min_samples_split': 2000, 'min_samples_leaf': 60},\n",
       "  mean: 0.67211, std: 0.09104, params: {'min_samples_split': 1000, 'min_samples_leaf': 70},\n",
       "  mean: 0.67606, std: 0.08069, params: {'min_samples_split': 1200, 'min_samples_leaf': 70},\n",
       "  mean: 0.68869, std: 0.07845, params: {'min_samples_split': 1400, 'min_samples_leaf': 70},\n",
       "  mean: 0.69452, std: 0.08677, params: {'min_samples_split': 1600, 'min_samples_leaf': 70},\n",
       "  mean: 0.68991, std: 0.08745, params: {'min_samples_split': 1800, 'min_samples_leaf': 70},\n",
       "  mean: 0.68493, std: 0.08237, params: {'min_samples_split': 2000, 'min_samples_leaf': 70}],\n",
       " {'min_samples_leaf': 30, 'min_samples_split': 1800},\n",
       " 0.71428362525348432)"
      ]
     },
     "execution_count": 146,
     "metadata": {},
     "output_type": "execute_result"
    }
   ],
   "source": [
    "param_test3 = {'min_samples_split':range(1000,2100,200), 'min_samples_leaf':range(30,71,10)}\n",
    "gsearch3 = GridSearchCV(estimator = GradientBoostingClassifier(learning_rate=0.05, n_estimators=60,max_depth=9,max_features='sqrt', subsample=0.8, random_state=10), \n",
    "param_grid = param_test3, scoring='roc_auc',n_jobs=4,iid=False, cv=5)\n",
    "gsearch3.fit(Xtraina,ytrain)\n",
    "gsearch3.grid_scores_, gsearch3.best_params_, gsearch3.best_score_"
   ]
  },
  {
   "cell_type": "code",
   "execution_count": 153,
   "metadata": {
    "collapsed": false,
    "deletable": true,
    "editable": true
   },
   "outputs": [
    {
     "data": {
      "text/plain": [
       "array([ 0.692465  ,  0.69361399,  0.69994245,  0.71255225,  0.71428363,\n",
       "        0.71122594,  0.68671004,  0.68655353,  0.69468706,  0.70009979,\n",
       "        0.70374395,  0.71003441,  0.68720742,  0.69015006,  0.69543578,\n",
       "        0.69411825,  0.69941688,  0.70298527,  0.6747043 ,  0.6834856 ,\n",
       "        0.6844616 ,  0.69861013,  0.69657857,  0.70115528,  0.67210786,\n",
       "        0.67606228,  0.6886933 ,  0.69452147,  0.68991434,  0.68492845])"
      ]
     },
     "execution_count": 153,
     "metadata": {},
     "output_type": "execute_result"
    }
   ],
   "source": [
    "gsearch3.cv_results_['mean_test_score']"
   ]
  },
  {
   "cell_type": "code",
   "execution_count": 154,
   "metadata": {
    "collapsed": false,
    "deletable": true,
    "editable": true
   },
   "outputs": [
    {
     "data": {
      "text/plain": [
       "array([[ 0.692465  ,  0.69361399,  0.69994245,  0.71255225,  0.71428363],\n",
       "       [ 0.71122594,  0.68671004,  0.68655353,  0.69468706,  0.70009979],\n",
       "       [ 0.70374395,  0.71003441,  0.68720742,  0.69015006,  0.69543578],\n",
       "       [ 0.69411825,  0.69941688,  0.70298527,  0.6747043 ,  0.6834856 ],\n",
       "       [ 0.6844616 ,  0.69861013,  0.69657857,  0.70115528,  0.67210786],\n",
       "       [ 0.67606228,  0.6886933 ,  0.69452147,  0.68991434,  0.68492845]])"
      ]
     },
     "execution_count": 154,
     "metadata": {},
     "output_type": "execute_result"
    }
   ],
   "source": [
    "gsearch3.cv_results_['mean_test_score'].reshape(6,-1)"
   ]
  },
  {
   "cell_type": "code",
   "execution_count": 150,
   "metadata": {
    "collapsed": true,
    "deletable": true,
    "editable": true
   },
   "outputs": [],
   "source": []
  },
  {
   "cell_type": "code",
   "execution_count": 158,
   "metadata": {
    "collapsed": false,
    "deletable": true,
    "editable": true
   },
   "outputs": [
    {
     "data": {
      "text/plain": [
       "<matplotlib.collections.PolyCollection at 0x7f405db2aed0>"
      ]
     },
     "execution_count": 158,
     "metadata": {},
     "output_type": "execute_result"
    },
    {
     "data": {
      "image/png": "[encoded data removed]",
      "text/plain": [
       "<matplotlib.figure.Figure at 0x7f406db103d0>"
      ]
     },
     "metadata": {},
     "output_type": "display_data"
    }
   ],
   "source": [
    "heatmap(gsearch3.cv_results_['mean_test_score'].reshape(6, -1),\n",
    "                      xlabel=\"min_samples_split\", ylabel=\"min_samples_leaf\",\n",
    "                      xticklabels=param_test3['min_samples_split'],\n",
    "                      yticklabels=param_test3['min_samples_leaf'])"
   ]
  },
  {
   "cell_type": "code",
   "execution_count": null,
   "metadata": {
    "collapsed": true,
    "deletable": true,
    "editable": true
   },
   "outputs": [],
   "source": [
    "param_grid = [\n",
    "    {'classifier': [SVC()], 'preprocessing': [StandardScaler(), None],\n",
    "     'classifier__gamma': [0.001, 0.01, 0.1, 1, 10, 100],\n",
    "     'classifier__C': [0.001, 0.01, 0.1, 1, 10, 100]},\n",
    "    {'classifier': [RandomForestClassifier(n_estimators=100)],\n"
   ]
  },
  {
   "cell_type": "code",
   "execution_count": 165,
   "metadata": {
    "collapsed": false,
    "deletable": true,
    "editable": true
   },
   "outputs": [
    {
     "name": "stdout",
     "output_type": "stream",
     "text": [
      "Best params:\n",
      "{'classifier__gamma': 0.001, 'preprocessing': StandardScaler(copy=True, with_mean=True, with_std=True), 'classifier': SVC(C=0.001, cache_size=200, class_weight=None, coef0=0.0,\n",
      "  decision_function_shape=None, degree=3, gamma=0.001, kernel='rbf',\n",
      "  max_iter=-1, probability=False, random_state=None, shrinking=True,\n",
      "  tol=0.001, verbose=False), 'classifier__C': 0.001}\n",
      "\n",
      "Best cross-validation score: 0.96\n"
     ]
    },
    {
     "name": "stderr",
     "output_type": "stream",
     "text": [
      "/home/yt/anaconda2/lib/python2.7/site-packages/sklearn/model_selection/_search.py:667: DeprecationWarning: The grid_scores_ attribute was deprecated in version 0.18 in favor of the more elaborate cv_results_ attribute. The grid_scores_ attribute will not be available from 0.20\n",
      "  DeprecationWarning)\n"
     ]
    },
    {
     "data": {
      "text/plain": [
       "([mean: 0.96232, std: 0.00043, params: {'classifier__gamma': 0.001, 'preprocessing': StandardScaler(copy=True, with_mean=True, with_std=True), 'classifier': SVC(C=0.001, cache_size=200, class_weight=None, coef0=0.0,\n",
       "  decision_function_shape=None, degree=3, gamma=0.001, kernel='rbf',\n",
       "  max_iter=-1, probability=False, random_state=None, shrinking=True,\n",
       "  tol=0.001, verbose=False), 'classifier__C': 0.001},\n",
       "  mean: 0.96232, std: 0.00043, params: {'classifier__gamma': 1, 'preprocessing': StandardScaler(copy=True, with_mean=True, with_std=True), 'classifier': SVC(C=0.001, cache_size=200, class_weight=None, coef0=0.0,\n",
       "  decision_function_shape=None, degree=3, gamma=0.001, kernel='rbf',\n",
       "  max_iter=-1, probability=False, random_state=None, shrinking=True,\n",
       "  tol=0.001, verbose=False), 'classifier__C': 0.001},\n",
       "  mean: 0.96232, std: 0.00043, params: {'classifier__gamma': 10, 'preprocessing': StandardScaler(copy=True, with_mean=True, with_std=True), 'classifier': SVC(C=0.001, cache_size=200, class_weight=None, coef0=0.0,\n",
       "  decision_function_shape=None, degree=3, gamma=0.001, kernel='rbf',\n",
       "  max_iter=-1, probability=False, random_state=None, shrinking=True,\n",
       "  tol=0.001, verbose=False), 'classifier__C': 0.001},\n",
       "  mean: 0.96232, std: 0.00043, params: {'classifier__gamma': 0.001, 'preprocessing': StandardScaler(copy=True, with_mean=True, with_std=True), 'classifier': SVC(C=0.001, cache_size=200, class_weight=None, coef0=0.0,\n",
       "  decision_function_shape=None, degree=3, gamma=0.001, kernel='rbf',\n",
       "  max_iter=-1, probability=False, random_state=None, shrinking=True,\n",
       "  tol=0.001, verbose=False), 'classifier__C': 1},\n",
       "  mean: 0.96232, std: 0.00043, params: {'classifier__gamma': 1, 'preprocessing': StandardScaler(copy=True, with_mean=True, with_std=True), 'classifier': SVC(C=0.001, cache_size=200, class_weight=None, coef0=0.0,\n",
       "  decision_function_shape=None, degree=3, gamma=0.001, kernel='rbf',\n",
       "  max_iter=-1, probability=False, random_state=None, shrinking=True,\n",
       "  tol=0.001, verbose=False), 'classifier__C': 1},\n",
       "  mean: 0.96232, std: 0.00043, params: {'classifier__gamma': 10, 'preprocessing': StandardScaler(copy=True, with_mean=True, with_std=True), 'classifier': SVC(C=0.001, cache_size=200, class_weight=None, coef0=0.0,\n",
       "  decision_function_shape=None, degree=3, gamma=0.001, kernel='rbf',\n",
       "  max_iter=-1, probability=False, random_state=None, shrinking=True,\n",
       "  tol=0.001, verbose=False), 'classifier__C': 1},\n",
       "  mean: 0.96186, std: 0.00112, params: {'classifier__gamma': 0.001, 'preprocessing': StandardScaler(copy=True, with_mean=True, with_std=True), 'classifier': SVC(C=0.001, cache_size=200, class_weight=None, coef0=0.0,\n",
       "  decision_function_shape=None, degree=3, gamma=0.001, kernel='rbf',\n",
       "  max_iter=-1, probability=False, random_state=None, shrinking=True,\n",
       "  tol=0.001, verbose=False), 'classifier__C': 10},\n",
       "  mean: 0.96232, std: 0.00043, params: {'classifier__gamma': 1, 'preprocessing': StandardScaler(copy=True, with_mean=True, with_std=True), 'classifier': SVC(C=0.001, cache_size=200, class_weight=None, coef0=0.0,\n",
       "  decision_function_shape=None, degree=3, gamma=0.001, kernel='rbf',\n",
       "  max_iter=-1, probability=False, random_state=None, shrinking=True,\n",
       "  tol=0.001, verbose=False), 'classifier__C': 10},\n",
       "  mean: 0.96232, std: 0.00043, params: {'classifier__gamma': 10, 'preprocessing': StandardScaler(copy=True, with_mean=True, with_std=True), 'classifier': SVC(C=0.001, cache_size=200, class_weight=None, coef0=0.0,\n",
       "  decision_function_shape=None, degree=3, gamma=0.001, kernel='rbf',\n",
       "  max_iter=-1, probability=False, random_state=None, shrinking=True,\n",
       "  tol=0.001, verbose=False), 'classifier__C': 10},\n",
       "  mean: 0.96232, std: 0.00043, params: {'classifier__max_features': 3, 'preprocessing': None, 'classifier': RandomForestClassifier(bootstrap=True, class_weight=None, criterion='gini',\n",
       "            max_depth=None, max_features=3, max_leaf_nodes=None,\n",
       "            min_impurity_split=1e-07, min_samples_leaf=1,\n",
       "            min_samples_split=2, min_weight_fraction_leaf=0.0,\n",
       "            n_estimators=100, n_jobs=1, oob_score=False, random_state=None,\n",
       "            verbose=0, warm_start=False)}],\n",
       " {'classifier': SVC(C=0.001, cache_size=200, class_weight=None, coef0=0.0,\n",
       "    decision_function_shape=None, degree=3, gamma=0.001, kernel='rbf',\n",
       "    max_iter=-1, probability=False, random_state=None, shrinking=True,\n",
       "    tol=0.001, verbose=False),\n",
       "  'classifier__C': 0.001,\n",
       "  'classifier__gamma': 0.001,\n",
       "  'preprocessing': StandardScaler(copy=True, with_mean=True, with_std=True)},\n",
       " 0.9623161764705882)"
      ]
     },
     "execution_count": 165,
     "metadata": {},
     "output_type": "execute_result"
    }
   ],
   "source": [
    "from sklearn.ensemble import RandomForestClassifier\n",
    "from sklearn.preprocessing import StandardScaler\n",
    "from sklearn.decomposition import PCA\n",
    "from sklearn.svm import SVC\n",
    "from sklearn.preprocessing import MinMaxScaler\n",
    "from sklearn.pipeline import Pipeline\n",
    "from sklearn.pipeline import make_pipeline\n",
    "\n",
    "pipe = Pipeline([('preprocessing', StandardScaler()), ('classifier', SVC())])\n",
    "\n",
    "param_grid = [\n",
    "    {'classifier': [SVC()], 'preprocessing': [StandardScaler()],\n",
    "     'classifier__gamma': [0.001, 1, 10],\n",
    "     'classifier__C': [0.001, 1, 10]},\n",
    "    {'classifier': [RandomForestClassifier(n_estimators=100)],\n",
    "     'preprocessing': [None], 'classifier__max_features': [3]}]\n",
    "\n",
    "grid = GridSearchCV(pipe, param_grid, cv=5)\n",
    "grid.fit(Xtraina,ytrain)\n",
    "\n",
    "print(\"Best params:\\n{}\\n\".format(grid.best_params_))\n",
    "print(\"Best cross-validation score: {:.2f}\".format(grid.best_score_))\n",
    "grid.grid_scores_, grid.best_params_, grid.best_score_"
   ]
  },
  {
   "cell_type": "code",
   "execution_count": 168,
   "metadata": {
    "collapsed": false,
    "deletable": true,
    "editable": true
   },
   "outputs": [
    {
     "data": {
      "text/plain": [
       "array([ 0.96231618,  0.96231618,  0.96231618,  0.96231618,  0.96231618,\n",
       "        0.96231618,  0.96185662,  0.96231618,  0.96231618,  0.96231618])"
      ]
     },
     "execution_count": 168,
     "metadata": {},
     "output_type": "execute_result"
    }
   ],
   "source": [
    "grid.cv_results_['mean_test_score']"
   ]
  },
  {
   "cell_type": "code",
   "execution_count": 167,
   "metadata": {
    "collapsed": false,
    "deletable": true,
    "editable": true
   },
   "outputs": [
    {
     "data": {
      "text/plain": [
       "{'classifier': SVC(C=0.001, cache_size=200, class_weight=None, coef0=0.0,\n",
       "   decision_function_shape=None, degree=3, gamma=0.001, kernel='rbf',\n",
       "   max_iter=-1, probability=False, random_state=None, shrinking=True,\n",
       "   tol=0.001, verbose=False),\n",
       " 'classifier__C': 0.001,\n",
       " 'classifier__gamma': 0.001,\n",
       " 'preprocessing': StandardScaler(copy=True, with_mean=True, with_std=True)}"
      ]
     },
     "execution_count": 167,
     "metadata": {},
     "output_type": "execute_result"
    }
   ],
   "source": [
    " grid.best_params_"
   ]
  },
  {
   "cell_type": "code",
   "execution_count": null,
   "metadata": {
    "collapsed": true,
    "deletable": true,
    "editable": true
   },
   "outputs": [],
   "source": []
  }
 ],
 "metadata": {
  "kernelspec": {
   "display_name": "Python 2",
   "language": "python",
   "name": "python2"
  },
  "language_info": {
   "codemirror_mode": {
    "name": "ipython",
    "version": 2
   },
   "file_extension": ".py",
   "mimetype": "text/x-python",
   "name": "python",
   "nbconvert_exporter": "python",
   "pygments_lexer": "ipython2",
   "version": "2.7.11"
  }
 },
 "nbformat": 4,
 "nbformat_minor": 1
}
