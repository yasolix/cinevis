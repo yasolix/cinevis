{
 "cells": [
  {
   "cell_type": "code",
   "execution_count": 1,
   "metadata": {
    "collapsed": true
   },
   "outputs": [],
   "source": [
    "import pandas as pd\n",
    "from pandas import DataFrame, Series\n",
    "import matplotlib.pyplot as plt\n",
    "import matplotlib.colors as colors\n",
    "%matplotlib inline"
   ]
  },
  {
   "cell_type": "code",
   "execution_count": 2,
   "metadata": {
    "collapsed": true
   },
   "outputs": [],
   "source": [
    "import xml.etree.ElementTree as ET\n",
    "from lxml import etree\n",
    "import pandas as pd\n",
    "\n",
    "xml_data = '/path/user_agents.xml'\n",
    "\n",
    "def xml2df(xml_data):\n",
    "    tree = ET.parse(xml_data)\n",
    "    root = tree.getroot()\n",
    "    all_records = []\n",
    "    headers = []\n",
    "    for i, child in enumerate(root):\n",
    "        record = []\n",
    "        for subchild in child:\n",
    "            record.append(subchild.text)\n",
    "            if subchild.tag not in headers:\n",
    "                headers.append(subchild.tag)\n",
    "        all_records.append(record)\n",
    "    return pd.DataFrame(all_records, columns=headers)"
   ]
  },
  {
   "cell_type": "code",
   "execution_count": 23,
   "metadata": {
    "collapsed": true
   },
   "outputs": [],
   "source": [
    "from xml.dom import minidom\n",
    "import numpy as np\n",
    "import pylab as pl\n",
    "import re, fileinput\n",
    "import os.path\n",
    "\n",
    "# Input data\n",
    "movieNames = ['After_The_Rain','Attitude_Matters','Barely_legal_stories','Between_Viewings','Big_Buck_Bunny','Chatter','Cloudland','Damaged_Kung_Fu','Decay','Elephant_s_Dream','First_Bite','Full_Service','Islands','Lesson_Learned','Norm','Nuclear_Family','On_time','Origami','Parafundit','Payload','Riding_The_Rails','Sintel','Spaceman','Superhero','Tears_of_Steel','The_room_of_franz_kafka','The_secret_number','To_Claire_From_Sonny','Wanted','You_Again']\n",
    "\n",
    "pathfeatures  = \"/home/yt/Desktop/cvpr2014/repro/mediaeval/data/dataset/Discrete/features/\"\n",
    "pathlabels = \"/home/yt/Desktop/cvpr2014/repro/mediaeval/data/dataset/MediaEval/annotations-org/\"\n",
    "pathrank = \"/home/yt/Desktop/cvpr2014/repro/mediaeval/data/dataset/Discrete/annotations/\"\n",
    "pathlist = \"/home/yt/Desktop/cvpr2014/repro/mediaeval/data/dataset/Continuous/\"\n",
    "\n",
    "pathcontinuous = \"/home/yt/Desktop/cvpr2014/repro/mediaeval/data/dataset/ContinuousLIRIS-ACCEDE/\"\n",
    "pathcontfeatures = \"/home/yt/Desktop/cvpr2014/repro/mediaeval/data/dataset/Continuous/features-out/\"\n",
    "\n",
    "#ranksFile = '..\\\\annotations\\\\ACCEDEranking.txt'\n",
    "databaseFilesXML = pathlist + 'ACCEDEdescription.xml'\n",
    "movieFilesXML = pathlist + 'ACCEDEmovies.xml'\n",
    "continuousAnnotationsFolder = pathcontinuous +'continuous-annotations/'\n",
    "med2017annotationsFolder = '/home/yt/Desktop/mediaeval2017/MEDIAEVAL17-DevSet-Valence_Arousal-annotations/MEDIAEVAL17-DevSet-Valence_Arousal-annotations/annotations/'\n",
    "med2017fearFolder = '/home/yt/Desktop/mediaeval2017/MEDIAEVAL17-DevSet-Fear-annotations/MEDIAEVAL17-DevSet-Fear-annotations/annotations/'\n",
    "\n",
    "databasefiles= xml2df(databaseFilesXML)\n",
    "moviefiles = xml2df(movieFilesXML)\n",
    "\n",
    "\n",
    "    # Read databaseFilesXML\n",
    "databaseXMLdoc = minidom.parse(databaseFilesXML)\n",
    "idsList = databaseXMLdoc.getElementsByTagName('id')\n",
    "movieFileList = databaseXMLdoc.getElementsByTagName('movie')\n",
    "startFrameList = databaseXMLdoc.getElementsByTagName('start')\n",
    "endFrameList = databaseXMLdoc.getElementsByTagName('end')\n",
    "        \n",
    "    # Read movieFilesXML\n",
    "movieXMLdoc = minidom.parse(movieFilesXML)\n",
    "moviesList = movieXMLdoc.getElementsByTagName('movie')\n",
    "genresList = movieXMLdoc.getElementsByTagName('genre')\n",
    "excerptsList = movieXMLdoc.getElementsByTagName('excerpts')\n",
    "titleList = movieXMLdoc.getElementsByTagName('title')\n",
    "\n",
    "animation = [ ['Big_Buck_Bunny',24],\n",
    "                ['Elephant_s_Dream',24],\n",
    "                ['Origami',24],\n",
    "                ['Sintel',24]]\n",
    "\n",
    "fpsMovie = [['After_The_Rain',23.976],\n",
    "            ['Attitude_Matters',29.97],\n",
    "            ['Barely_legal_stories',23.976],\n",
    "            ['Between_Viewings',25],\n",
    "            #['Big_Buck_Bunny',24],\n",
    "            ['Chatter',24],\n",
    "                ['Cloudland',25],\n",
    "                ['Damaged_Kung_Fu',25],\n",
    "                ['Decay',23.976],\n",
    "                #['Elephant_s_Dream',24],\n",
    "                ['First_Bite',25],\n",
    "                ['Full_Service',29.97],\n",
    "                ['Islands',23.976],\n",
    "                ['Lesson_Learned',29.97],\n",
    "                ['Norm',25],\n",
    "                ['Nuclear_Family',23.976],\n",
    "                ['On_time',30],\n",
    "                #['Origami',24],\n",
    "                ['Parafundit',24],\n",
    "                ['Payload',25],\n",
    "                ['Riding_The_Rails',23.976],\n",
    "                #['Sintel',24],\n",
    "                ['Spaceman',23.976],\n",
    "                ['Superhero',29.97],\n",
    "                ['Tears_of_Steel',24],\n",
    "                ['The_room_of_franz_kafka',29.786],\n",
    "                ['The_secret_number',23.976],\n",
    "                ['To_Claire_From_Sonny',23.976],\n",
    "                ['Wanted',25],\n",
    "                ['You_Again',29.97]]\n",
    "\n",
    "contmovies = pd.DataFrame(fpsMovie,columns=['name','fps'])\n",
    "animovies = pd.DataFrame(animation,columns=['name','fps'])"
   ]
  },
  {
   "cell_type": "code",
   "execution_count": 26,
   "metadata": {
    "collapsed": true
   },
   "outputs": [],
   "source": [
    "def getAnnotationDf(movname,folder):\n",
    "    filename = os.path.join(folder, movname + '-MEDIAEVAL2017-valence_arousal.txt')\n",
    "    annotation = np.genfromtxt(filename, names=True, delimiter='\\t', dtype=None)\n",
    "    df = pd.DataFrame(annotation)\n",
    "    return df\n",
    "\n",
    "def getFearDf(movname,folder):\n",
    "    filename = os.path.join(folder, movname + '-MEDIAEVAL2017-fear.txt')\n",
    "    annotation = np.genfromtxt(filename, names=True, delimiter='\\t', dtype=None)\n",
    "    df = pd.DataFrame(annotation)\n",
    "    return df"
   ]
  },
  {
   "cell_type": "code",
   "execution_count": 27,
   "metadata": {
    "collapsed": false
   },
   "outputs": [
    {
     "data": {
      "text/html": [
       "<div>\n",
       "<table border=\"1\" class=\"dataframe\">\n",
       "  <thead>\n",
       "    <tr style=\"text-align: right;\">\n",
       "      <th></th>\n",
       "      <th>Id</th>\n",
       "      <th>Time</th>\n",
       "      <th>MeanValence</th>\n",
       "      <th>MeanArousal</th>\n",
       "    </tr>\n",
       "  </thead>\n",
       "  <tbody>\n",
       "    <tr>\n",
       "      <th>0</th>\n",
       "      <td>0</td>\n",
       "      <td>0</td>\n",
       "      <td>0.068617</td>\n",
       "      <td>-0.082473</td>\n",
       "    </tr>\n",
       "    <tr>\n",
       "      <th>1</th>\n",
       "      <td>1</td>\n",
       "      <td>5</td>\n",
       "      <td>0.107618</td>\n",
       "      <td>-0.116572</td>\n",
       "    </tr>\n",
       "    <tr>\n",
       "      <th>2</th>\n",
       "      <td>2</td>\n",
       "      <td>10</td>\n",
       "      <td>0.189917</td>\n",
       "      <td>-0.076415</td>\n",
       "    </tr>\n",
       "    <tr>\n",
       "      <th>3</th>\n",
       "      <td>3</td>\n",
       "      <td>15</td>\n",
       "      <td>0.294732</td>\n",
       "      <td>0.019456</td>\n",
       "    </tr>\n",
       "    <tr>\n",
       "      <th>4</th>\n",
       "      <td>4</td>\n",
       "      <td>20</td>\n",
       "      <td>0.393728</td>\n",
       "      <td>0.141223</td>\n",
       "    </tr>\n",
       "  </tbody>\n",
       "</table>\n",
       "</div>"
      ],
      "text/plain": [
       "   Id  Time  MeanValence  MeanArousal\n",
       "0   0     0     0.068617    -0.082473\n",
       "1   1     5     0.107618    -0.116572\n",
       "2   2    10     0.189917    -0.076415\n",
       "3   3    15     0.294732     0.019456\n",
       "4   4    20     0.393728     0.141223"
      ]
     },
     "execution_count": 27,
     "metadata": {},
     "output_type": "execute_result"
    }
   ],
   "source": [
    "getAnnotationDf('Big_Buck_Bunny',med2017annotationsFolder).head()"
   ]
  },
  {
   "cell_type": "code",
   "execution_count": 47,
   "metadata": {
    "collapsed": false
   },
   "outputs": [
    {
     "data": {
      "text/plain": [
       "[200, 205]"
      ]
     },
     "execution_count": 47,
     "metadata": {},
     "output_type": "execute_result"
    }
   ],
   "source": [
    "x = getFearDf('Big_Buck_Bunny',med2017fearFolder)\n",
    "list(x[x.Fear > 0]['Time'])\n",
    "#df[df['coverage'] > 50]"
   ]
  },
  {
   "cell_type": "code",
   "execution_count": 50,
   "metadata": {
    "collapsed": true
   },
   "outputs": [],
   "source": [
    "import matplotlib.pyplot as plt\n",
    "import numpy as np\n",
    "\n",
    "from matplotlib.patches import Circle\n",
    "from matplotlib.offsetbox import (TextArea, DrawingArea, OffsetImage,\n",
    "                                  AnnotationBbox)\n",
    "from matplotlib.cbook import get_sample_data\n",
    "\n",
    "def displayAV(df, feardf,col='b'):\n",
    "    #plt.figure(figsize=(10,10))\n",
    "    fig, ax = plt.subplots(figsize=(10,10))\n",
    "\n",
    "    for i in range(len(df)):\n",
    "        xy = (df.MeanValence[i], df.MeanArousal[i])\n",
    "        ax.plot(xy[0], xy[1], \"ob\")\n",
    "        # Annotate the 1st position with another text box ('Test')\n",
    "        offsetbox = TextArea(str(df.Time[i]), minimumdescent=False)\n",
    "\n",
    "        ab = AnnotationBbox(offsetbox, xy,\n",
    "                        xybox=(-20, 40),\n",
    "                        xycoords='data',\n",
    "                        boxcoords=\"offset points\",\n",
    "                        arrowprops=dict(arrowstyle=\"->\",connectionstyle=\"angle,angleA=0,angleB=90,rad=3\")\n",
    "                    )\n",
    "\n",
    "        fearlist = list(feardf[ feardf.Fear > 0 ]['Time'])\n",
    "        if (df.Time[i] in fearlist):\n",
    "            ax.add_artist(ab)\n",
    "        # Fix the display limits to see everything\n",
    "    ax.set_xlim(-1, 1)\n",
    "    ax.set_ylim(-1, 1)\n",
    "    ax.grid()\n",
    "\n",
    "    plt.show()\n"
   ]
  },
  {
   "cell_type": "code",
   "execution_count": 53,
   "metadata": {
    "collapsed": false
   },
   "outputs": [
    {
     "data": {
      "image/png": "[encoded data removed]",
      "text/plain": [
       "<matplotlib.figure.Figure at 0x7f8feda89350>"
      ]
     },
     "metadata": {},
     "output_type": "display_data"
    }
   ],
   "source": [
    "moviename= 'Spaceman'\n",
    "displayAV(getAnnotationDf(moviename,med2017annotationsFolder),getFearDf(moviename,med2017fearFolder))"
   ]
  },
  {
   "cell_type": "code",
   "execution_count": null,
   "metadata": {
    "collapsed": true
   },
   "outputs": [],
   "source": []
  }
 ],
 "metadata": {
  "kernelspec": {
   "display_name": "Python 2",
   "language": "python",
   "name": "python2"
  },
  "language_info": {
   "codemirror_mode": {
    "name": "ipython",
    "version": 2
   },
   "file_extension": ".py",
   "mimetype": "text/x-python",
   "name": "python",
   "nbconvert_exporter": "python",
   "pygments_lexer": "ipython2",
   "version": "2.7.11"
  }
 },
 "nbformat": 4,
 "nbformat_minor": 0
}
