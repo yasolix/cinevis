{
 "cells": [
  {
   "cell_type": "code",
   "execution_count": 10,
   "metadata": {},
   "outputs": [],
   "source": [
    "import medfunc as mf\n",
    "import glob"
   ]
  },
  {
   "cell_type": "code",
   "execution_count": 11,
   "metadata": {},
   "outputs": [
    {
     "name": "stdout",
     "output_type": "stream",
     "text": [
      "['MEDIAEVAL17_00', 'MEDIAEVAL17_01', 'MEDIAEVAL17_02', 'MEDIAEVAL17_03', 'MEDIAEVAL17_04', 'MEDIAEVAL17_05', 'MEDIAEVAL17_06', 'MEDIAEVAL17_07', 'MEDIAEVAL17_08', 'MEDIAEVAL17_09', 'MEDIAEVAL17_10', 'MEDIAEVAL17_11', 'MEDIAEVAL17_12', 'MEDIAEVAL17_13']\n"
     ]
    }
   ],
   "source": [
    "files = glob.glob(mf.med2017datafolderTest+'*')\n",
    "testmovienames =[ f.split('/')[-1].replace('.mp4','') for f in sorted(files) ]\n",
    "print(testmovienames)"
   ]
  },
  {
   "cell_type": "code",
   "execution_count": 12,
   "metadata": {
    "collapsed": true
   },
   "outputs": [],
   "source": [
    "files = glob.glob(mf.devdatacontinous+'*')\n",
    "devmovienames =[ f.split('/')[-1].replace('.mp4','') for f in sorted(files) ]"
   ]
  },
  {
   "cell_type": "code",
   "execution_count": null,
   "metadata": {},
   "outputs": [],
   "source": []
  },
  {
   "cell_type": "code",
   "execution_count": null,
   "metadata": {
    "collapsed": true
   },
   "outputs": [],
   "source": []
  }
 ],
 "metadata": {
  "kernelspec": {
   "display_name": "Python 3",
   "language": "python",
   "name": "python3"
  },
  "language_info": {
   "codemirror_mode": {
    "name": "ipython",
    "version": 3
   },
   "file_extension": ".py",
   "mimetype": "text/x-python",
   "name": "python",
   "nbconvert_exporter": "python",
   "pygments_lexer": "ipython3",
   "version": "3.6.1"
  }
 },
 "nbformat": 4,
 "nbformat_minor": 2
}
