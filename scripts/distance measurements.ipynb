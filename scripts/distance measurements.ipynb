{
 "cells": [
  {
   "cell_type": "code",
   "execution_count": 1,
   "metadata": {
    "collapsed": true
   },
   "outputs": [],
   "source": [
    "import numpy as np"
   ]
  },
  {
   "cell_type": "code",
   "execution_count": 3,
   "metadata": {
    "collapsed": true
   },
   "outputs": [],
   "source": [
    "#I have an n by m array a, where m > 3.\n",
    "#I want to calculate the Eculidean distance between \n",
    "#the second data point a[1,:] to all the other points \n",
    "#(including itself). So I used the np.linalg.norm, \n",
    "#which outputs the norm of two given points. \n",
    "#But I don't know if this is the right way of getting the EDs.\n",
    "\n",
    "\n",
    "a = np.array([[0, 0, 0 ,0 ], [1, 1 , 1, 1],[2,2, 2, 3], [3,5, 1, 5]])\n",
    "N = a.shape[0] # number of row\n",
    "pos = a[1,:] # pick out the second data point. \n",
    "dist = np.zeros((N,1), dtype=np.float64)\n",
    "\n",
    "for i in range(N):\n",
    "    dist[i]= np.linalg.norm(a[i,:] - pos)\n",
    "\n"
   ]
  },
  {
   "cell_type": "markdown",
   "metadata": {},
   "source": [
    "A norm is a function that takes a vector as an input and returns a scalar value that can be interpreted as the \"size\", \"length\" or \"magnitude\" of that vector. More formally, norms are defined as having the following mathematical properties:\n",
    "\n",
    "    They scale multiplicatively, i.e. Norm(a·v) = |a|·Norm(v) for any scalar a\n",
    "    They satisfy the triangle inequality, i.e. Norm(u + v) ≤ Norm(u) + Norm(v)\n",
    "    The norm of a vector is zero if and only if it is the zero vector, i.e. Norm(v) = 0 ⇔ v = 0\n",
    "\n",
    "The Euclidean norm (also known as the L² norm) is just one of many different norms - there is also the max norm, the Manhattan norm etc. The L² norm of a single vector is equivalent to the Euclidean distance from that point to the origin, and the L² norm of the difference between two vectors is equivalent to the Euclidean distance between the two points.\n",
    "\n",
    "As @nobar's answer says, np.linalg.norm(x - y, ord=2) (or just np.linalg.norm(x - y)) will give you Euclidean distance between the vectors x and y.\n",
    "\n",
    "Since you want to compute the Euclidean distance between a[1, :] and every other row in a, you could do this a lot faster by eliminating the for loop and broadcasting over the rows of a:\n",
    "\n"
   ]
  },
  {
   "cell_type": "code",
   "execution_count": 4,
   "metadata": {
    "collapsed": false
   },
   "outputs": [],
   "source": [
    "dist = np.linalg.norm(a[1:2] - a, axis=1)"
   ]
  },
  {
   "cell_type": "code",
   "execution_count": 5,
   "metadata": {
    "collapsed": true
   },
   "outputs": [],
   "source": [
    "#It's also easy to compute the Euclidean distance yourself using broadcasting:\n",
    "\n",
    "dist = np.sqrt(((a[1:2] - a) ** 2).sum(1))\n",
    "\n"
   ]
  },
  {
   "cell_type": "code",
   "execution_count": 6,
   "metadata": {
    "collapsed": true
   },
   "outputs": [],
   "source": [
    "from scipy.spatial.distance import cdist\n",
    "\n",
    "dist = cdist(a[1:2], a)[0]\n",
    "\n"
   ]
  },
  {
   "cell_type": "code",
   "execution_count": 7,
   "metadata": {
    "collapsed": false
   },
   "outputs": [
    {
     "name": "stdout",
     "output_type": "stream",
     "text": [
      "100 loops, best of 3: 14.5 ms per loop\n",
      "100 loops, best of 3: 14 ms per loop\n",
      "1000 loops, best of 3: 644 µs per loop\n"
     ]
    }
   ],
   "source": [
    "a = np.random.randn(1000, 1000)\n",
    "\n",
    "%timeit np.linalg.norm(a[1:2] - a, axis=1)\n",
    "# 100 loops, best of 3: 5.43 ms per loop\n",
    "\n",
    "%timeit np.sqrt(((a[1:2] - a) ** 2).sum(1))\n",
    "# 100 loops, best of 3: 5.5 ms per loop\n",
    "\n",
    "%timeit cdist(a[1:2], a)[0]\n",
    "# 1000 loops, best of 3: 1.38 ms per loop\n",
    "\n",
    "# check that all 3 methods return the same result\n",
    "d1 = np.linalg.norm(a[1:2] - a, axis=1)\n",
    "d2 = np.sqrt(((a[1:2] - a) ** 2).sum(1))\n",
    "d3 = cdist(a[1:2], a)[0]\n",
    "\n",
    "assert np.allclose(d1, d2) and np.allclose(d1, d3)"
   ]
  },
  {
   "cell_type": "code",
   "execution_count": null,
   "metadata": {
    "collapsed": true
   },
   "outputs": [],
   "source": []
  }
 ],
 "metadata": {
  "kernelspec": {
   "display_name": "Python 2",
   "language": "python",
   "name": "python2"
  },
  "language_info": {
   "codemirror_mode": {
    "name": "ipython",
    "version": 2
   },
   "file_extension": ".py",
   "mimetype": "text/x-python",
   "name": "python",
   "nbconvert_exporter": "python",
   "pygments_lexer": "ipython2",
   "version": "2.7.11"
  }
 },
 "nbformat": 4,
 "nbformat_minor": 0
}
